{
 "cells": [
  {
   "cell_type": "markdown",
   "id": "925c879b",
   "metadata": {},
   "source": [
    "## NYC Property Sales Introduction"
   ]
  },
  {
   "cell_type": "markdown",
   "id": "9a8ee793",
   "metadata": {},
   "source": [
    "The aim of this projects is to introduce you to practical statistic with Python as concrete and as consistent as possible. Using what you’ve learned; download the NYC Property Sales Dataset from Kaggle. This dataset is a record of every building or building unit (apartment, etc.) sold in the New York City property market over a 12-month period.\n",
    "\n",
    "This dataset contains the location, address, type, sale price, and sale date of building units sold. A reference on the trickier fields:\n",
    "\n",
    "BOROUGH: A digit code for the borough the property is located in; in order these are Manhattan (1), Bronx (2), Brooklyn (3), Queens (4), and Staten Island (5).\n",
    "BLOCK; LOT: The combination of borough, block, and lot forms a unique key for property in New York City. Commonly called a BBL.\n",
    "BUILDING CLASS AT PRESENT and BUILDING CLASS AT TIME OF SALE: The type of building at various points in time.\n",
    "\n",
    "Note that because this is a financial transaction dataset, there are some points that need to be kept in mind:\n",
    "\n",
    "Many sales occur with a nonsensically small dollar amount: $0 most commonly. These sales are actually transfers of deeds between parties: for example, parents transferring ownership to their home to a child after moving out for retirement.\n",
    "This dataset uses the financial definition of a building/building unit, for tax purposes. In case a single entity owns the building in question, a sale covers the value of the entire building. In case a building is owned piecemeal by its residents (a condominium), a sale refers to a single apartment (or group of apartments) owned by some individual."
   ]
  },
  {
   "cell_type": "code",
   "execution_count": 1,
   "id": "ef6e4ff9",
   "metadata": {},
   "outputs": [],
   "source": [
    "import matplotlib.pyplot as plt\n",
    "import pandas as pd\n",
    "import numpy as np\n",
    "import seaborn as sns\n",
    "import scipy.stats as stats\n",
    "import statsmodels.api as sm\n",
    "import statistics\n",
    "import scipy.stats\n",
    "import matplotlib.pyplot as plt\n",
    "from scipy.stats import uniform, norm, gamma,expon, poisson, binom, bernoulli,ttest_1samp"
   ]
  },
  {
   "cell_type": "code",
   "execution_count": 2,
   "id": "2baadda4",
   "metadata": {
    "scrolled": true
   },
   "outputs": [
    {
     "data": {
      "text/html": [
       "<div>\n",
       "<style scoped>\n",
       "    .dataframe tbody tr th:only-of-type {\n",
       "        vertical-align: middle;\n",
       "    }\n",
       "\n",
       "    .dataframe tbody tr th {\n",
       "        vertical-align: top;\n",
       "    }\n",
       "\n",
       "    .dataframe thead th {\n",
       "        text-align: right;\n",
       "    }\n",
       "</style>\n",
       "<table border=\"1\" class=\"dataframe\">\n",
       "  <thead>\n",
       "    <tr style=\"text-align: right;\">\n",
       "      <th></th>\n",
       "      <th>Unnamed: 0</th>\n",
       "      <th>BOROUGH</th>\n",
       "      <th>NEIGHBORHOOD</th>\n",
       "      <th>BUILDING CLASS CATEGORY</th>\n",
       "      <th>TAX CLASS AT PRESENT</th>\n",
       "      <th>BLOCK</th>\n",
       "      <th>LOT</th>\n",
       "      <th>EASE-MENT</th>\n",
       "      <th>BUILDING CLASS AT PRESENT</th>\n",
       "      <th>ADDRESS</th>\n",
       "      <th>...</th>\n",
       "      <th>RESIDENTIAL UNITS</th>\n",
       "      <th>COMMERCIAL UNITS</th>\n",
       "      <th>TOTAL UNITS</th>\n",
       "      <th>LAND SQUARE FEET</th>\n",
       "      <th>GROSS SQUARE FEET</th>\n",
       "      <th>YEAR BUILT</th>\n",
       "      <th>TAX CLASS AT TIME OF SALE</th>\n",
       "      <th>BUILDING CLASS AT TIME OF SALE</th>\n",
       "      <th>SALE PRICE</th>\n",
       "      <th>SALE DATE</th>\n",
       "    </tr>\n",
       "  </thead>\n",
       "  <tbody>\n",
       "    <tr>\n",
       "      <th>0</th>\n",
       "      <td>4</td>\n",
       "      <td>1</td>\n",
       "      <td>ALPHABET CITY</td>\n",
       "      <td>07 RENTALS - WALKUP APARTMENTS</td>\n",
       "      <td>2A</td>\n",
       "      <td>392</td>\n",
       "      <td>6</td>\n",
       "      <td></td>\n",
       "      <td>C2</td>\n",
       "      <td>153 AVENUE B</td>\n",
       "      <td>...</td>\n",
       "      <td>5</td>\n",
       "      <td>0</td>\n",
       "      <td>5</td>\n",
       "      <td>1633</td>\n",
       "      <td>6440</td>\n",
       "      <td>1900</td>\n",
       "      <td>2</td>\n",
       "      <td>C2</td>\n",
       "      <td>6625000</td>\n",
       "      <td>2017-07-19 00:00:00</td>\n",
       "    </tr>\n",
       "    <tr>\n",
       "      <th>1</th>\n",
       "      <td>5</td>\n",
       "      <td>1</td>\n",
       "      <td>ALPHABET CITY</td>\n",
       "      <td>07 RENTALS - WALKUP APARTMENTS</td>\n",
       "      <td>2</td>\n",
       "      <td>399</td>\n",
       "      <td>26</td>\n",
       "      <td></td>\n",
       "      <td>C7</td>\n",
       "      <td>234 EAST 4TH   STREET</td>\n",
       "      <td>...</td>\n",
       "      <td>28</td>\n",
       "      <td>3</td>\n",
       "      <td>31</td>\n",
       "      <td>4616</td>\n",
       "      <td>18690</td>\n",
       "      <td>1900</td>\n",
       "      <td>2</td>\n",
       "      <td>C7</td>\n",
       "      <td>-</td>\n",
       "      <td>2016-12-14 00:00:00</td>\n",
       "    </tr>\n",
       "    <tr>\n",
       "      <th>2</th>\n",
       "      <td>6</td>\n",
       "      <td>1</td>\n",
       "      <td>ALPHABET CITY</td>\n",
       "      <td>07 RENTALS - WALKUP APARTMENTS</td>\n",
       "      <td>2</td>\n",
       "      <td>399</td>\n",
       "      <td>39</td>\n",
       "      <td></td>\n",
       "      <td>C7</td>\n",
       "      <td>197 EAST 3RD   STREET</td>\n",
       "      <td>...</td>\n",
       "      <td>16</td>\n",
       "      <td>1</td>\n",
       "      <td>17</td>\n",
       "      <td>2212</td>\n",
       "      <td>7803</td>\n",
       "      <td>1900</td>\n",
       "      <td>2</td>\n",
       "      <td>C7</td>\n",
       "      <td>-</td>\n",
       "      <td>2016-12-09 00:00:00</td>\n",
       "    </tr>\n",
       "    <tr>\n",
       "      <th>3</th>\n",
       "      <td>7</td>\n",
       "      <td>1</td>\n",
       "      <td>ALPHABET CITY</td>\n",
       "      <td>07 RENTALS - WALKUP APARTMENTS</td>\n",
       "      <td>2B</td>\n",
       "      <td>402</td>\n",
       "      <td>21</td>\n",
       "      <td></td>\n",
       "      <td>C4</td>\n",
       "      <td>154 EAST 7TH STREET</td>\n",
       "      <td>...</td>\n",
       "      <td>10</td>\n",
       "      <td>0</td>\n",
       "      <td>10</td>\n",
       "      <td>2272</td>\n",
       "      <td>6794</td>\n",
       "      <td>1913</td>\n",
       "      <td>2</td>\n",
       "      <td>C4</td>\n",
       "      <td>3936272</td>\n",
       "      <td>2016-09-23 00:00:00</td>\n",
       "    </tr>\n",
       "    <tr>\n",
       "      <th>4</th>\n",
       "      <td>8</td>\n",
       "      <td>1</td>\n",
       "      <td>ALPHABET CITY</td>\n",
       "      <td>07 RENTALS - WALKUP APARTMENTS</td>\n",
       "      <td>2A</td>\n",
       "      <td>404</td>\n",
       "      <td>55</td>\n",
       "      <td></td>\n",
       "      <td>C2</td>\n",
       "      <td>301 EAST 10TH   STREET</td>\n",
       "      <td>...</td>\n",
       "      <td>6</td>\n",
       "      <td>0</td>\n",
       "      <td>6</td>\n",
       "      <td>2369</td>\n",
       "      <td>4615</td>\n",
       "      <td>1900</td>\n",
       "      <td>2</td>\n",
       "      <td>C2</td>\n",
       "      <td>8000000</td>\n",
       "      <td>2016-11-17 00:00:00</td>\n",
       "    </tr>\n",
       "  </tbody>\n",
       "</table>\n",
       "<p>5 rows × 22 columns</p>\n",
       "</div>"
      ],
      "text/plain": [
       "   Unnamed: 0  BOROUGH   NEIGHBORHOOD  \\\n",
       "0           4        1  ALPHABET CITY   \n",
       "1           5        1  ALPHABET CITY   \n",
       "2           6        1  ALPHABET CITY   \n",
       "3           7        1  ALPHABET CITY   \n",
       "4           8        1  ALPHABET CITY   \n",
       "\n",
       "                       BUILDING CLASS CATEGORY TAX CLASS AT PRESENT  BLOCK  \\\n",
       "0  07 RENTALS - WALKUP APARTMENTS                                2A    392   \n",
       "1  07 RENTALS - WALKUP APARTMENTS                                 2    399   \n",
       "2  07 RENTALS - WALKUP APARTMENTS                                 2    399   \n",
       "3  07 RENTALS - WALKUP APARTMENTS                                2B    402   \n",
       "4  07 RENTALS - WALKUP APARTMENTS                                2A    404   \n",
       "\n",
       "   LOT EASE-MENT BUILDING CLASS AT PRESENT                 ADDRESS  ...  \\\n",
       "0    6                                  C2            153 AVENUE B  ...   \n",
       "1   26                                  C7   234 EAST 4TH   STREET  ...   \n",
       "2   39                                  C7   197 EAST 3RD   STREET  ...   \n",
       "3   21                                  C4     154 EAST 7TH STREET  ...   \n",
       "4   55                                  C2  301 EAST 10TH   STREET  ...   \n",
       "\n",
       "  RESIDENTIAL UNITS  COMMERCIAL UNITS  TOTAL UNITS  LAND SQUARE FEET  \\\n",
       "0                 5                 0            5              1633   \n",
       "1                28                 3           31              4616   \n",
       "2                16                 1           17              2212   \n",
       "3                10                 0           10              2272   \n",
       "4                 6                 0            6              2369   \n",
       "\n",
       "   GROSS SQUARE FEET YEAR BUILT TAX CLASS AT TIME OF SALE  \\\n",
       "0               6440       1900                         2   \n",
       "1              18690       1900                         2   \n",
       "2               7803       1900                         2   \n",
       "3               6794       1913                         2   \n",
       "4               4615       1900                         2   \n",
       "\n",
       "   BUILDING CLASS AT TIME OF SALE  SALE PRICE            SALE DATE  \n",
       "0                              C2     6625000  2017-07-19 00:00:00  \n",
       "1                              C7         -    2016-12-14 00:00:00  \n",
       "2                              C7         -    2016-12-09 00:00:00  \n",
       "3                              C4     3936272  2016-09-23 00:00:00  \n",
       "4                              C2     8000000  2016-11-17 00:00:00  \n",
       "\n",
       "[5 rows x 22 columns]"
      ]
     },
     "execution_count": 2,
     "metadata": {},
     "output_type": "execute_result"
    }
   ],
   "source": [
    "# load dataset\n",
    "df_nyc= pd.read_csv(\"dataset/nyc-rolling-sales.csv\")\n",
    "df_nyc.head()"
   ]
  },
  {
   "cell_type": "code",
   "execution_count": 3,
   "id": "60479b96",
   "metadata": {
    "scrolled": true
   },
   "outputs": [
    {
     "data": {
      "text/html": [
       "<div>\n",
       "<style scoped>\n",
       "    .dataframe tbody tr th:only-of-type {\n",
       "        vertical-align: middle;\n",
       "    }\n",
       "\n",
       "    .dataframe tbody tr th {\n",
       "        vertical-align: top;\n",
       "    }\n",
       "\n",
       "    .dataframe thead th {\n",
       "        text-align: right;\n",
       "    }\n",
       "</style>\n",
       "<table border=\"1\" class=\"dataframe\">\n",
       "  <thead>\n",
       "    <tr style=\"text-align: right;\">\n",
       "      <th></th>\n",
       "      <th>Unnamed: 0</th>\n",
       "      <th>BOROUGH</th>\n",
       "      <th>NEIGHBORHOOD</th>\n",
       "      <th>BUILDING CLASS CATEGORY</th>\n",
       "      <th>TAX CLASS AT PRESENT</th>\n",
       "      <th>BLOCK</th>\n",
       "      <th>LOT</th>\n",
       "      <th>EASE-MENT</th>\n",
       "      <th>BUILDING CLASS AT PRESENT</th>\n",
       "      <th>ADDRESS</th>\n",
       "      <th>...</th>\n",
       "      <th>RESIDENTIAL UNITS</th>\n",
       "      <th>COMMERCIAL UNITS</th>\n",
       "      <th>TOTAL UNITS</th>\n",
       "      <th>LAND SQUARE FEET</th>\n",
       "      <th>GROSS SQUARE FEET</th>\n",
       "      <th>YEAR BUILT</th>\n",
       "      <th>TAX CLASS AT TIME OF SALE</th>\n",
       "      <th>BUILDING CLASS AT TIME OF SALE</th>\n",
       "      <th>SALE PRICE</th>\n",
       "      <th>SALE DATE</th>\n",
       "    </tr>\n",
       "  </thead>\n",
       "  <tbody>\n",
       "    <tr>\n",
       "      <th>84543</th>\n",
       "      <td>8409</td>\n",
       "      <td>5</td>\n",
       "      <td>WOODROW</td>\n",
       "      <td>02 TWO FAMILY DWELLINGS</td>\n",
       "      <td>1</td>\n",
       "      <td>7349</td>\n",
       "      <td>34</td>\n",
       "      <td></td>\n",
       "      <td>B9</td>\n",
       "      <td>37 QUAIL LANE</td>\n",
       "      <td>...</td>\n",
       "      <td>2</td>\n",
       "      <td>0</td>\n",
       "      <td>2</td>\n",
       "      <td>2400</td>\n",
       "      <td>2575</td>\n",
       "      <td>1998</td>\n",
       "      <td>1</td>\n",
       "      <td>B9</td>\n",
       "      <td>450000</td>\n",
       "      <td>2016-11-28 00:00:00</td>\n",
       "    </tr>\n",
       "    <tr>\n",
       "      <th>84544</th>\n",
       "      <td>8410</td>\n",
       "      <td>5</td>\n",
       "      <td>WOODROW</td>\n",
       "      <td>02 TWO FAMILY DWELLINGS</td>\n",
       "      <td>1</td>\n",
       "      <td>7349</td>\n",
       "      <td>78</td>\n",
       "      <td></td>\n",
       "      <td>B9</td>\n",
       "      <td>32 PHEASANT LANE</td>\n",
       "      <td>...</td>\n",
       "      <td>2</td>\n",
       "      <td>0</td>\n",
       "      <td>2</td>\n",
       "      <td>2498</td>\n",
       "      <td>2377</td>\n",
       "      <td>1998</td>\n",
       "      <td>1</td>\n",
       "      <td>B9</td>\n",
       "      <td>550000</td>\n",
       "      <td>2017-04-21 00:00:00</td>\n",
       "    </tr>\n",
       "    <tr>\n",
       "      <th>84545</th>\n",
       "      <td>8411</td>\n",
       "      <td>5</td>\n",
       "      <td>WOODROW</td>\n",
       "      <td>02 TWO FAMILY DWELLINGS</td>\n",
       "      <td>1</td>\n",
       "      <td>7351</td>\n",
       "      <td>60</td>\n",
       "      <td></td>\n",
       "      <td>B2</td>\n",
       "      <td>49 PITNEY AVENUE</td>\n",
       "      <td>...</td>\n",
       "      <td>2</td>\n",
       "      <td>0</td>\n",
       "      <td>2</td>\n",
       "      <td>4000</td>\n",
       "      <td>1496</td>\n",
       "      <td>1925</td>\n",
       "      <td>1</td>\n",
       "      <td>B2</td>\n",
       "      <td>460000</td>\n",
       "      <td>2017-07-05 00:00:00</td>\n",
       "    </tr>\n",
       "    <tr>\n",
       "      <th>84546</th>\n",
       "      <td>8412</td>\n",
       "      <td>5</td>\n",
       "      <td>WOODROW</td>\n",
       "      <td>22 STORE BUILDINGS</td>\n",
       "      <td>4</td>\n",
       "      <td>7100</td>\n",
       "      <td>28</td>\n",
       "      <td></td>\n",
       "      <td>K6</td>\n",
       "      <td>2730 ARTHUR KILL ROAD</td>\n",
       "      <td>...</td>\n",
       "      <td>0</td>\n",
       "      <td>7</td>\n",
       "      <td>7</td>\n",
       "      <td>208033</td>\n",
       "      <td>64117</td>\n",
       "      <td>2001</td>\n",
       "      <td>4</td>\n",
       "      <td>K6</td>\n",
       "      <td>11693337</td>\n",
       "      <td>2016-12-21 00:00:00</td>\n",
       "    </tr>\n",
       "    <tr>\n",
       "      <th>84547</th>\n",
       "      <td>8413</td>\n",
       "      <td>5</td>\n",
       "      <td>WOODROW</td>\n",
       "      <td>35 INDOOR PUBLIC AND CULTURAL FACILITIES</td>\n",
       "      <td>4</td>\n",
       "      <td>7105</td>\n",
       "      <td>679</td>\n",
       "      <td></td>\n",
       "      <td>P9</td>\n",
       "      <td>155 CLAY PIT ROAD</td>\n",
       "      <td>...</td>\n",
       "      <td>0</td>\n",
       "      <td>1</td>\n",
       "      <td>1</td>\n",
       "      <td>10796</td>\n",
       "      <td>2400</td>\n",
       "      <td>2006</td>\n",
       "      <td>4</td>\n",
       "      <td>P9</td>\n",
       "      <td>69300</td>\n",
       "      <td>2016-10-27 00:00:00</td>\n",
       "    </tr>\n",
       "  </tbody>\n",
       "</table>\n",
       "<p>5 rows × 22 columns</p>\n",
       "</div>"
      ],
      "text/plain": [
       "       Unnamed: 0  BOROUGH NEIGHBORHOOD  \\\n",
       "84543        8409        5      WOODROW   \n",
       "84544        8410        5      WOODROW   \n",
       "84545        8411        5      WOODROW   \n",
       "84546        8412        5      WOODROW   \n",
       "84547        8413        5      WOODROW   \n",
       "\n",
       "                           BUILDING CLASS CATEGORY TAX CLASS AT PRESENT  \\\n",
       "84543  02 TWO FAMILY DWELLINGS                                        1   \n",
       "84544  02 TWO FAMILY DWELLINGS                                        1   \n",
       "84545  02 TWO FAMILY DWELLINGS                                        1   \n",
       "84546  22 STORE BUILDINGS                                             4   \n",
       "84547  35 INDOOR PUBLIC AND CULTURAL FACILITIES                       4   \n",
       "\n",
       "       BLOCK  LOT EASE-MENT BUILDING CLASS AT PRESENT                ADDRESS  \\\n",
       "84543   7349   34                                  B9          37 QUAIL LANE   \n",
       "84544   7349   78                                  B9       32 PHEASANT LANE   \n",
       "84545   7351   60                                  B2       49 PITNEY AVENUE   \n",
       "84546   7100   28                                  K6  2730 ARTHUR KILL ROAD   \n",
       "84547   7105  679                                  P9      155 CLAY PIT ROAD   \n",
       "\n",
       "       ... RESIDENTIAL UNITS  COMMERCIAL UNITS  TOTAL UNITS  LAND SQUARE FEET  \\\n",
       "84543  ...                 2                 0            2              2400   \n",
       "84544  ...                 2                 0            2              2498   \n",
       "84545  ...                 2                 0            2              4000   \n",
       "84546  ...                 0                 7            7            208033   \n",
       "84547  ...                 0                 1            1             10796   \n",
       "\n",
       "       GROSS SQUARE FEET YEAR BUILT TAX CLASS AT TIME OF SALE  \\\n",
       "84543               2575       1998                         1   \n",
       "84544               2377       1998                         1   \n",
       "84545               1496       1925                         1   \n",
       "84546              64117       2001                         4   \n",
       "84547               2400       2006                         4   \n",
       "\n",
       "       BUILDING CLASS AT TIME OF SALE  SALE PRICE            SALE DATE  \n",
       "84543                              B9      450000  2016-11-28 00:00:00  \n",
       "84544                              B9      550000  2017-04-21 00:00:00  \n",
       "84545                              B2      460000  2017-07-05 00:00:00  \n",
       "84546                              K6    11693337  2016-12-21 00:00:00  \n",
       "84547                              P9       69300  2016-10-27 00:00:00  \n",
       "\n",
       "[5 rows x 22 columns]"
      ]
     },
     "execution_count": 3,
     "metadata": {},
     "output_type": "execute_result"
    }
   ],
   "source": [
    "# tail\n",
    "df_nyc.tail()"
   ]
  },
  {
   "cell_type": "markdown",
   "id": "34cb96d2",
   "metadata": {},
   "source": [
    "BOROUGH: A digit code for the borough the property is located in; in order these are Manhattan (1), Bronx (2), Brooklyn (3), Queens (4), and Staten Island (5)."
   ]
  },
  {
   "cell_type": "code",
   "execution_count": 4,
   "id": "c91dba58",
   "metadata": {
    "scrolled": false
   },
   "outputs": [
    {
     "data": {
      "text/plain": [
       "(84548, 22)"
      ]
     },
     "execution_count": 4,
     "metadata": {},
     "output_type": "execute_result"
    }
   ],
   "source": [
    "df_nyc.shape"
   ]
  },
  {
   "cell_type": "code",
   "execution_count": 5,
   "id": "b03c275c",
   "metadata": {},
   "outputs": [],
   "source": [
    "# drop Unnamed and Ease Ment\n",
    "df_nyc.drop(['Unnamed: 0', 'EASE-MENT'], axis='columns', inplace=True)"
   ]
  },
  {
   "cell_type": "markdown",
   "id": "3f0f16ef",
   "metadata": {},
   "source": [
    "According to this official page, Ease-ment is \"is a right, such as a right of way, which allows an entity to make limited use of another’s real property. For example: MTA railroad tracks that run across a portion of another property\". Also, the Unnamed column is not mentioned and was likely used for iterating through records. So, those two columns are removed for now."
   ]
  },
  {
   "cell_type": "code",
   "execution_count": 6,
   "id": "80dce91d",
   "metadata": {
    "scrolled": true
   },
   "outputs": [
    {
     "name": "stdout",
     "output_type": "stream",
     "text": [
      "<class 'pandas.core.frame.DataFrame'>\n",
      "RangeIndex: 84548 entries, 0 to 84547\n",
      "Data columns (total 20 columns):\n",
      " #   Column                          Non-Null Count  Dtype \n",
      "---  ------                          --------------  ----- \n",
      " 0   BOROUGH                         84548 non-null  int64 \n",
      " 1   NEIGHBORHOOD                    84548 non-null  object\n",
      " 2   BUILDING CLASS CATEGORY         84548 non-null  object\n",
      " 3   TAX CLASS AT PRESENT            84548 non-null  object\n",
      " 4   BLOCK                           84548 non-null  int64 \n",
      " 5   LOT                             84548 non-null  int64 \n",
      " 6   BUILDING CLASS AT PRESENT       84548 non-null  object\n",
      " 7   ADDRESS                         84548 non-null  object\n",
      " 8   APARTMENT NUMBER                84548 non-null  object\n",
      " 9   ZIP CODE                        84548 non-null  int64 \n",
      " 10  RESIDENTIAL UNITS               84548 non-null  int64 \n",
      " 11  COMMERCIAL UNITS                84548 non-null  int64 \n",
      " 12  TOTAL UNITS                     84548 non-null  int64 \n",
      " 13  LAND SQUARE FEET                84548 non-null  object\n",
      " 14  GROSS SQUARE FEET               84548 non-null  object\n",
      " 15  YEAR BUILT                      84548 non-null  int64 \n",
      " 16  TAX CLASS AT TIME OF SALE       84548 non-null  int64 \n",
      " 17  BUILDING CLASS AT TIME OF SALE  84548 non-null  object\n",
      " 18  SALE PRICE                      84548 non-null  object\n",
      " 19  SALE DATE                       84548 non-null  object\n",
      "dtypes: int64(9), object(11)\n",
      "memory usage: 12.9+ MB\n"
     ]
    }
   ],
   "source": [
    "df_nyc.info()"
   ]
  },
  {
   "cell_type": "code",
   "execution_count": 7,
   "id": "09698ab9",
   "metadata": {},
   "outputs": [
    {
     "name": "stdout",
     "output_type": "stream",
     "text": [
      "Column name\n",
      "NEIGHBORHOOD 254\n",
      "BUILDING CLASS CATEGORY 47\n",
      "TAX CLASS AT PRESENT 11\n",
      "BUILDING CLASS AT PRESENT 167\n",
      "ADDRESS 67563\n",
      "APARTMENT NUMBER 3989\n",
      "LAND SQUARE FEET 6062\n",
      "GROSS SQUARE FEET 5691\n",
      "BUILDING CLASS AT TIME OF SALE 166\n",
      "SALE PRICE 10008\n",
      "SALE DATE 364\n"
     ]
    }
   ],
   "source": [
    "#First, let's check which columns should be categorical\n",
    "print('Column name')\n",
    "for col in df_nyc.columns:\n",
    "    if df_nyc[col].dtype=='object':\n",
    "        print(col, df_nyc[col].nunique())"
   ]
  },
  {
   "cell_type": "code",
   "execution_count": 8,
   "id": "891924bc",
   "metadata": {},
   "outputs": [],
   "source": [
    "# LAND SQUARE FEET,GROSS SQUARE FEET, SALE PRICE, BOROUGH should be numeric. \n",
    "# SALE DATE datetime format.\n",
    "# categorical: NEIGHBORHOOD, BUILDING CLASS CATEGORY, TAX CLASS AT PRESENT, BUILDING CLASS AT PRESENT,\n",
    "# BUILDING CLASS AT TIME OF SALE, TAX CLASS AT TIME OF SALE,BOROUGH \n",
    "\n",
    "numer = ['LAND SQUARE FEET','GROSS SQUARE FEET', 'SALE PRICE', 'BOROUGH']\n",
    "for col in numer: # coerce for missing values\n",
    "    df_nyc[col] = pd.to_numeric(df_nyc[col], errors='coerce')\n",
    "\n",
    "categ = ['NEIGHBORHOOD', 'BUILDING CLASS CATEGORY', 'TAX CLASS AT PRESENT', 'BUILDING CLASS AT PRESENT', 'BUILDING CLASS AT TIME OF SALE', 'TAX CLASS AT TIME OF SALE']\n",
    "for col in categ:\n",
    "    df_nyc[col] = df_nyc[col].astype('category')\n",
    "\n",
    "df_nyc['SALE DATE'] = pd.to_datetime(df_nyc['SALE DATE'], errors='coerce')"
   ]
  },
  {
   "cell_type": "code",
   "execution_count": 9,
   "id": "03d1fb35",
   "metadata": {
    "scrolled": false
   },
   "outputs": [
    {
     "name": "stdout",
     "output_type": "stream",
     "text": [
      "                  LAND SQUARE FEET  GROSS SQUARE FEET   SALE PRICE\n",
      "percent missing          31.049818          32.658372     17.22217\n",
      "how many missing      26252.000000       27612.000000  14561.00000\n"
     ]
    }
   ],
   "source": [
    "missing = df_nyc.isnull().sum()/len(df_nyc)*100\n",
    "\n",
    "print(pd.DataFrame([missing[missing>0],pd.Series(df_nyc.isnull().sum()[df_nyc.isnull().sum()>1000])], index=['percent missing','how many missing']))"
   ]
  },
  {
   "cell_type": "markdown",
   "id": "1aba18a3",
   "metadata": {},
   "source": [
    "Around 30% of GROSS SF and LAND SF are missing. Furthermore, around 17% of SALE PRICE is also missing.\n",
    "\n",
    "We can fill in the missing value from one column to another, which will help us reduce missing values. Expected values:\n",
    "\n",
    "(6, 20)\n",
    "\n",
    "(1366, 20)"
   ]
  },
  {
   "cell_type": "code",
   "execution_count": 10,
   "id": "3274d8e2",
   "metadata": {},
   "outputs": [
    {
     "name": "stdout",
     "output_type": "stream",
     "text": [
      "(6, 20)\n",
      "(1366, 20)\n"
     ]
    }
   ],
   "source": [
    "print(df_nyc[(df_nyc['LAND SQUARE FEET'].isnull()) & (df_nyc['GROSS SQUARE FEET'].notnull())].shape)\n",
    "print(df_nyc[(df_nyc['LAND SQUARE FEET'].notnull()) & (df_nyc['GROSS SQUARE FEET'].isnull())].shape)"
   ]
  },
  {
   "cell_type": "markdown",
   "id": "17d98986",
   "metadata": {},
   "source": [
    "There are 1372 rows that can be filled in with their approximate values."
   ]
  },
  {
   "cell_type": "code",
   "execution_count": 11,
   "id": "d665382a",
   "metadata": {},
   "outputs": [],
   "source": [
    "df_nyc['LAND SQUARE FEET'] = df_nyc['LAND SQUARE FEET'].mask((df_nyc['LAND SQUARE FEET'].isnull()) & (df_nyc['GROSS SQUARE FEET'].notnull()), df_nyc['GROSS SQUARE FEET'])\n",
    "df_nyc['GROSS SQUARE FEET'] = df_nyc['GROSS SQUARE FEET'].mask((df_nyc['LAND SQUARE FEET'].notnull()) & (df_nyc['GROSS SQUARE FEET'].isnull()), df_nyc['LAND SQUARE FEET'])"
   ]
  },
  {
   "cell_type": "code",
   "execution_count": 12,
   "id": "5923795b",
   "metadata": {
    "scrolled": true
   },
   "outputs": [
    {
     "name": "stdout",
     "output_type": "stream",
     "text": [
      "765\n"
     ]
    },
    {
     "data": {
      "text/html": [
       "<div>\n",
       "<style scoped>\n",
       "    .dataframe tbody tr th:only-of-type {\n",
       "        vertical-align: middle;\n",
       "    }\n",
       "\n",
       "    .dataframe tbody tr th {\n",
       "        vertical-align: top;\n",
       "    }\n",
       "\n",
       "    .dataframe thead th {\n",
       "        text-align: right;\n",
       "    }\n",
       "</style>\n",
       "<table border=\"1\" class=\"dataframe\">\n",
       "  <thead>\n",
       "    <tr style=\"text-align: right;\">\n",
       "      <th></th>\n",
       "      <th>BOROUGH</th>\n",
       "      <th>NEIGHBORHOOD</th>\n",
       "      <th>BUILDING CLASS CATEGORY</th>\n",
       "      <th>TAX CLASS AT PRESENT</th>\n",
       "      <th>BLOCK</th>\n",
       "      <th>LOT</th>\n",
       "      <th>BUILDING CLASS AT PRESENT</th>\n",
       "      <th>ADDRESS</th>\n",
       "      <th>APARTMENT NUMBER</th>\n",
       "      <th>ZIP CODE</th>\n",
       "      <th>RESIDENTIAL UNITS</th>\n",
       "      <th>COMMERCIAL UNITS</th>\n",
       "      <th>TOTAL UNITS</th>\n",
       "      <th>LAND SQUARE FEET</th>\n",
       "      <th>GROSS SQUARE FEET</th>\n",
       "      <th>YEAR BUILT</th>\n",
       "      <th>TAX CLASS AT TIME OF SALE</th>\n",
       "      <th>BUILDING CLASS AT TIME OF SALE</th>\n",
       "      <th>SALE PRICE</th>\n",
       "      <th>SALE DATE</th>\n",
       "    </tr>\n",
       "  </thead>\n",
       "  <tbody>\n",
       "    <tr>\n",
       "      <th>76286</th>\n",
       "      <td>5</td>\n",
       "      <td>ANNADALE</td>\n",
       "      <td>02 TWO FAMILY DWELLINGS</td>\n",
       "      <td>1</td>\n",
       "      <td>6350</td>\n",
       "      <td>7</td>\n",
       "      <td>B2</td>\n",
       "      <td>106 BENNETT PLACE</td>\n",
       "      <td></td>\n",
       "      <td>10312</td>\n",
       "      <td>2</td>\n",
       "      <td>0</td>\n",
       "      <td>2</td>\n",
       "      <td>8000.0</td>\n",
       "      <td>4208.0</td>\n",
       "      <td>1985</td>\n",
       "      <td>1</td>\n",
       "      <td>B2</td>\n",
       "      <td>NaN</td>\n",
       "      <td>2017-06-27</td>\n",
       "    </tr>\n",
       "    <tr>\n",
       "      <th>76287</th>\n",
       "      <td>5</td>\n",
       "      <td>ANNADALE</td>\n",
       "      <td>02 TWO FAMILY DWELLINGS</td>\n",
       "      <td>1</td>\n",
       "      <td>6350</td>\n",
       "      <td>7</td>\n",
       "      <td>B2</td>\n",
       "      <td>106 BENNETT PLACE</td>\n",
       "      <td></td>\n",
       "      <td>10312</td>\n",
       "      <td>2</td>\n",
       "      <td>0</td>\n",
       "      <td>2</td>\n",
       "      <td>8000.0</td>\n",
       "      <td>4208.0</td>\n",
       "      <td>1985</td>\n",
       "      <td>1</td>\n",
       "      <td>B2</td>\n",
       "      <td>NaN</td>\n",
       "      <td>2017-06-27</td>\n",
       "    </tr>\n",
       "    <tr>\n",
       "      <th>76322</th>\n",
       "      <td>5</td>\n",
       "      <td>ANNADALE</td>\n",
       "      <td>05 TAX CLASS 1 VACANT LAND</td>\n",
       "      <td>1B</td>\n",
       "      <td>6459</td>\n",
       "      <td>28</td>\n",
       "      <td>V0</td>\n",
       "      <td>N/A HYLAN BOULEVARD</td>\n",
       "      <td></td>\n",
       "      <td>0</td>\n",
       "      <td>0</td>\n",
       "      <td>0</td>\n",
       "      <td>0</td>\n",
       "      <td>6667.0</td>\n",
       "      <td>6667.0</td>\n",
       "      <td>0</td>\n",
       "      <td>1</td>\n",
       "      <td>V0</td>\n",
       "      <td>NaN</td>\n",
       "      <td>2017-05-11</td>\n",
       "    </tr>\n",
       "    <tr>\n",
       "      <th>76323</th>\n",
       "      <td>5</td>\n",
       "      <td>ANNADALE</td>\n",
       "      <td>05 TAX CLASS 1 VACANT LAND</td>\n",
       "      <td>1B</td>\n",
       "      <td>6459</td>\n",
       "      <td>28</td>\n",
       "      <td>V0</td>\n",
       "      <td>N/A HYLAN BOULEVARD</td>\n",
       "      <td></td>\n",
       "      <td>0</td>\n",
       "      <td>0</td>\n",
       "      <td>0</td>\n",
       "      <td>0</td>\n",
       "      <td>6667.0</td>\n",
       "      <td>6667.0</td>\n",
       "      <td>0</td>\n",
       "      <td>1</td>\n",
       "      <td>V0</td>\n",
       "      <td>NaN</td>\n",
       "      <td>2017-05-11</td>\n",
       "    </tr>\n",
       "    <tr>\n",
       "      <th>76383</th>\n",
       "      <td>5</td>\n",
       "      <td>ARDEN HEIGHTS</td>\n",
       "      <td>01 ONE FAMILY DWELLINGS</td>\n",
       "      <td>1</td>\n",
       "      <td>5741</td>\n",
       "      <td>93</td>\n",
       "      <td>A5</td>\n",
       "      <td>266 ILYSSA WAY</td>\n",
       "      <td></td>\n",
       "      <td>10312</td>\n",
       "      <td>1</td>\n",
       "      <td>0</td>\n",
       "      <td>1</td>\n",
       "      <td>500.0</td>\n",
       "      <td>1354.0</td>\n",
       "      <td>1996</td>\n",
       "      <td>1</td>\n",
       "      <td>A5</td>\n",
       "      <td>320000.0</td>\n",
       "      <td>2017-06-06</td>\n",
       "    </tr>\n",
       "    <tr>\n",
       "      <th>76384</th>\n",
       "      <td>5</td>\n",
       "      <td>ARDEN HEIGHTS</td>\n",
       "      <td>01 ONE FAMILY DWELLINGS</td>\n",
       "      <td>1</td>\n",
       "      <td>5741</td>\n",
       "      <td>93</td>\n",
       "      <td>A5</td>\n",
       "      <td>266 ILYSSA WAY</td>\n",
       "      <td></td>\n",
       "      <td>10312</td>\n",
       "      <td>1</td>\n",
       "      <td>0</td>\n",
       "      <td>1</td>\n",
       "      <td>500.0</td>\n",
       "      <td>1354.0</td>\n",
       "      <td>1996</td>\n",
       "      <td>1</td>\n",
       "      <td>A5</td>\n",
       "      <td>320000.0</td>\n",
       "      <td>2017-06-06</td>\n",
       "    </tr>\n",
       "    <tr>\n",
       "      <th>76643</th>\n",
       "      <td>5</td>\n",
       "      <td>ARROCHAR</td>\n",
       "      <td>02 TWO FAMILY DWELLINGS</td>\n",
       "      <td>1</td>\n",
       "      <td>3103</td>\n",
       "      <td>57</td>\n",
       "      <td>B2</td>\n",
       "      <td>129 MC CLEAN AVENUE</td>\n",
       "      <td></td>\n",
       "      <td>10305</td>\n",
       "      <td>2</td>\n",
       "      <td>0</td>\n",
       "      <td>2</td>\n",
       "      <td>5000.0</td>\n",
       "      <td>2733.0</td>\n",
       "      <td>1925</td>\n",
       "      <td>1</td>\n",
       "      <td>B2</td>\n",
       "      <td>NaN</td>\n",
       "      <td>2017-03-21</td>\n",
       "    </tr>\n",
       "    <tr>\n",
       "      <th>76644</th>\n",
       "      <td>5</td>\n",
       "      <td>ARROCHAR</td>\n",
       "      <td>02 TWO FAMILY DWELLINGS</td>\n",
       "      <td>1</td>\n",
       "      <td>3103</td>\n",
       "      <td>57</td>\n",
       "      <td>B2</td>\n",
       "      <td>129 MC CLEAN AVENUE</td>\n",
       "      <td></td>\n",
       "      <td>10305</td>\n",
       "      <td>2</td>\n",
       "      <td>0</td>\n",
       "      <td>2</td>\n",
       "      <td>5000.0</td>\n",
       "      <td>2733.0</td>\n",
       "      <td>1925</td>\n",
       "      <td>1</td>\n",
       "      <td>B2</td>\n",
       "      <td>NaN</td>\n",
       "      <td>2017-03-21</td>\n",
       "    </tr>\n",
       "    <tr>\n",
       "      <th>50126</th>\n",
       "      <td>4</td>\n",
       "      <td>ASTORIA</td>\n",
       "      <td>03 THREE FAMILY DWELLINGS</td>\n",
       "      <td>1</td>\n",
       "      <td>856</td>\n",
       "      <td>139</td>\n",
       "      <td>C0</td>\n",
       "      <td>22-18 27TH   STREET</td>\n",
       "      <td></td>\n",
       "      <td>11105</td>\n",
       "      <td>3</td>\n",
       "      <td>0</td>\n",
       "      <td>3</td>\n",
       "      <td>2000.0</td>\n",
       "      <td>1400.0</td>\n",
       "      <td>1930</td>\n",
       "      <td>1</td>\n",
       "      <td>C0</td>\n",
       "      <td>NaN</td>\n",
       "      <td>2017-01-12</td>\n",
       "    </tr>\n",
       "    <tr>\n",
       "      <th>50127</th>\n",
       "      <td>4</td>\n",
       "      <td>ASTORIA</td>\n",
       "      <td>03 THREE FAMILY DWELLINGS</td>\n",
       "      <td>1</td>\n",
       "      <td>856</td>\n",
       "      <td>139</td>\n",
       "      <td>C0</td>\n",
       "      <td>22-18 27TH   STREET</td>\n",
       "      <td></td>\n",
       "      <td>11105</td>\n",
       "      <td>3</td>\n",
       "      <td>0</td>\n",
       "      <td>3</td>\n",
       "      <td>2000.0</td>\n",
       "      <td>1400.0</td>\n",
       "      <td>1930</td>\n",
       "      <td>1</td>\n",
       "      <td>C0</td>\n",
       "      <td>NaN</td>\n",
       "      <td>2017-01-12</td>\n",
       "    </tr>\n",
       "  </tbody>\n",
       "</table>\n",
       "</div>"
      ],
      "text/plain": [
       "       BOROUGH   NEIGHBORHOOD                      BUILDING CLASS CATEGORY  \\\n",
       "76286        5       ANNADALE  02 TWO FAMILY DWELLINGS                       \n",
       "76287        5       ANNADALE  02 TWO FAMILY DWELLINGS                       \n",
       "76322        5       ANNADALE  05 TAX CLASS 1 VACANT LAND                    \n",
       "76323        5       ANNADALE  05 TAX CLASS 1 VACANT LAND                    \n",
       "76383        5  ARDEN HEIGHTS  01 ONE FAMILY DWELLINGS                       \n",
       "76384        5  ARDEN HEIGHTS  01 ONE FAMILY DWELLINGS                       \n",
       "76643        5       ARROCHAR  02 TWO FAMILY DWELLINGS                       \n",
       "76644        5       ARROCHAR  02 TWO FAMILY DWELLINGS                       \n",
       "50126        4        ASTORIA  03 THREE FAMILY DWELLINGS                     \n",
       "50127        4        ASTORIA  03 THREE FAMILY DWELLINGS                     \n",
       "\n",
       "      TAX CLASS AT PRESENT  BLOCK  LOT BUILDING CLASS AT PRESENT  \\\n",
       "76286                    1   6350    7                        B2   \n",
       "76287                    1   6350    7                        B2   \n",
       "76322                   1B   6459   28                        V0   \n",
       "76323                   1B   6459   28                        V0   \n",
       "76383                    1   5741   93                        A5   \n",
       "76384                    1   5741   93                        A5   \n",
       "76643                    1   3103   57                        B2   \n",
       "76644                    1   3103   57                        B2   \n",
       "50126                    1    856  139                        C0   \n",
       "50127                    1    856  139                        C0   \n",
       "\n",
       "                   ADDRESS APARTMENT NUMBER  ZIP CODE  RESIDENTIAL UNITS  \\\n",
       "76286    106 BENNETT PLACE                      10312                  2   \n",
       "76287    106 BENNETT PLACE                      10312                  2   \n",
       "76322  N/A HYLAN BOULEVARD                          0                  0   \n",
       "76323  N/A HYLAN BOULEVARD                          0                  0   \n",
       "76383       266 ILYSSA WAY                      10312                  1   \n",
       "76384       266 ILYSSA WAY                      10312                  1   \n",
       "76643  129 MC CLEAN AVENUE                      10305                  2   \n",
       "76644  129 MC CLEAN AVENUE                      10305                  2   \n",
       "50126  22-18 27TH   STREET                      11105                  3   \n",
       "50127  22-18 27TH   STREET                      11105                  3   \n",
       "\n",
       "       COMMERCIAL UNITS  TOTAL UNITS  LAND SQUARE FEET  GROSS SQUARE FEET  \\\n",
       "76286                 0            2            8000.0             4208.0   \n",
       "76287                 0            2            8000.0             4208.0   \n",
       "76322                 0            0            6667.0             6667.0   \n",
       "76323                 0            0            6667.0             6667.0   \n",
       "76383                 0            1             500.0             1354.0   \n",
       "76384                 0            1             500.0             1354.0   \n",
       "76643                 0            2            5000.0             2733.0   \n",
       "76644                 0            2            5000.0             2733.0   \n",
       "50126                 0            3            2000.0             1400.0   \n",
       "50127                 0            3            2000.0             1400.0   \n",
       "\n",
       "       YEAR BUILT TAX CLASS AT TIME OF SALE BUILDING CLASS AT TIME OF SALE  \\\n",
       "76286        1985                         1                             B2   \n",
       "76287        1985                         1                             B2   \n",
       "76322           0                         1                             V0   \n",
       "76323           0                         1                             V0   \n",
       "76383        1996                         1                             A5   \n",
       "76384        1996                         1                             A5   \n",
       "76643        1925                         1                             B2   \n",
       "76644        1925                         1                             B2   \n",
       "50126        1930                         1                             C0   \n",
       "50127        1930                         1                             C0   \n",
       "\n",
       "       SALE PRICE  SALE DATE  \n",
       "76286         NaN 2017-06-27  \n",
       "76287         NaN 2017-06-27  \n",
       "76322         NaN 2017-05-11  \n",
       "76323         NaN 2017-05-11  \n",
       "76383    320000.0 2017-06-06  \n",
       "76384    320000.0 2017-06-06  \n",
       "76643         NaN 2017-03-21  \n",
       "76644         NaN 2017-03-21  \n",
       "50126         NaN 2017-01-12  \n",
       "50127         NaN 2017-01-12  "
      ]
     },
     "execution_count": 12,
     "metadata": {},
     "output_type": "execute_result"
    }
   ],
   "source": [
    "#  Check for duplicates before\n",
    "\n",
    "print(sum(df_nyc.duplicated()))\n",
    "\n",
    "df_nyc[df_nyc.duplicated(keep=False)].sort_values(['NEIGHBORHOOD', 'ADDRESS']).head(10)\n",
    "\n",
    "# df.duplicated() automatically excludes duplicates, to keep duplicates in df we use keep=False\n",
    "\n",
    "# in df.duplicated(df.columns) we can specify column names to look for duplicates only in those mentioned columns."
   ]
  },
  {
   "cell_type": "markdown",
   "id": "dcd5af4d",
   "metadata": {},
   "source": [
    "The dataframe has 765 duplicated rows (exluding the original rows)."
   ]
  },
  {
   "cell_type": "code",
   "execution_count": 13,
   "id": "2d2a76ea",
   "metadata": {},
   "outputs": [
    {
     "name": "stdout",
     "output_type": "stream",
     "text": [
      "0\n"
     ]
    }
   ],
   "source": [
    "df_nyc.drop_duplicates(inplace=True)\n",
    "\n",
    "print(sum(df_nyc.duplicated()))"
   ]
  },
  {
   "cell_type": "markdown",
   "id": "f3967c95",
   "metadata": {},
   "source": [
    "## **Exploratory data analysis**\n",
    "\n",
    "Now, let's get a simple descriptive statistics with .describe() function for COMMERCIAL UNITS features."
   ]
  },
  {
   "cell_type": "code",
   "execution_count": 14,
   "id": "a6824b28",
   "metadata": {
    "scrolled": true
   },
   "outputs": [
    {
     "data": {
      "text/html": [
       "<div>\n",
       "<style scoped>\n",
       "    .dataframe tbody tr th:only-of-type {\n",
       "        vertical-align: middle;\n",
       "    }\n",
       "\n",
       "    .dataframe tbody tr th {\n",
       "        vertical-align: top;\n",
       "    }\n",
       "\n",
       "    .dataframe thead th {\n",
       "        text-align: right;\n",
       "    }\n",
       "</style>\n",
       "<table border=\"1\" class=\"dataframe\">\n",
       "  <thead>\n",
       "    <tr style=\"text-align: right;\">\n",
       "      <th></th>\n",
       "      <th>BOROUGH</th>\n",
       "      <th>BLOCK</th>\n",
       "      <th>LOT</th>\n",
       "      <th>ZIP CODE</th>\n",
       "      <th>RESIDENTIAL UNITS</th>\n",
       "      <th>COMMERCIAL UNITS</th>\n",
       "      <th>TOTAL UNITS</th>\n",
       "      <th>LAND SQUARE FEET</th>\n",
       "      <th>GROSS SQUARE FEET</th>\n",
       "      <th>YEAR BUILT</th>\n",
       "      <th>SALE PRICE</th>\n",
       "    </tr>\n",
       "  </thead>\n",
       "  <tbody>\n",
       "    <tr>\n",
       "      <th>count</th>\n",
       "      <td>78777.000000</td>\n",
       "      <td>78777.000000</td>\n",
       "      <td>78777.000000</td>\n",
       "      <td>78777.000000</td>\n",
       "      <td>78777.000000</td>\n",
       "      <td>78777.0</td>\n",
       "      <td>78777.000000</td>\n",
       "      <td>5.278000e+04</td>\n",
       "      <td>5.278000e+04</td>\n",
       "      <td>78777.000000</td>\n",
       "      <td>6.562900e+04</td>\n",
       "    </tr>\n",
       "    <tr>\n",
       "      <th>mean</th>\n",
       "      <td>3.004329</td>\n",
       "      <td>4273.781015</td>\n",
       "      <td>395.422420</td>\n",
       "      <td>10722.737068</td>\n",
       "      <td>1.691737</td>\n",
       "      <td>0.0</td>\n",
       "      <td>1.724133</td>\n",
       "      <td>3.140140e+03</td>\n",
       "      <td>2.714612e+03</td>\n",
       "      <td>1781.065451</td>\n",
       "      <td>9.952969e+05</td>\n",
       "    </tr>\n",
       "    <tr>\n",
       "      <th>std</th>\n",
       "      <td>1.298594</td>\n",
       "      <td>3589.241940</td>\n",
       "      <td>671.604654</td>\n",
       "      <td>1318.493961</td>\n",
       "      <td>9.838994</td>\n",
       "      <td>0.0</td>\n",
       "      <td>9.835016</td>\n",
       "      <td>2.929999e+04</td>\n",
       "      <td>2.791294e+04</td>\n",
       "      <td>551.024570</td>\n",
       "      <td>3.329268e+06</td>\n",
       "    </tr>\n",
       "    <tr>\n",
       "      <th>min</th>\n",
       "      <td>1.000000</td>\n",
       "      <td>1.000000</td>\n",
       "      <td>1.000000</td>\n",
       "      <td>0.000000</td>\n",
       "      <td>0.000000</td>\n",
       "      <td>0.0</td>\n",
       "      <td>0.000000</td>\n",
       "      <td>0.000000e+00</td>\n",
       "      <td>0.000000e+00</td>\n",
       "      <td>0.000000</td>\n",
       "      <td>0.000000e+00</td>\n",
       "    </tr>\n",
       "    <tr>\n",
       "      <th>25%</th>\n",
       "      <td>2.000000</td>\n",
       "      <td>1330.000000</td>\n",
       "      <td>23.000000</td>\n",
       "      <td>10304.000000</td>\n",
       "      <td>0.000000</td>\n",
       "      <td>0.0</td>\n",
       "      <td>1.000000</td>\n",
       "      <td>1.600000e+03</td>\n",
       "      <td>9.750000e+02</td>\n",
       "      <td>1920.000000</td>\n",
       "      <td>2.400000e+05</td>\n",
       "    </tr>\n",
       "    <tr>\n",
       "      <th>50%</th>\n",
       "      <td>3.000000</td>\n",
       "      <td>3340.000000</td>\n",
       "      <td>52.000000</td>\n",
       "      <td>11209.000000</td>\n",
       "      <td>1.000000</td>\n",
       "      <td>0.0</td>\n",
       "      <td>1.000000</td>\n",
       "      <td>2.295000e+03</td>\n",
       "      <td>1.600000e+03</td>\n",
       "      <td>1940.000000</td>\n",
       "      <td>5.294900e+05</td>\n",
       "    </tr>\n",
       "    <tr>\n",
       "      <th>75%</th>\n",
       "      <td>4.000000</td>\n",
       "      <td>6361.000000</td>\n",
       "      <td>1003.000000</td>\n",
       "      <td>11357.000000</td>\n",
       "      <td>2.000000</td>\n",
       "      <td>0.0</td>\n",
       "      <td>2.000000</td>\n",
       "      <td>3.300000e+03</td>\n",
       "      <td>2.388000e+03</td>\n",
       "      <td>1967.000000</td>\n",
       "      <td>9.219560e+05</td>\n",
       "    </tr>\n",
       "    <tr>\n",
       "      <th>max</th>\n",
       "      <td>5.000000</td>\n",
       "      <td>16322.000000</td>\n",
       "      <td>9106.000000</td>\n",
       "      <td>11694.000000</td>\n",
       "      <td>889.000000</td>\n",
       "      <td>0.0</td>\n",
       "      <td>889.000000</td>\n",
       "      <td>4.252327e+06</td>\n",
       "      <td>4.252327e+06</td>\n",
       "      <td>2017.000000</td>\n",
       "      <td>3.450000e+08</td>\n",
       "    </tr>\n",
       "  </tbody>\n",
       "</table>\n",
       "</div>"
      ],
      "text/plain": [
       "            BOROUGH         BLOCK           LOT      ZIP CODE  \\\n",
       "count  78777.000000  78777.000000  78777.000000  78777.000000   \n",
       "mean       3.004329   4273.781015    395.422420  10722.737068   \n",
       "std        1.298594   3589.241940    671.604654   1318.493961   \n",
       "min        1.000000      1.000000      1.000000      0.000000   \n",
       "25%        2.000000   1330.000000     23.000000  10304.000000   \n",
       "50%        3.000000   3340.000000     52.000000  11209.000000   \n",
       "75%        4.000000   6361.000000   1003.000000  11357.000000   \n",
       "max        5.000000  16322.000000   9106.000000  11694.000000   \n",
       "\n",
       "       RESIDENTIAL UNITS  COMMERCIAL UNITS   TOTAL UNITS  LAND SQUARE FEET  \\\n",
       "count       78777.000000           78777.0  78777.000000      5.278000e+04   \n",
       "mean            1.691737               0.0      1.724133      3.140140e+03   \n",
       "std             9.838994               0.0      9.835016      2.929999e+04   \n",
       "min             0.000000               0.0      0.000000      0.000000e+00   \n",
       "25%             0.000000               0.0      1.000000      1.600000e+03   \n",
       "50%             1.000000               0.0      1.000000      2.295000e+03   \n",
       "75%             2.000000               0.0      2.000000      3.300000e+03   \n",
       "max           889.000000               0.0    889.000000      4.252327e+06   \n",
       "\n",
       "       GROSS SQUARE FEET    YEAR BUILT    SALE PRICE  \n",
       "count       5.278000e+04  78777.000000  6.562900e+04  \n",
       "mean        2.714612e+03   1781.065451  9.952969e+05  \n",
       "std         2.791294e+04    551.024570  3.329268e+06  \n",
       "min         0.000000e+00      0.000000  0.000000e+00  \n",
       "25%         9.750000e+02   1920.000000  2.400000e+05  \n",
       "50%         1.600000e+03   1940.000000  5.294900e+05  \n",
       "75%         2.388000e+03   1967.000000  9.219560e+05  \n",
       "max         4.252327e+06   2017.000000  3.450000e+08  "
      ]
     },
     "execution_count": 14,
     "metadata": {},
     "output_type": "execute_result"
    }
   ],
   "source": [
    "df_nyc[df_nyc['COMMERCIAL UNITS']==0].describe()"
   ]
  },
  {
   "cell_type": "markdown",
   "id": "47b3a692",
   "metadata": {},
   "source": [
    "Let us try to understand the columns. Above table shows descriptive statistics for the numeric columns.\n",
    "\n",
    "- There are zipcodes with 0 value\n",
    "- Can block/lot numbers go up to 16322?\n",
    "- Most of the properties have 2 unit and maximum of 1844 units? The latter might mean some company purchased a building. This should be treated as an outlier.\n",
    "- Other columns also have outliers which needs further investigation.\n",
    "- Year column has a year with 0\n",
    "- Most sales prices less than 10000 can be treated as gift or transfer fees.\n",
    "Now, let's get a simple descriptive statistics with .describe() function for RESIDENTIAL UNITS features.\n",
    "\n",
    "Function below are graded function. (1 Points)"
   ]
  },
  {
   "cell_type": "code",
   "execution_count": 15,
   "id": "ce9fd063",
   "metadata": {},
   "outputs": [
    {
     "data": {
      "text/html": [
       "<div>\n",
       "<style scoped>\n",
       "    .dataframe tbody tr th:only-of-type {\n",
       "        vertical-align: middle;\n",
       "    }\n",
       "\n",
       "    .dataframe tbody tr th {\n",
       "        vertical-align: top;\n",
       "    }\n",
       "\n",
       "    .dataframe thead th {\n",
       "        text-align: right;\n",
       "    }\n",
       "</style>\n",
       "<table border=\"1\" class=\"dataframe\">\n",
       "  <thead>\n",
       "    <tr style=\"text-align: right;\">\n",
       "      <th></th>\n",
       "      <th>BOROUGH</th>\n",
       "      <th>BLOCK</th>\n",
       "      <th>LOT</th>\n",
       "      <th>ZIP CODE</th>\n",
       "      <th>RESIDENTIAL UNITS</th>\n",
       "      <th>COMMERCIAL UNITS</th>\n",
       "      <th>TOTAL UNITS</th>\n",
       "      <th>LAND SQUARE FEET</th>\n",
       "      <th>GROSS SQUARE FEET</th>\n",
       "      <th>YEAR BUILT</th>\n",
       "      <th>SALE PRICE</th>\n",
       "    </tr>\n",
       "  </thead>\n",
       "  <tbody>\n",
       "    <tr>\n",
       "      <th>count</th>\n",
       "      <td>24546.000000</td>\n",
       "      <td>24546.000000</td>\n",
       "      <td>24546.000000</td>\n",
       "      <td>24546.000000</td>\n",
       "      <td>24546.0</td>\n",
       "      <td>24546.000000</td>\n",
       "      <td>24546.000000</td>\n",
       "      <td>9.503000e+03</td>\n",
       "      <td>9.503000e+03</td>\n",
       "      <td>24546.000000</td>\n",
       "      <td>2.085500e+04</td>\n",
       "    </tr>\n",
       "    <tr>\n",
       "      <th>mean</th>\n",
       "      <td>2.542084</td>\n",
       "      <td>3355.267172</td>\n",
       "      <td>283.943412</td>\n",
       "      <td>10321.514626</td>\n",
       "      <td>0.0</td>\n",
       "      <td>0.459382</td>\n",
       "      <td>0.563350</td>\n",
       "      <td>7.416797e+03</td>\n",
       "      <td>8.870466e+03</td>\n",
       "      <td>1675.525788</td>\n",
       "      <td>1.632257e+06</td>\n",
       "    </tr>\n",
       "    <tr>\n",
       "      <th>std</th>\n",
       "      <td>1.334486</td>\n",
       "      <td>3091.222257</td>\n",
       "      <td>570.045258</td>\n",
       "      <td>2135.406385</td>\n",
       "      <td>0.0</td>\n",
       "      <td>15.826020</td>\n",
       "      <td>15.825945</td>\n",
       "      <td>8.032892e+04</td>\n",
       "      <td>7.890877e+04</td>\n",
       "      <td>679.095000</td>\n",
       "      <td>1.969307e+07</td>\n",
       "    </tr>\n",
       "    <tr>\n",
       "      <th>min</th>\n",
       "      <td>1.000000</td>\n",
       "      <td>1.000000</td>\n",
       "      <td>1.000000</td>\n",
       "      <td>0.000000</td>\n",
       "      <td>0.0</td>\n",
       "      <td>0.000000</td>\n",
       "      <td>0.000000</td>\n",
       "      <td>0.000000e+00</td>\n",
       "      <td>0.000000e+00</td>\n",
       "      <td>0.000000</td>\n",
       "      <td>0.000000e+00</td>\n",
       "    </tr>\n",
       "    <tr>\n",
       "      <th>25%</th>\n",
       "      <td>1.000000</td>\n",
       "      <td>1158.000000</td>\n",
       "      <td>12.000000</td>\n",
       "      <td>10023.000000</td>\n",
       "      <td>0.0</td>\n",
       "      <td>0.000000</td>\n",
       "      <td>0.000000</td>\n",
       "      <td>0.000000e+00</td>\n",
       "      <td>0.000000e+00</td>\n",
       "      <td>1921.000000</td>\n",
       "      <td>1.825000e+05</td>\n",
       "    </tr>\n",
       "    <tr>\n",
       "      <th>50%</th>\n",
       "      <td>3.000000</td>\n",
       "      <td>1947.000000</td>\n",
       "      <td>38.000000</td>\n",
       "      <td>11004.000000</td>\n",
       "      <td>0.0</td>\n",
       "      <td>0.000000</td>\n",
       "      <td>0.000000</td>\n",
       "      <td>0.000000e+00</td>\n",
       "      <td>0.000000e+00</td>\n",
       "      <td>1950.000000</td>\n",
       "      <td>3.950000e+05</td>\n",
       "    </tr>\n",
       "    <tr>\n",
       "      <th>75%</th>\n",
       "      <td>4.000000</td>\n",
       "      <td>5390.750000</td>\n",
       "      <td>135.000000</td>\n",
       "      <td>11354.000000</td>\n",
       "      <td>0.0</td>\n",
       "      <td>0.000000</td>\n",
       "      <td>0.000000</td>\n",
       "      <td>3.250000e+03</td>\n",
       "      <td>2.500000e+03</td>\n",
       "      <td>1962.000000</td>\n",
       "      <td>8.500000e+05</td>\n",
       "    </tr>\n",
       "    <tr>\n",
       "      <th>max</th>\n",
       "      <td>5.000000</td>\n",
       "      <td>16317.000000</td>\n",
       "      <td>9056.000000</td>\n",
       "      <td>11694.000000</td>\n",
       "      <td>0.0</td>\n",
       "      <td>2261.000000</td>\n",
       "      <td>2261.000000</td>\n",
       "      <td>4.252327e+06</td>\n",
       "      <td>4.252327e+06</td>\n",
       "      <td>2017.000000</td>\n",
       "      <td>2.210000e+09</td>\n",
       "    </tr>\n",
       "  </tbody>\n",
       "</table>\n",
       "</div>"
      ],
      "text/plain": [
       "            BOROUGH         BLOCK           LOT      ZIP CODE  \\\n",
       "count  24546.000000  24546.000000  24546.000000  24546.000000   \n",
       "mean       2.542084   3355.267172    283.943412  10321.514626   \n",
       "std        1.334486   3091.222257    570.045258   2135.406385   \n",
       "min        1.000000      1.000000      1.000000      0.000000   \n",
       "25%        1.000000   1158.000000     12.000000  10023.000000   \n",
       "50%        3.000000   1947.000000     38.000000  11004.000000   \n",
       "75%        4.000000   5390.750000    135.000000  11354.000000   \n",
       "max        5.000000  16317.000000   9056.000000  11694.000000   \n",
       "\n",
       "       RESIDENTIAL UNITS  COMMERCIAL UNITS   TOTAL UNITS  LAND SQUARE FEET  \\\n",
       "count            24546.0      24546.000000  24546.000000      9.503000e+03   \n",
       "mean                 0.0          0.459382      0.563350      7.416797e+03   \n",
       "std                  0.0         15.826020     15.825945      8.032892e+04   \n",
       "min                  0.0          0.000000      0.000000      0.000000e+00   \n",
       "25%                  0.0          0.000000      0.000000      0.000000e+00   \n",
       "50%                  0.0          0.000000      0.000000      0.000000e+00   \n",
       "75%                  0.0          0.000000      0.000000      3.250000e+03   \n",
       "max                  0.0       2261.000000   2261.000000      4.252327e+06   \n",
       "\n",
       "       GROSS SQUARE FEET    YEAR BUILT    SALE PRICE  \n",
       "count       9.503000e+03  24546.000000  2.085500e+04  \n",
       "mean        8.870466e+03   1675.525788  1.632257e+06  \n",
       "std         7.890877e+04    679.095000  1.969307e+07  \n",
       "min         0.000000e+00      0.000000  0.000000e+00  \n",
       "25%         0.000000e+00   1921.000000  1.825000e+05  \n",
       "50%         0.000000e+00   1950.000000  3.950000e+05  \n",
       "75%         2.500000e+03   1962.000000  8.500000e+05  \n",
       "max         4.252327e+06   2017.000000  2.210000e+09  "
      ]
     },
     "execution_count": 15,
     "metadata": {},
     "output_type": "execute_result"
    }
   ],
   "source": [
    "df_nyc[df_nyc['RESIDENTIAL UNITS']==0].describe()"
   ]
  },
  {
   "cell_type": "code",
   "execution_count": 16,
   "id": "938432e4",
   "metadata": {},
   "outputs": [
    {
     "data": {
      "text/plain": [
       "4    26548\n",
       "3    23843\n",
       "1    18102\n",
       "5     8296\n",
       "2     6994\n",
       "Name: BOROUGH, dtype: int64"
      ]
     },
     "execution_count": 16,
     "metadata": {},
     "output_type": "execute_result"
    }
   ],
   "source": [
    "df_nyc[\"BOROUGH\"].value_counts()"
   ]
  },
  {
   "cell_type": "markdown",
   "id": "785bfff1",
   "metadata": {},
   "source": [
    "Write your findings below:\n",
    "\n",
    "Use .value_counts function to count total value of BOROUGH features. Expected value:\n",
    "\n",
    "4 26548\\ 3 23843\\ 1 18102\\ 5 8296\\ 2 6994\\ Name: BOROUGH, dtype: int64"
   ]
  },
  {
   "cell_type": "markdown",
   "id": "e77f2cc9",
   "metadata": {},
   "source": [
    "## Mean"
   ]
  },
  {
   "cell_type": "code",
   "execution_count": 17,
   "id": "7ddfd1ea",
   "metadata": {},
   "outputs": [
    {
     "name": "stdout",
     "output_type": "stream",
     "text": [
      "mean of borough: 2.999307735459461\n",
      "numpy array mean: 2.999307735459461\n"
     ]
    }
   ],
   "source": [
    "mean_borough = df_nyc[\"BOROUGH\"].mean()\n",
    "np_mean_borough = np.mean(df_nyc[\"BOROUGH\"])\n",
    "print(\"mean of borough:\",mean_borough)\n",
    "print(\"numpy array mean:\",np_mean_borough)"
   ]
  },
  {
   "cell_type": "markdown",
   "id": "f54d27c1",
   "metadata": {},
   "source": [
    "From here, we can calculate the mean for each Borough. Use .mean() function to calculate mean."
   ]
  },
  {
   "cell_type": "code",
   "execution_count": 18,
   "id": "758b6d93",
   "metadata": {
    "scrolled": true
   },
   "outputs": [
    {
     "name": "stdout",
     "output_type": "stream",
     "text": [
      "Rata-rata total unit bangunan tahun 2000:  1.92\n"
     ]
    }
   ],
   "source": [
    "# rata-rata total unit bangunan 2000\n",
    "total_sale_00 = df_nyc[df_nyc[\"YEAR BUILT\"] == 2000]\n",
    "total_sales_old_00 = total_sale_00[\"TOTAL UNITS\"].mean()\n",
    "print(\"Rata-rata total unit bangunan tahun 2000: \",total_sales_old_00)"
   ]
  },
  {
   "cell_type": "markdown",
   "id": "340c1f4b",
   "metadata": {},
   "source": [
    "From here, we can calculate the mean for each total unit 2000. Use .mean() function to calculate mean."
   ]
  },
  {
   "cell_type": "markdown",
   "id": "6e5b2195",
   "metadata": {},
   "source": [
    "## Median"
   ]
  },
  {
   "cell_type": "code",
   "execution_count": 19,
   "id": "e151e333",
   "metadata": {
    "scrolled": true
   },
   "outputs": [
    {
     "name": "stdout",
     "output_type": "stream",
     "text": [
      "median of borough: 3.0\n"
     ]
    }
   ],
   "source": [
    "np_median_borough = np.median(df_nyc[\"BOROUGH\"])\n",
    "print(\"median of borough:\",np_median_borough)"
   ]
  },
  {
   "cell_type": "markdown",
   "id": "7891098a",
   "metadata": {},
   "source": [
    "From here, we can calculate the median for each Borough. Use .median() function to calculate median."
   ]
  },
  {
   "cell_type": "code",
   "execution_count": 20,
   "id": "dfb208de",
   "metadata": {},
   "outputs": [
    {
     "name": "stdout",
     "output_type": "stream",
     "text": [
      "Median total unit bangunan tahun 2000:  1.0\n"
     ]
    }
   ],
   "source": [
    "# median total unit bangunan 2000\n",
    "total_sale_00 = df_nyc[df_nyc[\"YEAR BUILT\"] == 2000]\n",
    "total_sales_old_00_med = total_sale_00[\"TOTAL UNITS\"].median()\n",
    "print(\"Median total unit bangunan tahun 2000: \",total_sales_old_00_med)"
   ]
  },
  {
   "cell_type": "markdown",
   "id": "47098ee1",
   "metadata": {},
   "source": [
    "From here, we can calculate the median for each total units 2000. Use .median() function to calculate median."
   ]
  },
  {
   "cell_type": "markdown",
   "id": "ed137fba",
   "metadata": {},
   "source": [
    "## Mode"
   ]
  },
  {
   "cell_type": "code",
   "execution_count": 21,
   "id": "18f7f0e3",
   "metadata": {},
   "outputs": [
    {
     "name": "stdout",
     "output_type": "stream",
     "text": [
      "mode_borough:  ModeResult(mode=array([4], dtype=int64), count=array([26548]))\n"
     ]
    }
   ],
   "source": [
    "mode_borough = scipy.stats.mode(df_nyc[\"BOROUGH\"])\n",
    "print(\"mode_borough: \",mode_borough)"
   ]
  },
  {
   "cell_type": "markdown",
   "id": "ee256d02",
   "metadata": {},
   "source": [
    "From here, we can calculate the mode for each Borough."
   ]
  },
  {
   "cell_type": "code",
   "execution_count": 22,
   "id": "aeb9ac78",
   "metadata": {},
   "outputs": [
    {
     "name": "stdout",
     "output_type": "stream",
     "text": [
      "Mode total unit bangunan tahun 2000:  ModeResult(mode=array([1], dtype=int64), count=array([116]))\n"
     ]
    }
   ],
   "source": [
    "# modus total unit bangunan 2000\n",
    "total_sale_00 = df_nyc[df_nyc[\"YEAR BUILT\"] == 2000]\n",
    "total_sales_old_00_mod = scipy.stats.mode(total_sale_00[\"TOTAL UNITS\"])\n",
    "print(\"Mode total unit bangunan tahun 2000: \",total_sales_old_00_mod)"
   ]
  },
  {
   "cell_type": "markdown",
   "id": "fad0e398",
   "metadata": {},
   "source": [
    "From here, we can calculate the mode for each total units 2000"
   ]
  },
  {
   "cell_type": "markdown",
   "id": "1fe9af1e",
   "metadata": {},
   "source": [
    "## Range"
   ]
  },
  {
   "cell_type": "code",
   "execution_count": 23,
   "id": "4bf3a9ae",
   "metadata": {},
   "outputs": [
    {
     "name": "stdout",
     "output_type": "stream",
     "text": [
      "max borough: 5 , min borough: 1\n"
     ]
    }
   ],
   "source": [
    "max_borough = max(df_nyc[\"BOROUGH\"])\n",
    "min_borough = min(df_nyc[\"BOROUGH\"])\n",
    "print(\"max borough:\", max_borough,\",\", \"min borough:\", min_borough)"
   ]
  },
  {
   "cell_type": "code",
   "execution_count": 24,
   "id": "8ddd8f36",
   "metadata": {},
   "outputs": [
    {
     "name": "stdout",
     "output_type": "stream",
     "text": [
      "range borough: 4\n"
     ]
    }
   ],
   "source": [
    "range_borough = max_borough - min_borough\n",
    "print(\"range borough:\", range_borough)"
   ]
  },
  {
   "cell_type": "markdown",
   "id": "cfebac8b",
   "metadata": {},
   "source": [
    "From here, we can calculate the Range for each Borough."
   ]
  },
  {
   "cell_type": "code",
   "execution_count": 25,
   "id": "a93630ab",
   "metadata": {},
   "outputs": [
    {
     "name": "stdout",
     "output_type": "stream",
     "text": [
      "max total 2000: 81 , min total 2000: 0\n"
     ]
    }
   ],
   "source": [
    "total_sale_00 = df_nyc[df_nyc[\"YEAR BUILT\"] == 2000]\n",
    "max_00 = max(total_sale_00[\"TOTAL UNITS\"])\n",
    "min_00 = min(total_sale_00[\"TOTAL UNITS\"])\n",
    "print(\"max total 2000:\", max_00,\",\", \"min total 2000:\", min_00)"
   ]
  },
  {
   "cell_type": "code",
   "execution_count": 26,
   "id": "d95bcdf9",
   "metadata": {
    "scrolled": true
   },
   "outputs": [
    {
     "name": "stdout",
     "output_type": "stream",
     "text": [
      "range total unit building 2000: 81\n"
     ]
    }
   ],
   "source": [
    "# range total unit bangunan 2000\n",
    "range_00 = max_00 - min_00\n",
    "print(\"range total unit building 2000:\", range_00)"
   ]
  },
  {
   "cell_type": "markdown",
   "id": "2ab005f0",
   "metadata": {},
   "source": [
    "From here, we can calculate the Range for each total units 2000."
   ]
  },
  {
   "cell_type": "markdown",
   "id": "643cd01e",
   "metadata": {},
   "source": [
    "## Variance"
   ]
  },
  {
   "cell_type": "code",
   "execution_count": 27,
   "id": "5f0aaa1e",
   "metadata": {},
   "outputs": [
    {
     "name": "stdout",
     "output_type": "stream",
     "text": [
      "numpy var borough: 1.6606664898027819\n",
      "statistic var borough: 1.6606664898027816\n"
     ]
    }
   ],
   "source": [
    "np_var_borough = np.var(df_nyc[\"BOROUGH\"], ddof=1)\n",
    "stats_var_borough = statistics.variance(df_nyc[\"BOROUGH\"])\n",
    "print(\"numpy var borough:\", np_var_borough)\n",
    "print(\"statistic var borough:\", stats_var_borough)"
   ]
  },
  {
   "cell_type": "markdown",
   "id": "3931f4ad",
   "metadata": {},
   "source": [
    "From here, we can calculate the Variance for each Borough.\n",
    "\n",
    "Function below are graded function. (1 Points)"
   ]
  },
  {
   "cell_type": "code",
   "execution_count": 28,
   "id": "a382f0df",
   "metadata": {},
   "outputs": [
    {
     "name": "stdout",
     "output_type": "stream",
     "text": [
      "Variance total unit bangunan 2000 : 29.26142857142857\n"
     ]
    }
   ],
   "source": [
    "# Variance total unit bangunan 2000\n",
    "total_sale_00 = df_nyc[df_nyc[\"YEAR BUILT\"] == 2000]\n",
    "stats_var_00 = statistics.variance(total_sale_00[\"TOTAL UNITS\"])\n",
    "print(\"Variance total unit bangunan 2000 :\",stats_var_00)"
   ]
  },
  {
   "cell_type": "markdown",
   "id": "71fc65a8",
   "metadata": {},
   "source": [
    "## Standard Deviation"
   ]
  },
  {
   "cell_type": "code",
   "execution_count": 29,
   "id": "29072508",
   "metadata": {
    "scrolled": true
   },
   "outputs": [
    {
     "name": "stdout",
     "output_type": "stream",
     "text": [
      "numpy std borough: 1.2886684949213207\n"
     ]
    }
   ],
   "source": [
    "np_std_borough = np.std(df_nyc[\"BOROUGH\"],ddof=1)\n",
    "print(\"numpy std borough:\", np_std_borough)"
   ]
  },
  {
   "cell_type": "markdown",
   "id": "284798e0",
   "metadata": {},
   "source": [
    "From here, we can calculate the SD for each Borough.\n",
    "\n",
    "Function below are graded function"
   ]
  },
  {
   "cell_type": "code",
   "execution_count": 30,
   "id": "16628405",
   "metadata": {},
   "outputs": [
    {
     "name": "stdout",
     "output_type": "stream",
     "text": [
      "Standard Deviasi 2000 : 5.4093833818124395\n"
     ]
    }
   ],
   "source": [
    "# STD total unit bangunan 2000\n",
    "total_sale_00 = df_nyc[df_nyc[\"YEAR BUILT\"] == 2000]\n",
    "sd00 =  np.std(total_sale_00[\"TOTAL UNITS\"],ddof=1)\n",
    "print(\"Standard Deviasi 2000 :\",sd00)"
   ]
  },
  {
   "cell_type": "markdown",
   "id": "546538c6",
   "metadata": {},
   "source": [
    "## Probability Distribution"
   ]
  },
  {
   "cell_type": "markdown",
   "id": "fdeba52a",
   "metadata": {},
   "source": [
    "**Data Total Unit untuk tahun 2000**\n",
    "tahun 2000:mean : 1.92,standard deviasi : 5.41 ,total keseluruhan (n) : 225"
   ]
  },
  {
   "cell_type": "markdown",
   "id": "23a3e42d",
   "metadata": {},
   "source": [
    "#### 1. normal distribution"
   ]
  },
  {
   "cell_type": "code",
   "execution_count": 31,
   "id": "10e39283",
   "metadata": {
    "scrolled": false
   },
   "outputs": [
    {
     "name": "stdout",
     "output_type": "stream",
     "text": [
      "[-2.68033292 -0.12392158  1.7133604  ... 15.63467469  7.50334634\n",
      " 14.71932362]\n"
     ]
    },
    {
     "data": {
      "image/png": "[encoded data removed]",
      "text/plain": [
       "<Figure size 432x288 with 1 Axes>"
      ]
     },
     "metadata": {
      "needs_background": "light"
     },
     "output_type": "display_data"
    }
   ],
   "source": [
    "# normal distribution\n",
    "data_normal = norm.rvs(size=84548, loc=1.92, scale=5.41)\n",
    "print(data_normal)\n",
    "#where loc is the mean and scale is the std dev\n",
    "sns.histplot(x = data_normal,\n",
    "                  kde=True,\n",
    "                  alpha =1,linewidth=15)\n",
    "plt.xlabel(\"Standard Normal Data\")\n",
    "plt.ylabel(\"Count\")\n",
    "plt.title(\"Normal Distribution\")\n",
    "plt.show()"
   ]
  },
  {
   "cell_type": "markdown",
   "id": "f5132ae7",
   "metadata": {},
   "source": [
    "#### 2. Exponential Distribution"
   ]
  },
  {
   "cell_type": "code",
   "execution_count": 32,
   "id": "6e37eb01",
   "metadata": {
    "scrolled": true
   },
   "outputs": [
    {
     "data": {
      "image/png": "[encoded data removed]",
      "text/plain": [
       "<Figure size 432x288 with 1 Axes>"
      ]
     },
     "metadata": {
      "needs_background": "light"
     },
     "output_type": "display_data"
    }
   ],
   "source": [
    "# exponential distribution\n",
    "data_expon = expon.rvs(size=84548, loc=1.92, scale=5.41)\n",
    "#where loc is the mean and scale is the std dev\n",
    "sns.histplot(x = data_expon,\n",
    "                  stat='probability',\n",
    "                  kde=True,\n",
    "                  bins=100,\n",
    "                  alpha =1,linewidth=15)\n",
    "plt.xlabel(\"Exponen Data\")\n",
    "plt.ylabel(\"Probability\")\n",
    "plt.title(\"Exponential Distribution\")\n",
    "plt.show()"
   ]
  },
  {
   "cell_type": "markdown",
   "id": "27bace36",
   "metadata": {},
   "source": [
    "### 3. Poison Distribution"
   ]
  },
  {
   "cell_type": "code",
   "execution_count": 33,
   "id": "d3bfd184",
   "metadata": {},
   "outputs": [
    {
     "name": "stdout",
     "output_type": "stream",
     "text": [
      "[2 7 1 ... 1 0 0]\n"
     ]
    },
    {
     "data": {
      "image/png": "[encoded data removed]",
      "text/plain": [
       "<Figure size 432x288 with 1 Axes>"
      ]
     },
     "metadata": {
      "needs_background": "light"
     },
     "output_type": "display_data"
    }
   ],
   "source": [
    "# poison distribution\n",
    "data_poisson = poisson.rvs(mu=1.92, size =84548)\n",
    "print(data_poisson)\n",
    "\n",
    "sns.histplot(x=data_poisson, stat=\"probability\", color=\"skyblue\",\n",
    "            )\n",
    "plt.xlabel(\"Poisson data\")\n",
    "plt.ylabel(\"Probability\")\n",
    "plt.show()"
   ]
  },
  {
   "cell_type": "markdown",
   "id": "9230146c",
   "metadata": {},
   "source": [
    "### **Data Borough**"
   ]
  },
  {
   "cell_type": "markdown",
   "id": "0b5fc81c",
   "metadata": {},
   "source": [
    "#### 1. Normal Distribution"
   ]
  },
  {
   "cell_type": "code",
   "execution_count": 34,
   "id": "8a3d0ad1",
   "metadata": {
    "scrolled": true
   },
   "outputs": [
    {
     "name": "stdout",
     "output_type": "stream",
     "text": [
      "[4.02135314 3.35772082 1.11270825 ... 1.48319642 2.81350003 4.03918994]\n"
     ]
    },
    {
     "data": {
      "image/png": "[encoded data removed]",
      "text/plain": [
       "<Figure size 432x288 with 1 Axes>"
      ]
     },
     "metadata": {
      "needs_background": "light"
     },
     "output_type": "display_data"
    }
   ],
   "source": [
    "# normal distribution\n",
    "data_normal = norm.rvs(size=84548, loc=2.99, scale=1.29)\n",
    "print(data_normal)\n",
    "#where loc is the mean and scale is the std dev\n",
    "sns.histplot(x = data_normal,\n",
    "                  kde=True,\n",
    "                  alpha =1,linewidth=15)\n",
    "plt.xlabel(\"Standard Normal Data\")\n",
    "plt.ylabel(\"Count\")\n",
    "plt.title(\"Normal Distribution\")\n",
    "plt.show()"
   ]
  },
  {
   "cell_type": "markdown",
   "id": "9367addf",
   "metadata": {},
   "source": [
    "#### 2. Uniform Distribution"
   ]
  },
  {
   "cell_type": "code",
   "execution_count": 35,
   "id": "968823c2",
   "metadata": {
    "scrolled": true
   },
   "outputs": [
    {
     "data": {
      "image/png": "[encoded data removed]",
      "text/plain": [
       "<Figure size 432x288 with 1 Axes>"
      ]
     },
     "metadata": {
      "needs_background": "light"
     },
     "output_type": "display_data"
    }
   ],
   "source": [
    "data_uniform = uniform.rvs(size=84548, loc=2.99, scale=1.29)\n",
    "#where loc is the mean and scale is the std dev\n",
    "sns.histplot(x = data_uniform,\n",
    "                  stat='probability',\n",
    "                  kde=True,\n",
    "                  bins=100,\n",
    "                  alpha =1,linewidth=15)\n",
    "plt.xlabel(\"Uniform Data\")\n",
    "plt.ylabel(\"Probability\")\n",
    "plt.title(\"Uniform Distribution\")\n",
    "plt.show()"
   ]
  },
  {
   "cell_type": "markdown",
   "id": "68c52118",
   "metadata": {},
   "source": [
    "#### 3. Exponential Distribution"
   ]
  },
  {
   "cell_type": "code",
   "execution_count": 36,
   "id": "24fa2d4e",
   "metadata": {
    "scrolled": true
   },
   "outputs": [
    {
     "data": {
      "image/png": "[encoded data removed]",
      "text/plain": [
       "<Figure size 432x288 with 1 Axes>"
      ]
     },
     "metadata": {
      "needs_background": "light"
     },
     "output_type": "display_data"
    }
   ],
   "source": [
    "data_expon = expon.rvs(size=84548, loc=2.99, scale=1.29)\n",
    "#where loc is the mean and scale is the std dev\n",
    "sns.histplot(x = data_expon,\n",
    "                  stat='probability',\n",
    "                  kde=True,\n",
    "                  bins=100,\n",
    "                  alpha =1,linewidth=15)\n",
    "plt.xlabel(\"Exponen Data\")\n",
    "plt.ylabel(\"Probability\")\n",
    "plt.title(\"Exponential Distribution\")\n",
    "plt.show()"
   ]
  },
  {
   "cell_type": "markdown",
   "id": "fea70d3c",
   "metadata": {},
   "source": [
    "#### 4. Poisson Distribution"
   ]
  },
  {
   "cell_type": "code",
   "execution_count": 37,
   "id": "fa7a661a",
   "metadata": {
    "scrolled": false
   },
   "outputs": [
    {
     "name": "stdout",
     "output_type": "stream",
     "text": [
      "[3 2 0 ... 5 2 2]\n"
     ]
    },
    {
     "data": {
      "image/png": "[encoded data removed]",
      "text/plain": [
       "<Figure size 432x288 with 1 Axes>"
      ]
     },
     "metadata": {
      "needs_background": "light"
     },
     "output_type": "display_data"
    }
   ],
   "source": [
    "data_poisson = poisson.rvs(mu=2.99, size =84548)\n",
    "print(data_poisson)\n",
    "\n",
    "sns.histplot(x=data_poisson, stat=\"probability\", color=\"skyblue\",\n",
    "            )\n",
    "plt.xlabel(\"Poisson data\")\n",
    "plt.ylabel(\"Probability\")\n",
    "plt.show()"
   ]
  },
  {
   "cell_type": "markdown",
   "id": "6dfb40be",
   "metadata": {},
   "source": [
    "## Confidence Intervals"
   ]
  },
  {
   "cell_type": "markdown",
   "id": "fc5226ee",
   "metadata": {},
   "source": [
    "Rata-rata total unit yang dimiliki oleh seseorang diperkirakan adalah 2 unit. Selang kepercayaannya adalah 95%"
   ]
  },
  {
   "cell_type": "code",
   "execution_count": 38,
   "id": "67052b67",
   "metadata": {
    "scrolled": true
   },
   "outputs": [
    {
     "data": {
      "text/plain": [
       "(2.0863530352725617, 2.3406548302848904)"
      ]
     },
     "execution_count": 38,
     "metadata": {},
     "output_type": "execute_result"
    }
   ],
   "source": [
    "# CI untuk data total units\n",
    "\n",
    "data = df_nyc[\"TOTAL UNITS\"]\n",
    "#create 95% confidence interval for population mean weight\n",
    "scipy.stats.t.interval(alpha=0.95, df=len(data)-1, loc=np.mean(data), scale=scipy.stats.sem(data)) "
   ]
  },
  {
   "cell_type": "code",
   "execution_count": 39,
   "id": "82f957c1",
   "metadata": {
    "scrolled": true
   },
   "outputs": [
    {
     "data": {
      "text/plain": [
       "(1786.1810385705558, 1793.4475973102317)"
      ]
     },
     "execution_count": 39,
     "metadata": {},
     "output_type": "execute_result"
    }
   ],
   "source": [
    "# CI untuk data year built\n",
    "\n",
    "data = df_nyc[\"YEAR BUILT\"]\n",
    "#create 95% confidence interval for population mean weight\n",
    "scipy.stats.t.interval(alpha=0.95, df=len(data)-1, loc=np.mean(data), scale=scipy.stats.sem(data)) "
   ]
  },
  {
   "cell_type": "code",
   "execution_count": 40,
   "id": "d1cdd63a",
   "metadata": {
    "scrolled": true
   },
   "outputs": [
    {
     "data": {
      "text/plain": [
       "(2.9905816869542217, 3.0080337839647)"
      ]
     },
     "execution_count": 40,
     "metadata": {},
     "output_type": "execute_result"
    }
   ],
   "source": [
    "# CI untuk data borough\n",
    "\n",
    "data = df_nyc[\"BOROUGH\"]\n",
    "#create 95% confidence interval for population mean weight\n",
    "scipy.stats.t.interval(alpha=0.95, df=len(data)-1, loc=np.mean(data), scale=scipy.stats.sem(data)) "
   ]
  },
  {
   "cell_type": "markdown",
   "id": "7533eeb7",
   "metadata": {},
   "source": [
    "## Kasus Kedua CI\n",
    "\n",
    "kita akan mencari CI untuk data total unit untuk bangunan tahun 1990 dan 2000.\n",
    "tahun 1990 :\n",
    "- mean : 1.55\n",
    "- standard deviasi : 4.35\n",
    "- total keseluruhan (n) : 324\n",
    "\n",
    "tahun 2000:\n",
    "- mean : 1.92\n",
    "- standard deviasi : 5.41\n",
    "- total keseluruhan (n) : 225"
   ]
  },
  {
   "cell_type": "code",
   "execution_count": 41,
   "id": "0ca9faa2",
   "metadata": {},
   "outputs": [
    {
     "data": {
      "text/html": [
       "<div>\n",
       "<style scoped>\n",
       "    .dataframe tbody tr th:only-of-type {\n",
       "        vertical-align: middle;\n",
       "    }\n",
       "\n",
       "    .dataframe tbody tr th {\n",
       "        vertical-align: top;\n",
       "    }\n",
       "\n",
       "    .dataframe thead th {\n",
       "        text-align: right;\n",
       "    }\n",
       "</style>\n",
       "<table border=\"1\" class=\"dataframe\">\n",
       "  <thead>\n",
       "    <tr style=\"text-align: right;\">\n",
       "      <th></th>\n",
       "      <th>total unit year built</th>\n",
       "    </tr>\n",
       "  </thead>\n",
       "  <tbody>\n",
       "    <tr>\n",
       "      <th>0</th>\n",
       "      <td>3.710707</td>\n",
       "    </tr>\n",
       "    <tr>\n",
       "      <th>1</th>\n",
       "      <td>0.948550</td>\n",
       "    </tr>\n",
       "    <tr>\n",
       "      <th>2</th>\n",
       "      <td>4.367445</td>\n",
       "    </tr>\n",
       "    <tr>\n",
       "      <th>3</th>\n",
       "      <td>8.175180</td>\n",
       "    </tr>\n",
       "    <tr>\n",
       "      <th>4</th>\n",
       "      <td>0.531433</td>\n",
       "    </tr>\n",
       "  </tbody>\n",
       "</table>\n",
       "</div>"
      ],
      "text/plain": [
       "   total unit year built\n",
       "0               3.710707\n",
       "1               0.948550\n",
       "2               4.367445\n",
       "3               8.175180\n",
       "4               0.531433"
      ]
     },
     "execution_count": 41,
     "metadata": {},
     "output_type": "execute_result"
    }
   ],
   "source": [
    "np.random.seed(42)\n",
    "normal_distribution_90 = np.random.normal(loc=1.55, scale=4.35,size=324)\n",
    "normal_distribution_00 = np.random.normal(loc=1.92, scale=5.41,size=225)\n",
    "#225, 1.92, 5.4093833818124395\n",
    "all_mass_values = np.concatenate((normal_distribution_90,normal_distribution_00), axis=0)\n",
    "df_ttl_year = pd.DataFrame(data={\"total unit year built\": all_mass_values})\n",
    "df_ttl_year.head()"
   ]
  },
  {
   "cell_type": "code",
   "execution_count": 42,
   "id": "11af7c7f",
   "metadata": {},
   "outputs": [
    {
     "data": {
      "text/plain": [
       "(549, 1)"
      ]
     },
     "execution_count": 42,
     "metadata": {},
     "output_type": "execute_result"
    }
   ],
   "source": [
    "# shape\n",
    "df_ttl_year.shape"
   ]
  },
  {
   "cell_type": "code",
   "execution_count": 43,
   "id": "98fff273",
   "metadata": {
    "scrolled": true
   },
   "outputs": [
    {
     "name": "stderr",
     "output_type": "stream",
     "text": [
      "c:\\users\\asus\\appdata\\local\\programs\\python\\python39\\lib\\site-packages\\seaborn\\distributions.py:2557: FutureWarning: `distplot` is a deprecated function and will be removed in a future version. Please adapt your code to use either `displot` (a figure-level function with similar flexibility) or `histplot` (an axes-level function for histograms).\n",
      "  warnings.warn(msg, FutureWarning)\n"
     ]
    },
    {
     "data": {
      "text/plain": [
       "Text(0.5, 1.0, 'Distribution of year built')"
      ]
     },
     "execution_count": 43,
     "metadata": {},
     "output_type": "execute_result"
    },
    {
     "data": {
      "image/png": "[encoded data removed]",
      "text/plain": [
       "<Figure size 432x288 with 1 Axes>"
      ]
     },
     "metadata": {
      "needs_background": "light"
     },
     "output_type": "display_data"
    }
   ],
   "source": [
    "# plot data\n",
    "sns.distplot(df_ttl_year[\"total unit year built\"],color=\"darkslategrey\")\n",
    "plt.xlabel(\"total unit year\", labelpad=14)\n",
    "plt.ylabel(\"probability\", labelpad=14)\n",
    "plt.title(\"Distribution of year built\")"
   ]
  },
  {
   "cell_type": "code",
   "execution_count": 44,
   "id": "7176426b",
   "metadata": {},
   "outputs": [
    {
     "data": {
      "text/plain": [
       "1.6026449151169566"
      ]
     },
     "execution_count": 44,
     "metadata": {},
     "output_type": "execute_result"
    }
   ],
   "source": [
    "# mean dari data df_ttl_year\n",
    "pop_mean = df_ttl_year[\"total unit year built\"].mean()\n",
    "pop_mean"
   ]
  },
  {
   "cell_type": "code",
   "execution_count": 45,
   "id": "5beac6e0",
   "metadata": {},
   "outputs": [
    {
     "data": {
      "text/plain": [
       "4.707350384036032"
      ]
     },
     "execution_count": 45,
     "metadata": {},
     "output_type": "execute_result"
    }
   ],
   "source": [
    "# std dari data df_ttl_year\n",
    "pop_std_dev = df_ttl_year[\"total unit year built\"].std()\n",
    "pop_std_dev"
   ]
  },
  {
   "cell_type": "code",
   "execution_count": 46,
   "id": "e336aa97",
   "metadata": {},
   "outputs": [
    {
     "data": {
      "text/plain": [
       "0.2009048186409644"
      ]
     },
     "execution_count": 46,
     "metadata": {},
     "output_type": "execute_result"
    }
   ],
   "source": [
    "# standard error \n",
    "standard_error = pop_std_dev/np.sqrt(549)\n",
    "standard_error"
   ]
  },
  {
   "cell_type": "code",
   "execution_count": 47,
   "id": "fedb1342",
   "metadata": {
    "scrolled": true
   },
   "outputs": [
    {
     "name": "stdout",
     "output_type": "stream",
     "text": [
      "lower_CI: 1.2088714705806665\n",
      "upper_CI: 1.9964183596532468\n"
     ]
    }
   ],
   "source": [
    "# nilai interval CI\n",
    "lower_CI = pop_mean - 1.96*standard_error\n",
    "print(\"lower_CI:\",lower_CI)\n",
    "\n",
    "upper_CI = pop_mean + 1.96*standard_error\n",
    "print(\"upper_CI:\",upper_CI)"
   ]
  },
  {
   "cell_type": "markdown",
   "id": "1bbdd8e9",
   "metadata": {},
   "source": [
    "### **insight :**\n",
    "selang kepercayaan terhadap total unit untuk bangunan tahun 1990 dan 2000 adalah lower CI nya dengan nilai interval 1.21 hingga 1.99"
   ]
  },
  {
   "cell_type": "markdown",
   "id": "d213941d",
   "metadata": {},
   "source": [
    "## Hypothesis Testing"
   ]
  },
  {
   "cell_type": "markdown",
   "id": "c5cd6bdc",
   "metadata": {},
   "source": [
    "**Null Hypothesis** : Pada tahun-tahun sebelumnya, 52% orang dewasa percaya bahwa orang yang bergaji tinggi lebih memilih tinggal di rumah (one family dwelling) dibanding kan dengan di condos elevator apartment (p=0.52)\n",
    "\n",
    "**Hypothesis alternative**: p>0.52, dari hasil 1000 orang disurvei, 56% dari mereka yang disurvei percaya bahwa orang yang bergaji tinggi lebih memilih tinggal di rumah (one family dwelling) dibanding kan dengan di condos elevator apartment."
   ]
  },
  {
   "cell_type": "code",
   "execution_count": 48,
   "id": "a2ea7183",
   "metadata": {},
   "outputs": [
    {
     "data": {
      "text/plain": [
       "(2.54823595718813, 0.005413460638565616)"
      ]
     },
     "execution_count": 48,
     "metadata": {},
     "output_type": "execute_result"
    }
   ],
   "source": [
    "# uji hipotesis menggunakan proportion ztest dari statsmodel\n",
    "n =1000\n",
    "p_null =.52\n",
    "p_alternate =.56\n",
    "\n",
    "sm.stats.proportions_ztest(p_alternate * n, n, p_null, alternative=\"larger\")"
   ]
  },
  {
   "cell_type": "markdown",
   "id": "5b7cda3d",
   "metadata": {},
   "source": [
    "### Insight:\n",
    "karena nilai p-value dari z-test lebih besar dari H0, maka kita akan **tolak H0** dan menerima hipotesis alternatif. Bahwa 56% dari mereka yang disurvei percaya bahwa orang yang bergaji tinggi lebih memilih tinggal di rumah (one family dwelling) dibanding kan dengan di condos elevator apartment."
   ]
  },
  {
   "cell_type": "markdown",
   "id": "9f445924",
   "metadata": {},
   "source": [
    "### **Uji Hipotesis 2**\n",
    "Kita akan uji apakah rata-rata dari Borough adalah sama dengan 3?\n",
    "- Null hypothesis adalah rata-rata Borough adalah 3 (H0=3)\n",
    "- Hypothesis Alternative tidak sama dengan 3"
   ]
  },
  {
   "cell_type": "code",
   "execution_count": 49,
   "id": "c3d3af27",
   "metadata": {
    "scrolled": true
   },
   "outputs": [
    {
     "name": "stdout",
     "output_type": "stream",
     "text": [
      "2.999307735459461\n",
      "p-values 0.8764336149652546\n",
      "we are accepting null hypothesis\n"
     ]
    }
   ],
   "source": [
    "total = df_nyc[\"BOROUGH\"]\n",
    "#print(total_sales_00)\n",
    "borough_mean = df_nyc[\"BOROUGH\"].mean()\n",
    "print(borough_mean)\n",
    "tset, pval = ttest_1samp(total,3 )\n",
    "print(\"p-values\",pval)\n",
    "if pval < 0.05:    # alpha value is 0.05 or 5%\n",
    "   print(\" we are rejecting null hypothesis\")\n",
    "else:\n",
    "  print(\"we are accepting null hypothesis\")"
   ]
  },
  {
   "cell_type": "markdown",
   "id": "9897ed3e",
   "metadata": {},
   "source": [
    "**Insight**: Hasilnya menyatakan rata-rata Borough adalah 3 berarti menerima hipotesis 0. Dikarenakan p-values = 0.8764336149652546 lebih besar dari 0.05."
   ]
  },
  {
   "cell_type": "markdown",
   "id": "07487af7",
   "metadata": {},
   "source": [
    "## Final Conclusion"
   ]
  },
  {
   "cell_type": "markdown",
   "id": "d7a88281",
   "metadata": {},
   "source": [
    "Kesimpulan dari hasil perhitungan statistik di atas adalah diketahui rata-rata untuk kolom Borough adalah 2.999. Nilai median pada kolom Borough adalah 3.0 yaitu Brooklyn. Sedangkan untuk nilai modus bernilai 4 yaitu Queens. Rangenya untuk Borough bernilai 4. Variance yang dimiliki Borough adalah 1.66 dan Standar Deviasi adalah 1.28. \n",
    "\n",
    "Sedangkan untuk total unit bangunan tahun 2000, rata-ratanya adalah 1.92, nilai median adalah 1 dan Modenya adalah 1. Range untuk total unit bangunan tahun 200 adalah 81 dan variancenya adalah 29.26. Standar Deviasinya adalah 5.41\n",
    "\n",
    "untuk melihat persebaran data Borough dapat menggunakan distribusi probabilitas Borough, Distribusi probabilitas yang digunakan adalah normal distribution, nilai yang digunakan adalah n = 84548, mean = 2.99 dan  std=1.29. Berdasarkan hasil kurva yang ditunjukkan diketahui kurva berbentuk Leptokurtic (More values in the distribution tails and more values close to the mean (i.e. sharply peaked with heavy tails). \n",
    "\n",
    "Sedangkan distributsi probabilitas untuk total unit bangunan tahun 2000.Distribusi probabilitas yang digunakan adalah normal distribution, nilai yang digunakan adalah n = 84548, mean = 1.92 dan  std=5.41. Berdasarkan hasil kurva yang ditunjukkan diketahui kurva berbentuk Leptokurtic (More values in the distribution tails and more values close to the mean (i.e. sharply peaked with heavy tails). \n",
    "\n",
    "Perhitungan CI pada kasus yang total unit tiap bangunan tahun 1990 dan 2000, diketahui selang kepercayaan terhadap total unit untuk bangunan tahun 1990 dan 2000 adalah lower CI nya dengan nilai interval 1.21 hingga 1.99.\n",
    "\n",
    "Sedangkan untuk kasus uji hipotesis menggunakan propotions z-test. Dari hasil perhitungan tersebut menolak H0 dan menerima H1. Bahwa 56% dari mereka yang disurvei percaya bahwa orang yang bergaji tinggi lebih memilih tinggal di rumah (one family dwelling) dibanding kan dengan di condos elevator apartment.\n",
    "\n",
    "untuk kasus kedua uji hipotesis yang digunakan adalah menggunakan t-test untuk menguji kebenaran dari rata-rata data Borough, apakah bernilai 3 (h0=3) atau tidak sama dengan 3. Dan hasilnya adalah menerima null hipotesis (h0=3) dikarenakan p-values = 0.8764336149652546 lebih besar dari 0.05."
   ]
  },
  {
   "cell_type": "markdown",
   "id": "4d45e53a",
   "metadata": {},
   "source": [
    "## ====Tambahan Code==="
   ]
  },
  {
   "cell_type": "code",
   "execution_count": 50,
   "id": "0daf580c",
   "metadata": {
    "scrolled": true
   },
   "outputs": [
    {
     "data": {
      "text/plain": [
       "1.5524691358024691"
      ]
     },
     "execution_count": 50,
     "metadata": {},
     "output_type": "execute_result"
    }
   ],
   "source": [
    "total_sale_90 = df_nyc[df_nyc[\"YEAR BUILT\"] == 1990]\n",
    "total_sales_old_90 = total_sale_90[\"TOTAL UNITS\"].mean()\n",
    "total_sales_old_90"
   ]
  },
  {
   "cell_type": "code",
   "execution_count": 51,
   "id": "5a80c5ec",
   "metadata": {},
   "outputs": [
    {
     "data": {
      "text/plain": [
       "2.515873015873016"
      ]
     },
     "execution_count": 51,
     "metadata": {},
     "output_type": "execute_result"
    }
   ],
   "source": [
    "total_sale_91 = df_nyc[df_nyc[\"YEAR BUILT\"] == 1991]\n",
    "total_sales_old_91 = total_sale_91[\"TOTAL UNITS\"].mean()\n",
    "total_sales_old_91"
   ]
  },
  {
   "cell_type": "code",
   "execution_count": 52,
   "id": "658334c0",
   "metadata": {},
   "outputs": [
    {
     "data": {
      "text/plain": [
       "1.92"
      ]
     },
     "execution_count": 52,
     "metadata": {},
     "output_type": "execute_result"
    }
   ],
   "source": [
    "total_sale_00 = df_nyc[df_nyc[\"YEAR BUILT\"] == 2000]\n",
    "total_sales_old_00 = total_sale_00[\"TOTAL UNITS\"].mean()\n",
    "total_sales_old_00"
   ]
  },
  {
   "cell_type": "code",
   "execution_count": 53,
   "id": "5e2e6a94",
   "metadata": {},
   "outputs": [
    {
     "data": {
      "text/plain": [
       "1.879245283018868"
      ]
     },
     "execution_count": 53,
     "metadata": {},
     "output_type": "execute_result"
    }
   ],
   "source": [
    "total_sale_01 = df_nyc[df_nyc[\"YEAR BUILT\"] == 2001]\n",
    "total_sales_old_01 = total_sale_01[\"TOTAL UNITS\"].mean()\n",
    "total_sales_old_01"
   ]
  },
  {
   "cell_type": "code",
   "execution_count": 54,
   "id": "e844b252",
   "metadata": {
    "scrolled": true
   },
   "outputs": [
    {
     "data": {
      "text/html": [
       "<div>\n",
       "<style scoped>\n",
       "    .dataframe tbody tr th:only-of-type {\n",
       "        vertical-align: middle;\n",
       "    }\n",
       "\n",
       "    .dataframe tbody tr th {\n",
       "        vertical-align: top;\n",
       "    }\n",
       "\n",
       "    .dataframe thead th {\n",
       "        text-align: right;\n",
       "    }\n",
       "</style>\n",
       "<table border=\"1\" class=\"dataframe\">\n",
       "  <thead>\n",
       "    <tr style=\"text-align: right;\">\n",
       "      <th></th>\n",
       "      <th>Year Build</th>\n",
       "      <th>Total Sales Price</th>\n",
       "    </tr>\n",
       "  </thead>\n",
       "  <tbody>\n",
       "    <tr>\n",
       "      <th>0</th>\n",
       "      <td>1990</td>\n",
       "      <td>179391936</td>\n",
       "    </tr>\n",
       "    <tr>\n",
       "      <th>1</th>\n",
       "      <td>2000</td>\n",
       "      <td>198719744</td>\n",
       "    </tr>\n",
       "    <tr>\n",
       "      <th>2</th>\n",
       "      <td>2001</td>\n",
       "      <td>171229098</td>\n",
       "    </tr>\n",
       "  </tbody>\n",
       "</table>\n",
       "</div>"
      ],
      "text/plain": [
       "   Year Build  Total Sales Price\n",
       "0        1990          179391936\n",
       "1        2000          198719744\n",
       "2        2001          171229098"
      ]
     },
     "execution_count": 54,
     "metadata": {},
     "output_type": "execute_result"
    }
   ],
   "source": [
    "df_building =pd.DataFrame({\"Year Build\":[1990, 2000, 2001],\n",
    "                          \"Total Sales Price\":[179391936,198719744,171229098]})\n",
    "df_building"
   ]
  },
  {
   "cell_type": "code",
   "execution_count": 55,
   "id": "ac26882c",
   "metadata": {},
   "outputs": [
    {
     "data": {
      "text/plain": [
       "(324, 1.55, 4.347914351682973)"
      ]
     },
     "execution_count": 55,
     "metadata": {},
     "output_type": "execute_result"
    }
   ],
   "source": [
    "n90 = len(df_nyc[df_nyc[\"YEAR BUILT\"] == 1990])\n",
    "mean_90 = 1.55\n",
    "sd90 =  np.std(total_sale_90[\"TOTAL UNITS\"],ddof=1)\n",
    "(n90, mean_90, sd90)\n",
    "#np.std(df_nyc[\"BOROUGH\"],ddof=1)"
   ]
  },
  {
   "cell_type": "code",
   "execution_count": 56,
   "id": "486318ff",
   "metadata": {},
   "outputs": [
    {
     "data": {
      "text/plain": [
       "(225, 1.92, 5.4093833818124395)"
      ]
     },
     "execution_count": 56,
     "metadata": {},
     "output_type": "execute_result"
    }
   ],
   "source": [
    "n00 = len(df_nyc[df_nyc[\"YEAR BUILT\"] == 2000])\n",
    "mean_00 = 1.92\n",
    "sd00 =  np.std(total_sale_00[\"TOTAL UNITS\"],ddof=1)\n",
    "(n00, mean_00, sd00)"
   ]
  },
  {
   "cell_type": "code",
   "execution_count": 57,
   "id": "af84ff9e",
   "metadata": {},
   "outputs": [
    {
     "data": {
      "text/plain": [
       "01 ONE FAMILY DWELLINGS                         18107\n",
       "02 TWO FAMILY DWELLINGS                         15700\n",
       "13 CONDOS - ELEVATOR APARTMENTS                 12929\n",
       "10 COOPS - ELEVATOR APARTMENTS                  12876\n",
       "03 THREE FAMILY DWELLINGS                        4342\n",
       "07 RENTALS - WALKUP APARTMENTS                   3395\n",
       "09 COOPS - WALKUP APARTMENTS                     2764\n",
       "04 TAX CLASS 1 CONDOS                            1652\n",
       "44 CONDO PARKING                                 1437\n",
       "15 CONDOS - 2-10 UNIT RESIDENTIAL                1274\n",
       "05 TAX CLASS 1 VACANT LAND                       1221\n",
       "17 CONDO COOPS                                   1199\n",
       "22 STORE BUILDINGS                                918\n",
       "12 CONDOS - WALKUP APARTMENTS                     871\n",
       "14 RENTALS - 4-10 UNIT                            662\n",
       "29 COMMERCIAL GARAGES                             578\n",
       "43 CONDO OFFICE BUILDINGS                         466\n",
       "31 COMMERCIAL VACANT LAND                         442\n",
       "47 CONDO NON-BUSINESS STORAGE                     373\n",
       "08 RENTALS - ELEVATOR APARTMENTS                  367\n",
       "21 OFFICE BUILDINGS                               343\n",
       "30 WAREHOUSES                                     323\n",
       "27 FACTORIES                                      198\n",
       "06 TAX CLASS 1 - OTHER                            177\n",
       "45 CONDO HOTELS                                   167\n",
       "41 TAX CLASS 4 - OTHER                            154\n",
       "46 CONDO STORE BUILDINGS                          149\n",
       "37 RELIGIOUS FACILITIES                            98\n",
       "16 CONDOS - 2-10 UNIT WITH COMMERCIAL UNIT         95\n",
       "26 OTHER HOTELS                                    76\n",
       "33 EDUCATIONAL FACILITIES                          69\n",
       "32 HOSPITAL AND HEALTH FACILITIES                  58\n",
       "48 CONDO TERRACES/GARDENS/CABANAS                  47\n",
       "23 LOFT BUILDINGS                                  44\n",
       "11A CONDO-RENTALS                                  42\n",
       "49 CONDO WAREHOUSES/FACTORY/INDUS                  30\n",
       "35 INDOOR PUBLIC AND CULTURAL FACILITIES           30\n",
       "28 COMMERCIAL CONDOS                               28\n",
       "38 ASYLUMS AND HOMES                               25\n",
       "42 CONDO CULTURAL/MEDICAL/EDUCATIONAL/ETC          13\n",
       "36 OUTDOOR RECREATIONAL FACILITIES                 13\n",
       "25 LUXURY HOTELS                                   12\n",
       "34 THEATRES                                        10\n",
       "18 TAX CLASS 3 - UNTILITY PROPERTIES                3\n",
       "39 TRANSPORTATION FACILITIES                        2\n",
       "40 SELECTED GOVERNMENTAL FACILITIES                 2\n",
       "11 SPECIAL CONDO BILLING LOTS                       2\n",
       "Name: BUILDING CLASS CATEGORY, dtype: int64"
      ]
     },
     "execution_count": 57,
     "metadata": {},
     "output_type": "execute_result"
    }
   ],
   "source": [
    "df_nyc[\"BUILDING CLASS CATEGORY\"].value_counts()"
   ]
  },
  {
   "cell_type": "markdown",
   "id": "099802a8",
   "metadata": {},
   "source": [
    "Faktanya rata - rata total unit bangunan tahun 1990 yang terjual senilai 1.55 unit. Diperkirakan bangunan tahun 2000 pasti memiliki rata-rata total unit terjual lebih tinggi dibandingkan tahun 90."
   ]
  },
  {
   "cell_type": "markdown",
   "id": "ec8a9de8",
   "metadata": {},
   "source": [
    "tahun 2000:\n",
    "\n",
    "- mean : 1.92\n",
    "- standard deviasi : 5.41\n",
    "- total keseluruhan (n) : 225"
   ]
  },
  {
   "cell_type": "code",
   "execution_count": 58,
   "id": "2a65991e",
   "metadata": {
    "scrolled": true
   },
   "outputs": [],
   "source": [
    "#n = 84548/2\n",
    "#n\n",
    "#https://wiki.analytica.com/index.php?title=Gamma_distribution\n",
    "#data_gamma = gamma.rvs(a=5, size =84548)\n",
    "#print(data_gamma)\n",
    "\n",
    "#sns.histplot(x=data_gamma, stat=\"probability\", bins= 100, kde= True, color=\"skyblue\",\n",
    "#            alpha =1, linewidth=15)\n",
    "#plt.xlabel(\"data_gamma\")\n",
    "#plt.ylabel(\"Probability\")\n",
    "#plt.show()"
   ]
  }
 ],
 "metadata": {
  "kernelspec": {
   "display_name": "Python 3",
   "language": "python",
   "name": "python3"
  },
  "language_info": {
   "codemirror_mode": {
    "name": "ipython",
    "version": 3
   },
   "file_extension": ".py",
   "mimetype": "text/x-python",
   "name": "python",
   "nbconvert_exporter": "python",
   "pygments_lexer": "ipython3",
   "version": "3.9.4"
  }
 },
 "nbformat": 4,
 "nbformat_minor": 5
}
