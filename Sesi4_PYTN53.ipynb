{
 "cells": [
  {
   "cell_type": "markdown",
   "id": "eeefd9b4",
   "metadata": {},
   "source": [
    "# NumPy - Numerical Python"
   ]
  },
  {
   "cell_type": "code",
   "execution_count": 1,
   "id": "779b1c1d",
   "metadata": {},
   "outputs": [],
   "source": [
    "import numpy as np #biasanya aliasnya np"
   ]
  },
  {
   "cell_type": "code",
   "execution_count": 3,
   "id": "bd61c948",
   "metadata": {},
   "outputs": [
    {
     "data": {
      "text/plain": [
       "'1.20.2'"
      ]
     },
     "execution_count": 3,
     "metadata": {},
     "output_type": "execute_result"
    }
   ],
   "source": [
    "np.__version__"
   ]
  },
  {
   "cell_type": "code",
   "execution_count": 4,
   "id": "a0169273",
   "metadata": {},
   "outputs": [
    {
     "name": "stdout",
     "output_type": "stream",
     "text": [
      "array a from list: [2, 4, 6, 8]\n",
      "array b from list: [2, 2, 1, 1]\n"
     ]
    }
   ],
   "source": [
    "list_array_a = [2, 4, 6, 8]\n",
    "list_array_b = [2, 2, 1, 1]\n",
    "\n",
    "print(\"array a from list:\", list_array_a)\n",
    "print(\"array b from list:\", list_array_b)"
   ]
  },
  {
   "cell_type": "code",
   "execution_count": 5,
   "id": "2bfcd0d9",
   "metadata": {},
   "outputs": [
    {
     "data": {
      "text/plain": [
       "[2, 4, 6, 8, 2, 2, 1, 1]"
      ]
     },
     "execution_count": 5,
     "metadata": {},
     "output_type": "execute_result"
    }
   ],
   "source": [
    "list_array_a + list_array_b #operasi penjumlahan pakai list"
   ]
  },
  {
   "cell_type": "code",
   "execution_count": null,
   "id": "b60808f9",
   "metadata": {},
   "outputs": [],
   "source": [
    "list_array_a * list_array_b #gabisa pasti error"
   ]
  },
  {
   "cell_type": "code",
   "execution_count": 8,
   "id": "607c2aa8",
   "metadata": {},
   "outputs": [
    {
     "name": "stdout",
     "output_type": "stream",
     "text": [
      "[2 4 6 8]\n",
      "[2 2 1 1]\n"
     ]
    }
   ],
   "source": [
    "np_array_a1 =np.array(list_array_a) #object nya bisa list, tupple intinya mirip dengan array\n",
    "print(np_array_a1)\n",
    "\n",
    "np_array_b1 =np.array(list_array_b)\n",
    "print(np_array_b1)"
   ]
  },
  {
   "cell_type": "code",
   "execution_count": 10,
   "id": "99ff619a",
   "metadata": {},
   "outputs": [
    {
     "data": {
      "text/plain": [
       "(array([2, 4, 6, 8]), array([2, 2, 1, 1]))"
      ]
     },
     "execution_count": 10,
     "metadata": {},
     "output_type": "execute_result"
    }
   ],
   "source": [
    "np_array_a1 , np_array_b1 #bikin output tanpa print()"
   ]
  },
  {
   "cell_type": "code",
   "execution_count": 11,
   "id": "98120e40",
   "metadata": {},
   "outputs": [
    {
     "name": "stdout",
     "output_type": "stream",
     "text": [
      "[6 8]\n",
      "[2 2]\n"
     ]
    }
   ],
   "source": [
    "print(np_array_a1[2:])\n",
    "print(np_array_b1[:2])"
   ]
  },
  {
   "cell_type": "code",
   "execution_count": 12,
   "id": "b27aaf13",
   "metadata": {},
   "outputs": [
    {
     "data": {
      "text/plain": [
       "array([[1, 2, 3],\n",
       "       [4, 5, 6]])"
      ]
     },
     "execution_count": 12,
     "metadata": {},
     "output_type": "execute_result"
    }
   ],
   "source": [
    "#array 1 dimensi vector, array 2 dimensi matrix\n",
    "np_array_a2 = np.array([[1, 2, 3],[4, 5, 6]]) # list of list / jadi array dua dimensi\n",
    "np_array_a2"
   ]
  },
  {
   "cell_type": "code",
   "execution_count": 17,
   "id": "eb0634be",
   "metadata": {},
   "outputs": [
    {
     "data": {
      "text/plain": [
       "array([[0.1, 0.2, 0.3],\n",
       "       [0.4, 0.5, 0.6]])"
      ]
     },
     "execution_count": 17,
     "metadata": {},
     "output_type": "execute_result"
    }
   ],
   "source": [
    "np_array_b2 = np.array([[.1, .2, .3], [.4, .5, .6]])\n",
    "np_array_b2"
   ]
  },
  {
   "cell_type": "code",
   "execution_count": 19,
   "id": "b27a4517",
   "metadata": {},
   "outputs": [
    {
     "name": "stdout",
     "output_type": "stream",
     "text": [
      "(4,)\n",
      "(2, 3)\n",
      "(4,)\n",
      "(2, 3)\n",
      "[[10 20 30 40]] (1, 4)\n",
      "[[ 5]\n",
      " [10]\n",
      " [15]\n",
      " [20]] (4, 1)\n"
     ]
    }
   ],
   "source": [
    "#nampilin atribut\n",
    "print(np_array_a1.shape)\n",
    "print(np_array_a2.shape)\n",
    "print(np_array_b1.shape)\n",
    "print(np_array_b2.shape)\n",
    "#output dari atribut shape adalah tupple (baris dan kolom)\n",
    "# 4 karena cuma ada 1 dimensi aja\n",
    "# vector ga ada baris , ga ada kolom intinya jumlah itemnya ada brp\n",
    "np_array_a14 = np.array([[10, 20, 30, 40]])\n",
    "np_array_a41 = np.array([[5], [10], [15], [20]])\n",
    "print(np_array_a14, np_array_a14.shape)\n",
    "print(np_array_a41, np_array_a41.shape)"
   ]
  },
  {
   "cell_type": "code",
   "execution_count": 20,
   "id": "bbe88b8d",
   "metadata": {},
   "outputs": [
    {
     "name": "stdout",
     "output_type": "stream",
     "text": [
      "[0. 0. 0. 0. 0.]\n",
      "[[0. 0. 0. 0.]\n",
      " [0. 0. 0. 0.]\n",
      " [0. 0. 0. 0.]]\n"
     ]
    }
   ],
   "source": [
    "np_array_zeros1 = np.zeros(5) #generate matrix 0\n",
    "np_array_zeros2 = np.zeros((3,4)) #bisa tuple intinya int\n",
    "\n",
    "print(np_array_zeros1)\n",
    "print(np_array_zeros2)\n",
    "\n",
    "## -axis 0, axis 1, axis 2"
   ]
  },
  {
   "cell_type": "code",
   "execution_count": 22,
   "id": "ffa64c66",
   "metadata": {},
   "outputs": [
    {
     "name": "stdout",
     "output_type": "stream",
     "text": [
      "[[0. 0. 0. ... 0. 0. 0.]\n",
      " [0. 0. 0. ... 0. 0. 0.]\n",
      " [0. 0. 0. ... 0. 0. 0.]\n",
      " ...\n",
      " [0. 0. 0. ... 0. 0. 0.]\n",
      " [0. 0. 0. ... 0. 0. 0.]\n",
      " [0. 0. 0. ... 0. 0. 0.]]\n",
      "(100, 100)\n"
     ]
    }
   ],
   "source": [
    "zeros = np.zeros((100,100))\n",
    "print(zeros)\n",
    "print(zeros.shape)"
   ]
  },
  {
   "cell_type": "code",
   "execution_count": 23,
   "id": "dce4f546",
   "metadata": {},
   "outputs": [
    {
     "name": "stdout",
     "output_type": "stream",
     "text": [
      "[1. 1. 1. 1. 1. 1. 1. 1. 1. 1.]\n",
      "[[1. 1. 1.]\n",
      " [1. 1. 1.]\n",
      " [1. 1. 1.]\n",
      " [1. 1. 1.]\n",
      " [1. 1. 1.]\n",
      " [1. 1. 1.]\n",
      " [1. 1. 1.]\n",
      " [1. 1. 1.]\n",
      " [1. 1. 1.]\n",
      " [1. 1. 1.]]\n"
     ]
    }
   ],
   "source": [
    "#ones generate satu\n",
    "np_array_ones1 = np.ones(10)\n",
    "np_array_ones2 = np.ones((10, 3))\n",
    "\n",
    "print(np_array_ones1)\n",
    "print(np_array_ones2) \n",
    "# nyebut nya jgn baris kolom, tapi axis"
   ]
  },
  {
   "cell_type": "code",
   "execution_count": 24,
   "id": "986895c8",
   "metadata": {},
   "outputs": [
    {
     "name": "stdout",
     "output_type": "stream",
     "text": [
      "1\n",
      "2\n"
     ]
    }
   ],
   "source": [
    "# return number of dimension of an array\n",
    "print(np_array_zeros1.ndim) #number of dimension\n",
    "print(np_array_zeros2.ndim) # karena ada dua tuple"
   ]
  },
  {
   "cell_type": "code",
   "execution_count": 26,
   "id": "8c896927",
   "metadata": {},
   "outputs": [
    {
     "name": "stdout",
     "output_type": "stream",
     "text": [
      "4\n",
      "30\n"
     ]
    }
   ],
   "source": [
    "# return size of an arrat (nimber of items)\n",
    "print(np_array_a14.size)\n",
    "print(np_array_ones2.size)"
   ]
  },
  {
   "cell_type": "code",
   "execution_count": 31,
   "id": "0be444c5",
   "metadata": {},
   "outputs": [
    {
     "name": "stdout",
     "output_type": "stream",
     "text": [
      "[0 1 2 3 4 5 6 7 8 9]\n",
      "[ 0  2  4  6  8 10 12 14 16 18]\n",
      "[50 45 40 35 30 25 20 15 10  5]\n"
     ]
    }
   ],
   "source": [
    "# arange generate jumlah array \n",
    "# array range\n",
    "np_arange10 = np.arange(10)\n",
    "print(np_arange10)\n",
    "\n",
    "np_arange20 = np.arange(0, 20, 2) #dari range 0-20 kelipatan 2\n",
    "print(np_arange20)\n",
    "\n",
    "np_arange_desc = np.arange(50, 0, -5) # mundur kelipatan 5, 0 nya eksklusif jd ga muncul\n",
    "print(np_arange_desc)"
   ]
  },
  {
   "cell_type": "code",
   "execution_count": 32,
   "id": "457def6b",
   "metadata": {},
   "outputs": [
    {
     "data": {
      "text/plain": [
       "range(0, 10)"
      ]
     },
     "execution_count": 32,
     "metadata": {},
     "output_type": "execute_result"
    }
   ],
   "source": [
    "range(10)"
   ]
  },
  {
   "cell_type": "code",
   "execution_count": 36,
   "id": "bcecf117",
   "metadata": {},
   "outputs": [
    {
     "data": {
      "text/plain": [
       "array([ 0,  1,  2,  3,  4,  5,  6,  7,  8,  9,  0,  2,  4,  6,  8, 10, 12,\n",
       "       14, 16, 18, 50, 45, 40, 35, 30, 25, 20, 15, 10,  5])"
      ]
     },
     "execution_count": 36,
     "metadata": {},
     "output_type": "execute_result"
    }
   ],
   "source": [
    "#np append itu buat nambahin [arr yang mau ditambahin, nilai yang dimasukin]\n",
    "np.append(np_arange10, np_arange20)\n",
    "\n",
    "arr =np.append(np_arange10, np_arange20)\n",
    "np.append(arr, np_arange_desc)"
   ]
  },
  {
   "cell_type": "code",
   "execution_count": 37,
   "id": "03117343",
   "metadata": {},
   "outputs": [
    {
     "data": {
      "text/plain": [
       "array([1. , 2. , 3. , 4. , 5. , 6. , 0.1, 0.2, 0.3, 0.4, 0.5, 0.6])"
      ]
     },
     "execution_count": 37,
     "metadata": {},
     "output_type": "execute_result"
    }
   ],
   "source": [
    "np.append(np_array_a2, np_array_b2)"
   ]
  },
  {
   "cell_type": "code",
   "execution_count": 38,
   "id": "ef336772",
   "metadata": {},
   "outputs": [
    {
     "data": {
      "text/plain": [
       "array([[1. , 2. , 3. ],\n",
       "       [4. , 5. , 6. ],\n",
       "       [0.1, 0.2, 0.3],\n",
       "       [0.4, 0.5, 0.6]])"
      ]
     },
     "execution_count": 38,
     "metadata": {},
     "output_type": "execute_result"
    }
   ],
   "source": [
    "np.append(np_array_a2, np_array_b2, axis = 0 )\n",
    "# axis = none akan diratakan\n",
    "#klo mo nambah axis di baris pertamanya ksih 0\n"
   ]
  },
  {
   "cell_type": "code",
   "execution_count": 39,
   "id": "17fff6de",
   "metadata": {},
   "outputs": [
    {
     "data": {
      "text/plain": [
       "array([[1. , 2. , 3. , 0.1, 0.2, 0.3],\n",
       "       [4. , 5. , 6. , 0.4, 0.5, 0.6]])"
      ]
     },
     "execution_count": 39,
     "metadata": {},
     "output_type": "execute_result"
    }
   ],
   "source": [
    "np.append(np_array_a2, np_array_b2, axis = 1 )"
   ]
  },
  {
   "cell_type": "code",
   "execution_count": 40,
   "id": "623a7ee7",
   "metadata": {},
   "outputs": [
    {
     "data": {
      "text/plain": [
       "array([1., 2., 3., 4., 5., 6., 0., 0., 0., 0., 0., 0., 0., 0., 0., 0., 0.,\n",
       "       0.])"
      ]
     },
     "execution_count": 40,
     "metadata": {},
     "output_type": "execute_result"
    }
   ],
   "source": [
    "np.append(np_array_a2, np_array_zeros2)"
   ]
  },
  {
   "cell_type": "code",
   "execution_count": null,
   "id": "953963b1",
   "metadata": {},
   "outputs": [],
   "source": [
    "np.append(np_array_a2, np_array_zeros2, axis =0) #axis 1 jumlah item nya harusnya sama\n",
    "# bakal error"
   ]
  },
  {
   "cell_type": "code",
   "execution_count": 41,
   "id": "0f805d4b",
   "metadata": {},
   "outputs": [
    {
     "data": {
      "text/plain": [
       "array([ 5, 10, 15, 20, 25, 30, 35, 40, 45, 50])"
      ]
     },
     "execution_count": 41,
     "metadata": {},
     "output_type": "execute_result"
    }
   ],
   "source": [
    "np.sort(np_arange_desc)"
   ]
  },
  {
   "cell_type": "code",
   "execution_count": 42,
   "id": "64917412",
   "metadata": {},
   "outputs": [
    {
     "data": {
      "text/plain": [
       "array([50, 45, 40, 35, 30, 25, 20, 15, 10,  5])"
      ]
     },
     "execution_count": 42,
     "metadata": {},
     "output_type": "execute_result"
    }
   ],
   "source": [
    "np_arange_desc"
   ]
  },
  {
   "cell_type": "code",
   "execution_count": 43,
   "id": "8d7f2983",
   "metadata": {},
   "outputs": [
    {
     "name": "stdout",
     "output_type": "stream",
     "text": [
      "[[1.  2.  3. ]\n",
      " [4.  5.  6. ]\n",
      " [0.1 0.2 0.3]\n",
      " [0.4 0.5 0.6]]\n"
     ]
    }
   ],
   "source": [
    "np_array_a2b2 = np.append(np_array_a2, np_array_b2, axis =0)\n",
    "print(np_array_a2b2)"
   ]
  },
  {
   "cell_type": "code",
   "execution_count": 44,
   "id": "499ef746",
   "metadata": {},
   "outputs": [
    {
     "data": {
      "text/plain": [
       "array([[0.1, 0.2, 0.3],\n",
       "       [0.4, 0.5, 0.6],\n",
       "       [1. , 2. , 3. ],\n",
       "       [4. , 5. , 6. ]])"
      ]
     },
     "execution_count": 44,
     "metadata": {},
     "output_type": "execute_result"
    }
   ],
   "source": [
    "np.sort(np_array_a2b2, axis=0)"
   ]
  },
  {
   "cell_type": "code",
   "execution_count": 45,
   "id": "a4c91892",
   "metadata": {},
   "outputs": [
    {
     "data": {
      "text/plain": [
       "array([[1. , 2. , 3. ],\n",
       "       [4. , 5. , 6. ],\n",
       "       [0.1, 0.2, 0.3],\n",
       "       [0.4, 0.5, 0.6]])"
      ]
     },
     "execution_count": 45,
     "metadata": {},
     "output_type": "execute_result"
    }
   ],
   "source": [
    "np.sort(np_array_a2b2, axis=1)"
   ]
  },
  {
   "cell_type": "code",
   "execution_count": 47,
   "id": "859e7e24",
   "metadata": {},
   "outputs": [
    {
     "name": "stdout",
     "output_type": "stream",
     "text": [
      "[[[  9   3   1   5]\n",
      "  [  1   3   2   3]\n",
      "  [  4  10   3   2]]\n",
      "\n",
      " [[ 19   3   1  50]\n",
      "  [ 13   1  21  13]\n",
      "  [  4  10   0   2]]\n",
      "\n",
      " [[100   3   2   5]\n",
      "  [  9   3   4   3]\n",
      "  [  1   1   2   0]]]\n",
      "shape: (3, 3, 4)\n",
      "ndim: 3\n",
      "size: 36\n"
     ]
    }
   ],
   "source": [
    "np_array_a3 = np.array(\n",
    "\n",
    "[\n",
    "    [\n",
    "        [9, 3, 1, 5],\n",
    "        [1, 3, 2, 3],\n",
    "        [4, 10, 3, 2],  \n",
    "        ],\n",
    "    [\n",
    "        [19, 3, 1, 50],\n",
    "        [13, 1, 21, 13],\n",
    "        [4, 10, 0, 2],\n",
    "    ],\n",
    "        [\n",
    "            [100, 3, 2, 5],\n",
    "            [9, 3, 4, 3],\n",
    "            [1, 1, 2, 0],\n",
    "        ],\n",
    "    ]\n",
    ")\n",
    "\n",
    "print(np_array_a3)\n",
    "print(\"shape:\" ,np_array_a3.shape)\n",
    "print(\"ndim:\" ,np_array_a3.ndim)\n",
    "print(\"size:\" ,np_array_a3.size)"
   ]
  },
  {
   "cell_type": "code",
   "execution_count": 48,
   "id": "27abb609",
   "metadata": {},
   "outputs": [
    {
     "data": {
      "text/plain": [
       "numpy.ndarray"
      ]
     },
     "execution_count": 48,
     "metadata": {},
     "output_type": "execute_result"
    }
   ],
   "source": [
    "type(np_array_a3)"
   ]
  },
  {
   "cell_type": "code",
   "execution_count": 52,
   "id": "5d4b5a67",
   "metadata": {},
   "outputs": [
    {
     "data": {
      "text/plain": [
       "array([[  9,   3,   1,   5,   1,   3],\n",
       "       [  2,   3,   4,  10,   3,   2],\n",
       "       [ 19,   3,   1,  50,  13,   1],\n",
       "       [ 21,  13,   4,  10,   0,   2],\n",
       "       [100,   3,   2,   5,   9,   3],\n",
       "       [  4,   3,   1,   1,   2,   0]])"
      ]
     },
     "execution_count": 52,
     "metadata": {},
     "output_type": "execute_result"
    }
   ],
   "source": [
    "#reshape kyk transpose\n",
    "np.reshape(np_array_a3,(6, 6))"
   ]
  },
  {
   "cell_type": "code",
   "execution_count": 53,
   "id": "3c954356",
   "metadata": {},
   "outputs": [
    {
     "data": {
      "text/plain": [
       "array([[  9,   3,   1,   5,   1,   3],\n",
       "       [  2,   3,   4,  10,   3,   2],\n",
       "       [ 19,   3,   1,  50,  13,   1],\n",
       "       [ 21,  13,   4,  10,   0,   2],\n",
       "       [100,   3,   2,   5,   9,   3],\n",
       "       [  4,   3,   1,   1,   2,   0]])"
      ]
     },
     "execution_count": 53,
     "metadata": {},
     "output_type": "execute_result"
    }
   ],
   "source": [
    "np_array_a3.reshape((6,6))\n",
    "# np_array_a3 = np_array_a3.reshape((6,6)) buat nimpa"
   ]
  },
  {
   "cell_type": "code",
   "execution_count": 54,
   "id": "6cff31e6",
   "metadata": {},
   "outputs": [
    {
     "data": {
      "text/plain": [
       "array([[[  9,   3,   1,   5],\n",
       "        [  1,   3,   2,   3],\n",
       "        [  4,  10,   3,   2]],\n",
       "\n",
       "       [[ 19,   3,   1,  50],\n",
       "        [ 13,   1,  21,  13],\n",
       "        [  4,  10,   0,   2]],\n",
       "\n",
       "       [[100,   3,   2,   5],\n",
       "        [  9,   3,   4,   3],\n",
       "        [  1,   1,   2,   0]]])"
      ]
     },
     "execution_count": 54,
     "metadata": {},
     "output_type": "execute_result"
    }
   ],
   "source": [
    "np_array_a3.reshape((4,4)) # bakal error karna perlu peratiin sizenya"
   ]
  },
  {
   "cell_type": "code",
   "execution_count": 55,
   "id": "927757bf",
   "metadata": {},
   "outputs": [
    {
     "data": {
      "text/plain": [
       "array([[[[  9,   3],\n",
       "         [  1,   5]],\n",
       "\n",
       "        [[  1,   3],\n",
       "         [  2,   3]],\n",
       "\n",
       "        [[  4,  10],\n",
       "         [  3,   2]]],\n",
       "\n",
       "\n",
       "       [[[ 19,   3],\n",
       "         [  1,  50]],\n",
       "\n",
       "        [[ 13,   1],\n",
       "         [ 21,  13]],\n",
       "\n",
       "        [[  4,  10],\n",
       "         [  0,   2]]],\n",
       "\n",
       "\n",
       "       [[[100,   3],\n",
       "         [  2,   5]],\n",
       "\n",
       "        [[  9,   3],\n",
       "         [  4,   3]],\n",
       "\n",
       "        [[  1,   1],\n",
       "         [  2,   0]]]])"
      ]
     },
     "execution_count": 55,
     "metadata": {},
     "output_type": "execute_result"
    }
   ],
   "source": [
    "np_array_a3.reshape((3, 3, 2, 2))"
   ]
  },
  {
   "cell_type": "code",
   "execution_count": 57,
   "id": "8387e521",
   "metadata": {},
   "outputs": [
    {
     "data": {
      "text/plain": [
       "array([[[[[[  9]],\n",
       "\n",
       "          [[  3]]],\n",
       "\n",
       "\n",
       "         [[[  1]],\n",
       "\n",
       "          [[  5]]]],\n",
       "\n",
       "\n",
       "\n",
       "        [[[[  1]],\n",
       "\n",
       "          [[  3]]],\n",
       "\n",
       "\n",
       "         [[[  2]],\n",
       "\n",
       "          [[  3]]]],\n",
       "\n",
       "\n",
       "\n",
       "        [[[[  4]],\n",
       "\n",
       "          [[ 10]]],\n",
       "\n",
       "\n",
       "         [[[  3]],\n",
       "\n",
       "          [[  2]]]]],\n",
       "\n",
       "\n",
       "\n",
       "\n",
       "       [[[[[ 19]],\n",
       "\n",
       "          [[  3]]],\n",
       "\n",
       "\n",
       "         [[[  1]],\n",
       "\n",
       "          [[ 50]]]],\n",
       "\n",
       "\n",
       "\n",
       "        [[[[ 13]],\n",
       "\n",
       "          [[  1]]],\n",
       "\n",
       "\n",
       "         [[[ 21]],\n",
       "\n",
       "          [[ 13]]]],\n",
       "\n",
       "\n",
       "\n",
       "        [[[[  4]],\n",
       "\n",
       "          [[ 10]]],\n",
       "\n",
       "\n",
       "         [[[  0]],\n",
       "\n",
       "          [[  2]]]]],\n",
       "\n",
       "\n",
       "\n",
       "\n",
       "       [[[[[100]],\n",
       "\n",
       "          [[  3]]],\n",
       "\n",
       "\n",
       "         [[[  2]],\n",
       "\n",
       "          [[  5]]]],\n",
       "\n",
       "\n",
       "\n",
       "        [[[[  9]],\n",
       "\n",
       "          [[  3]]],\n",
       "\n",
       "\n",
       "         [[[  4]],\n",
       "\n",
       "          [[  3]]]],\n",
       "\n",
       "\n",
       "\n",
       "        [[[[  1]],\n",
       "\n",
       "          [[  1]]],\n",
       "\n",
       "\n",
       "         [[[  2]],\n",
       "\n",
       "          [[  0]]]]]])"
      ]
     },
     "execution_count": 57,
     "metadata": {},
     "output_type": "execute_result"
    }
   ],
   "source": [
    "np_array_a3.reshape((3, 3, 2, 2, 1, 1))"
   ]
  },
  {
   "cell_type": "code",
   "execution_count": 60,
   "id": "73ec75f1",
   "metadata": {},
   "outputs": [
    {
     "data": {
      "text/plain": [
       "array([[2],\n",
       "       [4],\n",
       "       [6],\n",
       "       [8]])"
      ]
     },
     "execution_count": 60,
     "metadata": {},
     "output_type": "execute_result"
    }
   ],
   "source": [
    "np_array_a1[:, np.newaxis] #4,1 nambah 1 dimensi"
   ]
  },
  {
   "cell_type": "code",
   "execution_count": 63,
   "id": "3729430f",
   "metadata": {},
   "outputs": [
    {
     "data": {
      "text/plain": [
       "array([[2],\n",
       "       [4],\n",
       "       [6],\n",
       "       [8]])"
      ]
     },
     "execution_count": 63,
     "metadata": {},
     "output_type": "execute_result"
    }
   ],
   "source": [
    "np.expand_dims(np_array_a1, axis=1)"
   ]
  },
  {
   "cell_type": "code",
   "execution_count": 64,
   "id": "5d85b05f",
   "metadata": {},
   "outputs": [
    {
     "data": {
      "text/plain": [
       "array([[2, 4, 6, 8]])"
      ]
     },
     "execution_count": 64,
     "metadata": {},
     "output_type": "execute_result"
    }
   ],
   "source": [
    "np.expand_dims(np_array_a1, axis=0)"
   ]
  },
  {
   "cell_type": "code",
   "execution_count": 65,
   "id": "ba668ee7",
   "metadata": {},
   "outputs": [
    {
     "data": {
      "text/plain": [
       "array([[2],\n",
       "       [4],\n",
       "       [6],\n",
       "       [8]])"
      ]
     },
     "execution_count": 65,
     "metadata": {},
     "output_type": "execute_result"
    }
   ],
   "source": [
    "np_array_a1[:, None]"
   ]
  },
  {
   "cell_type": "code",
   "execution_count": 66,
   "id": "e2d65445",
   "metadata": {},
   "outputs": [
    {
     "data": {
      "text/plain": [
       "array([[[[2]],\n",
       "\n",
       "        [[4]],\n",
       "\n",
       "        [[6]],\n",
       "\n",
       "        [[8]]]])"
      ]
     },
     "execution_count": 66,
     "metadata": {},
     "output_type": "execute_result"
    }
   ],
   "source": [
    "np_array_a1[None,:, None, None]"
   ]
  },
  {
   "cell_type": "code",
   "execution_count": 67,
   "id": "5b21f862",
   "metadata": {},
   "outputs": [
    {
     "data": {
      "text/plain": [
       "array([[[[2]],\n",
       "\n",
       "        [[4]],\n",
       "\n",
       "        [[6]],\n",
       "\n",
       "        [[8]]]])"
      ]
     },
     "execution_count": 67,
     "metadata": {},
     "output_type": "execute_result"
    }
   ],
   "source": [
    "np_array_a1[np.newaxis, :, np.newaxis, np.newaxis] #mau nambah axisnya"
   ]
  },
  {
   "cell_type": "code",
   "execution_count": 68,
   "id": "9f0a6ad9",
   "metadata": {},
   "outputs": [
    {
     "data": {
      "text/plain": [
       "(4,)"
      ]
     },
     "execution_count": 68,
     "metadata": {},
     "output_type": "execute_result"
    }
   ],
   "source": [
    "np_array_a1.shape"
   ]
  },
  {
   "cell_type": "code",
   "execution_count": 73,
   "id": "05e1b625",
   "metadata": {},
   "outputs": [
    {
     "name": "stdout",
     "output_type": "stream",
     "text": [
      "[[0. 0. 0. 0. 0.]]\n",
      "[[0.]\n",
      " [0.]\n",
      " [0.]\n",
      " [0.]\n",
      " [0.]]\n",
      "[[[0.]\n",
      "  [0.]\n",
      "  [0.]\n",
      "  [0.]\n",
      "  [0.]]]\n"
     ]
    }
   ],
   "source": [
    "print(np_array_zeros1.reshape((1,5)))\n",
    "print(np_array_zeros1.reshape((5,1)))\n",
    "print(np_array_zeros1.reshape((1,5,1)))"
   ]
  },
  {
   "cell_type": "code",
   "execution_count": 75,
   "id": "7293646e",
   "metadata": {},
   "outputs": [
    {
     "data": {
      "text/plain": [
       "array([[0., 0., 0.],\n",
       "       [0., 0., 0.]])"
      ]
     },
     "execution_count": 75,
     "metadata": {},
     "output_type": "execute_result"
    }
   ],
   "source": [
    "np.append(np_array_zeros1, np.zeros(1)).reshape((2,3))"
   ]
  },
  {
   "cell_type": "code",
   "execution_count": 87,
   "id": "5f7cbc69",
   "metadata": {},
   "outputs": [
    {
     "data": {
      "text/plain": [
       "array([[1., 2., 3., 4., 5.],\n",
       "       [6., 0., 0., 0., 0.]])"
      ]
     },
     "execution_count": 87,
     "metadata": {},
     "output_type": "execute_result"
    }
   ],
   "source": [
    "size = np_array_a2.size\n",
    "new_size = 10\n",
    "np.append(np_array_a2, np.zeros(new_size - size)).reshape((2, 5))"
   ]
  },
  {
   "cell_type": "markdown",
   "id": "f55b8896",
   "metadata": {},
   "source": [
    "## indexing slixing"
   ]
  },
  {
   "cell_type": "code",
   "execution_count": 90,
   "id": "c19af90d",
   "metadata": {},
   "outputs": [
    {
     "name": "stdout",
     "output_type": "stream",
     "text": [
      "[0.  0.2 0.4 0.6 0.8 1.  1.2 1.4 1.6 1.8 2. ] (11,) 11\n"
     ]
    }
   ],
   "source": [
    "np_array_c1 = np.arange(0, 2.2, .2)\n",
    "print(np_array_c1, np_array_c1.shape, np_array_c1.size)"
   ]
  },
  {
   "cell_type": "code",
   "execution_count": 91,
   "id": "6955b676",
   "metadata": {},
   "outputs": [
    {
     "name": "stdout",
     "output_type": "stream",
     "text": [
      "number of item: 11\n",
      "median: 1.0\n"
     ]
    }
   ],
   "source": [
    "# cari median\n",
    "# ambil median\n",
    "# median -> nilai tengah -> n=9, nilai tengah  index ke-4\n",
    "# cari tau n-> len()\n",
    "# n // 2 -> supaya bentuknya int\n",
    "n = np_array_c1.shape[0]\n",
    "#np =len()\n",
    "print(\"number of item:\", n)\n",
    "med = np_array_c1[n // 2]\n",
    "print(\"median:\",  med)"
   ]
  },
  {
   "cell_type": "code",
   "execution_count": 92,
   "id": "4030ef63",
   "metadata": {},
   "outputs": [
    {
     "name": "stdout",
     "output_type": "stream",
     "text": [
      "[[0.1, 0.2, 0.3], [0.4, 0.5, 0.6]] <class 'list'>\n"
     ]
    }
   ],
   "source": [
    "list_array_b2 = np_array_b2.tolist()\n",
    "print(list_array_b2, type(list_array_b2))"
   ]
  },
  {
   "cell_type": "code",
   "execution_count": 95,
   "id": "5c57fcc9",
   "metadata": {},
   "outputs": [
    {
     "data": {
      "text/plain": [
       "([0.1, 0.2], [0.4, 0.5])"
      ]
     },
     "execution_count": 95,
     "metadata": {},
     "output_type": "execute_result"
    }
   ],
   "source": [
    "list_array_b2[0][:2], list_array_b2[1][:2]"
   ]
  },
  {
   "cell_type": "code",
   "execution_count": 97,
   "id": "fc3e378b",
   "metadata": {},
   "outputs": [
    {
     "data": {
      "text/plain": [
       "array([[0.1, 0.2],\n",
       "       [0.4, 0.5]])"
      ]
     },
     "execution_count": 97,
     "metadata": {},
     "output_type": "execute_result"
    }
   ],
   "source": [
    "np_array_b2[:, :2] #axis pertama, axis kedua"
   ]
  },
  {
   "cell_type": "code",
   "execution_count": 98,
   "id": "2b9d7259",
   "metadata": {
    "scrolled": true
   },
   "outputs": [
    {
     "data": {
      "text/plain": [
       "array([0.1, 0.4])"
      ]
     },
     "execution_count": 98,
     "metadata": {},
     "output_type": "execute_result"
    }
   ],
   "source": [
    "np_array_b2[:, 0]"
   ]
  },
  {
   "cell_type": "code",
   "execution_count": 123,
   "id": "43e77e58",
   "metadata": {},
   "outputs": [
    {
     "data": {
      "text/plain": [
       "array([[0.1, 0.3],\n",
       "       [0.4, 0.6]])"
      ]
     },
     "execution_count": 123,
     "metadata": {},
     "output_type": "execute_result"
    }
   ],
   "source": [
    "np_array_b2[:, 0::2] # stepnya 2"
   ]
  },
  {
   "cell_type": "code",
   "execution_count": 121,
   "id": "8f05bf4d",
   "metadata": {},
   "outputs": [
    {
     "data": {
      "text/plain": [
       "(array([0.1, 0.2, 0.3]),\n",
       " array([0.1, 0.2, 0.3]),\n",
       " array([0.1, 0.2, 0.3]),\n",
       " array([0.1, 0.2, 0.3]))"
      ]
     },
     "execution_count": 121,
     "metadata": {},
     "output_type": "execute_result"
    }
   ],
   "source": [
    "np_array_b2[0], np_array_b2[0,], np_array_b2[0,:], np_array_b2[0, [0,1,2]]"
   ]
  },
  {
   "cell_type": "code",
   "execution_count": 120,
   "id": "79bd2bd1",
   "metadata": {},
   "outputs": [
    {
     "data": {
      "text/plain": [
       "array([[0.1, 0.3],\n",
       "       [0.4, 0.6]])"
      ]
     },
     "execution_count": 120,
     "metadata": {},
     "output_type": "execute_result"
    }
   ],
   "source": [
    "#[[0.1, 0.3]\n",
    "#[0.4, 0.6]\n",
    "np_array_b2[0, [0,2]]\n",
    "np_array_b2[1, [0,2]]\n",
    "np_array_b2[:, [0,2]] # yang bener"
   ]
  },
  {
   "cell_type": "code",
   "execution_count": 124,
   "id": "f5a4df30",
   "metadata": {},
   "outputs": [
    {
     "data": {
      "text/plain": [
       "(array([[0.1, 0.3],\n",
       "        [0.4, 0.6]]),\n",
       " array([[0.1, 0.3],\n",
       "        [0.4, 0.6]]))"
      ]
     },
     "execution_count": 124,
     "metadata": {},
     "output_type": "execute_result"
    }
   ],
   "source": [
    "np_array_b2[:, [0,2]], np_array_b2[:, ::2]"
   ]
  },
  {
   "cell_type": "code",
   "execution_count": 109,
   "id": "e039e454",
   "metadata": {},
   "outputs": [
    {
     "data": {
      "text/plain": [
       "array([[0.1, 0.4],\n",
       "       [0.3, 0.6]])"
      ]
     },
     "execution_count": 109,
     "metadata": {},
     "output_type": "execute_result"
    }
   ],
   "source": [
    "a = np_array_b2[:, 0]\n",
    "b = np_array_b2[:, 2]\n",
    "np.array([a, b])"
   ]
  },
  {
   "cell_type": "code",
   "execution_count": 125,
   "id": "25146cf8",
   "metadata": {},
   "outputs": [
    {
     "name": "stdout",
     "output_type": "stream",
     "text": [
      "[[  9   3   1   5   1   3   2   3   4  10   3   2]\n",
      " [ 19   3   1  50  13   1  21  13   4  10   0   2]\n",
      " [100   3   2   5   9   3   4   3   1   1   2   0]]\n"
     ]
    }
   ],
   "source": [
    "np_array_c2 = np_array_a3.reshape((3,12))\n",
    "print(np_array_c2)"
   ]
  },
  {
   "cell_type": "code",
   "execution_count": 126,
   "id": "453bf24d",
   "metadata": {},
   "outputs": [
    {
     "data": {
      "text/plain": [
       "array([[  9,   1,   1,   2,   4,   3],\n",
       "       [ 19,   1,  13,  21,   4,   0],\n",
       "       [100,   2,   9,   4,   1,   2]])"
      ]
     },
     "execution_count": 126,
     "metadata": {},
     "output_type": "execute_result"
    }
   ],
   "source": [
    "np_array_c2[:, ::2]"
   ]
  },
  {
   "cell_type": "markdown",
   "id": "905a4cb3",
   "metadata": {},
   "source": [
    "untuk dan -> &\n",
    "untuk or -> |"
   ]
  },
  {
   "cell_type": "code",
   "execution_count": 127,
   "id": "cbadc1e9",
   "metadata": {},
   "outputs": [
    {
     "data": {
      "text/plain": [
       "array([ 9,  3,  3,  3,  3,  3, 21,  0,  3,  9,  3,  3,  0])"
      ]
     },
     "execution_count": 127,
     "metadata": {},
     "output_type": "execute_result"
    }
   ],
   "source": [
    "# kelipatan 3, \n",
    "np_array_c2[np_array_c2 % 3 == 0]"
   ]
  },
  {
   "cell_type": "code",
   "execution_count": 128,
   "id": "8ff29cff",
   "metadata": {},
   "outputs": [
    {
     "data": {
      "text/plain": [
       "array([[ True,  True, False, False, False,  True, False,  True, False,\n",
       "        False,  True, False],\n",
       "       [False,  True, False, False, False, False,  True, False, False,\n",
       "        False,  True, False],\n",
       "       [False,  True, False, False,  True,  True, False,  True, False,\n",
       "        False, False,  True]])"
      ]
     },
     "execution_count": 128,
     "metadata": {},
     "output_type": "execute_result"
    }
   ],
   "source": [
    "# outputnya boolean\n",
    "np_array_c2 % 3 == 0 "
   ]
  },
  {
   "cell_type": "code",
   "execution_count": 130,
   "id": "96ae32b6",
   "metadata": {},
   "outputs": [
    {
     "data": {
      "text/plain": [
       "(array([2, 4, 6, 8]), array([2, 6]), array([2, 6, 8]))"
      ]
     },
     "execution_count": 130,
     "metadata": {},
     "output_type": "execute_result"
    }
   ],
   "source": [
    "np_array_a1, np_array_a1[[True, False, True, False]], np_array_a1[[0,2,3]]"
   ]
  },
  {
   "cell_type": "code",
   "execution_count": 132,
   "id": "5e417f59",
   "metadata": {},
   "outputs": [
    {
     "data": {
      "text/plain": [
       "array([[  9,   3,   1,   5,   1,   3,   2,   3,   4,  10,   3,   2],\n",
       "       [ 19,   3,   1,  50,  13,   1,  21,  13,   4,  10,   0,   2],\n",
       "       [100,   3,   2,   5,   9,   3,   4,   3,   1,   1,   2,   0],\n",
       "       [  9,   3,   1,   5,   1,   3,   2,   3,   4,  10,   3,   2],\n",
       "       [ 19,   3,   1,  50,  13,   1,  21,  13,   4,  10,   0,   2],\n",
       "       [100,   3,   2,   5,   9,   3,   4,   3,   1,   1,   2,   0],\n",
       "       [  9,   3,   1,   5,   1,   3,   2,   3,   4,  10,   3,   2],\n",
       "       [ 19,   3,   1,  50,  13,   1,  21,  13,   4,  10,   0,   2],\n",
       "       [100,   3,   2,   5,   9,   3,   4,   3,   1,   1,   2,   0]])"
      ]
     },
     "execution_count": 132,
     "metadata": {},
     "output_type": "execute_result"
    }
   ],
   "source": [
    "np.append(np.append(np_array_c2, np_array_c2, axis=0), np_array_c2, axis =0)"
   ]
  },
  {
   "cell_type": "code",
   "execution_count": 133,
   "id": "ad791224",
   "metadata": {
    "scrolled": true
   },
   "outputs": [
    {
     "data": {
      "text/plain": [
       "array([[  9,   3,   1,   5,   1,   3,   2,   3,   4,  10,   3,   2],\n",
       "       [ 19,   3,   1,  50,  13,   1,  21,  13,   4,  10,   0,   2],\n",
       "       [100,   3,   2,   5,   9,   3,   4,   3,   1,   1,   2,   0],\n",
       "       [  9,   3,   1,   5,   1,   3,   2,   3,   4,  10,   3,   2],\n",
       "       [ 19,   3,   1,  50,  13,   1,  21,  13,   4,  10,   0,   2],\n",
       "       [100,   3,   2,   5,   9,   3,   4,   3,   1,   1,   2,   0],\n",
       "       [  9,   3,   1,   5,   1,   3,   2,   3,   4,  10,   3,   2],\n",
       "       [ 19,   3,   1,  50,  13,   1,  21,  13,   4,  10,   0,   2],\n",
       "       [100,   3,   2,   5,   9,   3,   4,   3,   1,   1,   2,   0],\n",
       "       [  9,   3,   1,   5,   1,   3,   2,   3,   4,  10,   3,   2],\n",
       "       [ 19,   3,   1,  50,  13,   1,  21,  13,   4,  10,   0,   2],\n",
       "       [100,   3,   2,   5,   9,   3,   4,   3,   1,   1,   2,   0]])"
      ]
     },
     "execution_count": 133,
     "metadata": {},
     "output_type": "execute_result"
    }
   ],
   "source": [
    "np.concatenate((np_array_c2,np_array_c2,np_array_c2,np_array_c2), axis = 0)"
   ]
  },
  {
   "cell_type": "markdown",
   "id": "e8d88449",
   "metadata": {},
   "source": [
    "## Operasi Matematika"
   ]
  },
  {
   "cell_type": "code",
   "execution_count": 135,
   "id": "529c10aa",
   "metadata": {},
   "outputs": [
    {
     "data": {
      "text/plain": [
       "array([[ 18,   6,   2,  10,   2,   6,   4,   6,   8,  20,   6,   4],\n",
       "       [ 38,   6,   2, 100,  26,   2,  42,  26,   8,  20,   0,   4],\n",
       "       [200,   6,   4,  10,  18,   6,   8,   6,   2,   2,   4,   0]])"
      ]
     },
     "execution_count": 135,
     "metadata": {},
     "output_type": "execute_result"
    }
   ],
   "source": [
    "# elemen wise , hitungnya perelemen\n",
    "np_array_c2 + np_array_c2"
   ]
  },
  {
   "cell_type": "code",
   "execution_count": 136,
   "id": "1157d4c7",
   "metadata": {},
   "outputs": [
    {
     "data": {
      "text/plain": [
       "array([[0, 0, 0, 0, 0, 0, 0, 0, 0, 0, 0, 0],\n",
       "       [0, 0, 0, 0, 0, 0, 0, 0, 0, 0, 0, 0],\n",
       "       [0, 0, 0, 0, 0, 0, 0, 0, 0, 0, 0, 0]])"
      ]
     },
     "execution_count": 136,
     "metadata": {},
     "output_type": "execute_result"
    }
   ],
   "source": [
    "np_array_c2 - np_array_c2"
   ]
  },
  {
   "cell_type": "code",
   "execution_count": 137,
   "id": "f1b4cd1f",
   "metadata": {
    "scrolled": true
   },
   "outputs": [
    {
     "name": "stderr",
     "output_type": "stream",
     "text": [
      "<ipython-input-137-cd24c6aff44e>:1: RuntimeWarning: invalid value encountered in true_divide\n",
      "  np_array_c2 / np_array_c2\n"
     ]
    },
    {
     "data": {
      "text/plain": [
       "array([[ 1.,  1.,  1.,  1.,  1.,  1.,  1.,  1.,  1.,  1.,  1.,  1.],\n",
       "       [ 1.,  1.,  1.,  1.,  1.,  1.,  1.,  1.,  1.,  1., nan,  1.],\n",
       "       [ 1.,  1.,  1.,  1.,  1.,  1.,  1.,  1.,  1.,  1.,  1., nan]])"
      ]
     },
     "execution_count": 137,
     "metadata": {},
     "output_type": "execute_result"
    }
   ],
   "source": [
    "np_array_c2 / np_array_c2"
   ]
  },
  {
   "cell_type": "code",
   "execution_count": 141,
   "id": "aac78afd",
   "metadata": {
    "scrolled": true
   },
   "outputs": [
    {
     "data": {
      "text/plain": [
       "array([[   81,     9,     1,    25,     1,     9,     4,     9,    16,\n",
       "          100,     9,     4],\n",
       "       [  361,     9,     1,  2500,   169,     1,   441,   169,    16,\n",
       "          100,     0,     4],\n",
       "       [10000,     9,     4,    25,    81,     9,    16,     9,     1,\n",
       "            1,     4,     0]])"
      ]
     },
     "execution_count": 141,
     "metadata": {},
     "output_type": "execute_result"
    }
   ],
   "source": [
    "np_array_c2 * np_array_c2"
   ]
  },
  {
   "cell_type": "code",
   "execution_count": 143,
   "id": "a201d49f",
   "metadata": {
    "scrolled": true
   },
   "outputs": [
    {
     "data": {
      "text/plain": [
       "array([[ 18,   6,   2,  10,   2,   6,   4,   6,   8,  20,   6,   4],\n",
       "       [ 38,   6,   2, 100,  26,   2,  42,  26,   8,  20,   0,   4],\n",
       "       [200,   6,   4,  10,  18,   6,   8,   6,   2,   2,   4,   0]])"
      ]
     },
     "execution_count": 143,
     "metadata": {},
     "output_type": "execute_result"
    }
   ],
   "source": [
    "np_array_c2 * 2"
   ]
  },
  {
   "cell_type": "code",
   "execution_count": 144,
   "id": "09fa9459",
   "metadata": {
    "scrolled": false
   },
   "outputs": [
    {
     "data": {
      "text/plain": [
       "array([[ 4.5,  1.5,  0.5,  2.5,  0.5,  1.5,  1. ,  1.5,  2. ,  5. ,  1.5,\n",
       "         1. ],\n",
       "       [ 9.5,  1.5,  0.5, 25. ,  6.5,  0.5, 10.5,  6.5,  2. ,  5. ,  0. ,\n",
       "         1. ],\n",
       "       [50. ,  1.5,  1. ,  2.5,  4.5,  1.5,  2. ,  1.5,  0.5,  0.5,  1. ,\n",
       "         0. ]])"
      ]
     },
     "execution_count": 144,
     "metadata": {},
     "output_type": "execute_result"
    }
   ],
   "source": [
    "np_array_c2 / 2 # elemen wise adanya broadcasting yang mana array nya akan bikin sendiri"
   ]
  },
  {
   "cell_type": "code",
   "execution_count": 146,
   "id": "ec08b993",
   "metadata": {
    "scrolled": true
   },
   "outputs": [
    {
     "data": {
      "text/plain": [
       "array([[  9,   3,   1,   5,   1,   3,   2,   3,   4,  10,   3,   2],\n",
       "       [ 19,   3,   1,  50,  13,   1,  21,  13,   4,  10,   0,   2],\n",
       "       [100,   3,   2,   5,   9,   3,   4,   3,   1,   1,   2,   0]])"
      ]
     },
     "execution_count": 146,
     "metadata": {},
     "output_type": "execute_result"
    }
   ],
   "source": [
    "np_array_c2"
   ]
  },
  {
   "cell_type": "code",
   "execution_count": 147,
   "id": "cb01d0ae",
   "metadata": {},
   "outputs": [
    {
     "data": {
      "text/plain": [
       "array([ 9,  3,  1,  5,  1,  3,  2,  3,  4, 10,  3,  2])"
      ]
     },
     "execution_count": 147,
     "metadata": {},
     "output_type": "execute_result"
    }
   ],
   "source": [
    "np_array_c2[0]"
   ]
  },
  {
   "cell_type": "code",
   "execution_count": 150,
   "id": "5c097703",
   "metadata": {},
   "outputs": [
    {
     "data": {
      "text/plain": [
       "array([[ 11,   5,   3,   7,   3,   5,   4,   5,   6,  12,   5,   4],\n",
       "       [ 21,   5,   3,  52,  15,   3,  23,  15,   6,  12,   2,   4],\n",
       "       [103,   6,   5,   8,  12,   6,   7,   6,   4,   4,   5,   3]])"
      ]
     },
     "execution_count": 150,
     "metadata": {},
     "output_type": "execute_result"
    }
   ],
   "source": [
    "np_array_c2 + np.array([[2], [2], [3]])"
   ]
  },
  {
   "cell_type": "code",
   "execution_count": 149,
   "id": "e29ee967",
   "metadata": {},
   "outputs": [
    {
     "name": "stdout",
     "output_type": "stream",
     "text": [
      "[[ 9  3  1  5  1  3  2  3  4 10  3  2]\n",
      " [ 9  3  1  5  1  3  2  3  4 10  3  2]\n",
      " [ 9  3  1  5  1  3  2  3  4 10  3  2]]\n"
     ]
    }
   ],
   "source": [
    "broadcasted_c2 =np.array([np_array_c2[0].tolist(),np_array_c2[0].tolist(),np_array_c2[0].tolist()])\n",
    "print(broadcasted_c2)"
   ]
  },
  {
   "cell_type": "code",
   "execution_count": 145,
   "id": "1415d84a",
   "metadata": {},
   "outputs": [
    {
     "data": {
      "text/plain": [
       "array([[ 18,   6,   2,  10,   2,   6,   4,   6,   8,  20,   6,   4],\n",
       "       [ 28,   6,   2,  55,  14,   4,  23,  16,   8,  20,   3,   4],\n",
       "       [109,   6,   3,  10,  10,   6,   6,   6,   5,  11,   5,   2]])"
      ]
     },
     "execution_count": 145,
     "metadata": {},
     "output_type": "execute_result"
    }
   ],
   "source": [
    "np_array_c2 + np_array_c2[0]"
   ]
  },
  {
   "cell_type": "code",
   "execution_count": 140,
   "id": "51e65b70",
   "metadata": {},
   "outputs": [
    {
     "data": {
      "text/plain": [
       "(None, nan, float)"
      ]
     },
     "execution_count": 140,
     "metadata": {},
     "output_type": "execute_result"
    }
   ],
   "source": [
    "# nan adalah salah satu type data di NumPy \n",
    "# klo di pyhton adalah None klo di np adalah Nan (not number negative tak hingga adalah nan)\n",
    "# type data nan adalah float\n",
    "\n",
    "None, np.nan, type(np.nan)"
   ]
  },
  {
   "cell_type": "code",
   "execution_count": 151,
   "id": "6395011f",
   "metadata": {},
   "outputs": [
    {
     "data": {
      "text/plain": [
       "(False, False, True)"
      ]
     },
     "execution_count": 151,
     "metadata": {},
     "output_type": "execute_result"
    }
   ],
   "source": [
    "bool(\"\"), bool(None), bool(np.nan)"
   ]
  },
  {
   "cell_type": "code",
   "execution_count": 152,
   "id": "63576806",
   "metadata": {},
   "outputs": [
    {
     "data": {
      "text/plain": [
       "100"
      ]
     },
     "execution_count": 152,
     "metadata": {},
     "output_type": "execute_result"
    }
   ],
   "source": [
    "#np.max()\n",
    "np_array_c2.max()"
   ]
  },
  {
   "cell_type": "code",
   "execution_count": 156,
   "id": "8f1e9259",
   "metadata": {},
   "outputs": [
    {
     "name": "stdout",
     "output_type": "stream",
     "text": [
      "100\n",
      "[ 10  50 100]\n",
      "[100   3   2  50  13   3  21  13   4  10   3   2]\n",
      "[[ 10]\n",
      " [ 50]\n",
      " [100]]\n",
      "[[100   3   2  50  13   3  21  13   4  10   3   2]]\n"
     ]
    }
   ],
   "source": [
    "print(np_array_c2.max())\n",
    "print(np_array_c2.max(axis=1)) #hitung maximum per baris\n",
    "print(np_array_c2.max(axis=0)) #hitung maximum per kolom\n",
    "print(np_array_c2.max(axis=1, keepdims=True)) #keep dims\n",
    "print(np_array_c2.max(axis=0, keepdims=True))"
   ]
  },
  {
   "cell_type": "markdown",
   "id": "b733ffcc",
   "metadata": {},
   "source": [
    "## Matrix"
   ]
  },
  {
   "cell_type": "code",
   "execution_count": null,
   "id": "e8bb5baa",
   "metadata": {},
   "outputs": [],
   "source": [
    "np.dot()"
   ]
  },
  {
   "cell_type": "code",
   "execution_count": 157,
   "id": "78a578da",
   "metadata": {},
   "outputs": [
    {
     "data": {
      "text/plain": [
       "array([[1, 2, 3],\n",
       "       [4, 5, 6]])"
      ]
     },
     "execution_count": 157,
     "metadata": {},
     "output_type": "execute_result"
    }
   ],
   "source": [
    "np_array_a2"
   ]
  },
  {
   "cell_type": "code",
   "execution_count": null,
   "id": "ed977126",
   "metadata": {},
   "outputs": [],
   "source": [
    "np.dot(np_array_a2, np_array_a2) # bakal error karna (3,2) dan (2,3)"
   ]
  },
  {
   "cell_type": "code",
   "execution_count": 159,
   "id": "b344805d",
   "metadata": {},
   "outputs": [
    {
     "data": {
      "text/plain": [
       "(array([[1, 4],\n",
       "        [2, 5],\n",
       "        [3, 6]]),\n",
       " array([[1, 4],\n",
       "        [2, 5],\n",
       "        [3, 6]]))"
      ]
     },
     "execution_count": 159,
     "metadata": {},
     "output_type": "execute_result"
    }
   ],
   "source": [
    "#3,2 \n",
    "np_array_a2.transpose() , np_array_a2.T"
   ]
  },
  {
   "cell_type": "code",
   "execution_count": 160,
   "id": "577c34bc",
   "metadata": {},
   "outputs": [
    {
     "data": {
      "text/plain": [
       "array([[14, 32],\n",
       "       [32, 77]])"
      ]
     },
     "execution_count": 160,
     "metadata": {},
     "output_type": "execute_result"
    }
   ],
   "source": [
    "np.dot(np_array_a2, np_array_a2.T)"
   ]
  },
  {
   "cell_type": "code",
   "execution_count": null,
   "id": "e50e07e8",
   "metadata": {},
   "outputs": [],
   "source": [
    "np_array_a2.dot()"
   ]
  },
  {
   "cell_type": "code",
   "execution_count": 161,
   "id": "68f0720f",
   "metadata": {},
   "outputs": [
    {
     "data": {
      "text/plain": [
       "array([[14, 32],\n",
       "       [32, 77]])"
      ]
     },
     "execution_count": 161,
     "metadata": {},
     "output_type": "execute_result"
    }
   ],
   "source": [
    "np_array_a2.dot(np_array_a2.T)"
   ]
  },
  {
   "cell_type": "code",
   "execution_count": 162,
   "id": "56d4575d",
   "metadata": {},
   "outputs": [
    {
     "data": {
      "text/plain": [
       "array([[14, 32],\n",
       "       [32, 77]])"
      ]
     },
     "execution_count": 162,
     "metadata": {},
     "output_type": "execute_result"
    }
   ],
   "source": [
    "np.matmul(np_array_a2, np_array_a2.T) #lebih efisien dibanding dot"
   ]
  },
  {
   "cell_type": "markdown",
   "id": "412b49bb",
   "metadata": {},
   "source": [
    "## Flatten \n",
    "dari beberapa dimensi (multidimensi) jadi satu dimensi"
   ]
  },
  {
   "cell_type": "code",
   "execution_count": 163,
   "id": "e079bb7b",
   "metadata": {
    "scrolled": true
   },
   "outputs": [
    {
     "data": {
      "text/plain": [
       "array([1, 2, 3, 4, 5, 6])"
      ]
     },
     "execution_count": 163,
     "metadata": {},
     "output_type": "execute_result"
    }
   ],
   "source": [
    "np_array_a2.flatten()"
   ]
  },
  {
   "cell_type": "code",
   "execution_count": 164,
   "id": "8d8a11f4",
   "metadata": {},
   "outputs": [
    {
     "data": {
      "text/plain": [
       "array([  9,   3,   1,   5,   1,   3,   2,   3,   4,  10,   3,   2,  19,\n",
       "         3,   1,  50,  13,   1,  21,  13,   4,  10,   0,   2, 100,   3,\n",
       "         2,   5,   9,   3,   4,   3,   1,   1,   2,   0])"
      ]
     },
     "execution_count": 164,
     "metadata": {},
     "output_type": "execute_result"
    }
   ],
   "source": [
    "np_array_a3.flatten()"
   ]
  },
  {
   "cell_type": "code",
   "execution_count": 165,
   "id": "74aa569e",
   "metadata": {},
   "outputs": [
    {
     "data": {
      "text/plain": [
       "<module 'numpy.random' from 'c:\\\\users\\\\asus\\\\appdata\\\\local\\\\programs\\\\python\\\\python39\\\\lib\\\\site-packages\\\\numpy\\\\random\\\\__init__.py'>"
      ]
     },
     "execution_count": 165,
     "metadata": {},
     "output_type": "execute_result"
    }
   ],
   "source": [
    "np.random # msh module"
   ]
  },
  {
   "cell_type": "code",
   "execution_count": null,
   "id": "622bfbcf",
   "metadata": {},
   "outputs": [],
   "source": [
    "np.random.normal() #distribusi normal\n",
    "np.random.randint(10) # utk int bilangan acak 0 sampai 10"
   ]
  },
  {
   "cell_type": "code",
   "execution_count": 166,
   "id": "fb5bec1f",
   "metadata": {},
   "outputs": [
    {
     "data": {
      "text/plain": [
       "array([[0, 8, 0, 1, 0],\n",
       "       [9, 4, 3, 6, 2],\n",
       "       [2, 4, 3, 8, 7],\n",
       "       [7, 7, 9, 5, 1],\n",
       "       [8, 0, 0, 9, 5]])"
      ]
     },
     "execution_count": 166,
     "metadata": {},
     "output_type": "execute_result"
    }
   ],
   "source": [
    "np.random.randint(10, size =(5,5))"
   ]
  },
  {
   "cell_type": "code",
   "execution_count": 169,
   "id": "afd5bfe5",
   "metadata": {},
   "outputs": [
    {
     "data": {
      "text/plain": [
       "array([[[94, 93, 83],\n",
       "        [10, 11, 84]],\n",
       "\n",
       "       [[65, 73, 91],\n",
       "        [27, 20, 81]]])"
      ]
     },
     "execution_count": 169,
     "metadata": {},
     "output_type": "execute_result"
    }
   ],
   "source": [
    "np.random.randint(10,100, size =(2,2,3))"
   ]
  },
  {
   "cell_type": "code",
   "execution_count": null,
   "id": "d9d62a20",
   "metadata": {},
   "outputs": [],
   "source": []
  }
 ],
 "metadata": {
  "kernelspec": {
   "display_name": "Python 3",
   "language": "python",
   "name": "python3"
  },
  "language_info": {
   "codemirror_mode": {
    "name": "ipython",
    "version": 3
   },
   "file_extension": ".py",
   "mimetype": "text/x-python",
   "name": "python",
   "nbconvert_exporter": "python",
   "pygments_lexer": "ipython3",
   "version": "3.9.4"
  }
 },
 "nbformat": 4,
 "nbformat_minor": 5
}
