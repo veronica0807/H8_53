{
 "cells": [
  {
   "cell_type": "code",
   "execution_count": 1,
   "id": "2c60285d",
   "metadata": {},
   "outputs": [],
   "source": [
    "#Conditional merupakan control flow\n",
    "#ekspresi yang dihitung\n",
    "# statement\n",
    "# if <expr>:\n",
    "#    <statement> indekasi block code"
   ]
  },
  {
   "cell_type": "code",
   "execution_count": 2,
   "id": "0e93deb5",
   "metadata": {},
   "outputs": [
    {
     "name": "stdout",
     "output_type": "stream",
     "text": [
      "['Adit', 'Bagus', 'Daniel', 'Dezenia', 'Ilham', 'Maria', 'Yusuf']\n",
      "['Satya', 'Richard', 'Stefani', 'Timotius', 'Veronica', 'Viony', 'Yoga']\n"
     ]
    }
   ],
   "source": [
    "\n",
    "names = [\"Adit\" ,\"Bagus\", \"Daniel\", \"Dezenia\",\n",
    "         \"Ilham\", \"Maria\",\"Yusuf\"]\n",
    "print(names)\n",
    "print(others)"
   ]
  },
  {
   "cell_type": "code",
   "execution_count": 14,
   "id": "2cab0d97",
   "metadata": {},
   "outputs": [
    {
     "name": "stdout",
     "output_type": "stream",
     "text": [
      "Yes! 0 < 50\n",
      "Yes! 0 < 50\n",
      "name: satya is in others\n",
      "satyasatyasatya\n",
      "satya is not in others\n"
     ]
    }
   ],
   "source": [
    "x = 0\n",
    "y = 50\n",
    "z = \"satya\"\n",
    "if x < y:\n",
    "    print(f\"Yes! {x} < {y}\")\n",
    "    print(\"Yes! {} < {}\".format(x,y))\n",
    "    \n",
    "if z.title() in others:\n",
    "    print(f\"name: {z} is in others\") # ga jalan karena satya nya lower case\n",
    "    print(z * 3)\n",
    "    \n",
    "if z in others:\n",
    "    print(f\"name: {z} is in others\") # ga jalan karena satya nya lower case\n",
    "    print(z * 3)\n",
    "else:\n",
    "    print(f\"{z} is not in others\")\n",
    "    "
   ]
  },
  {
   "cell_type": "code",
   "execution_count": 15,
   "id": "07c3ed15",
   "metadata": {},
   "outputs": [
    {
     "name": "stdout",
     "output_type": "stream",
     "text": [
      "satya is not in others\n"
     ]
    }
   ],
   "source": [
    "if z in others:\n",
    "    print(f\"name: {z} is in others\") # ga jalan karena satya nya lower case\n",
    "    print(z * 3)\n",
    "print(f\"{z} is not in others\") # dia udh diluar if"
   ]
  },
  {
   "cell_type": "code",
   "execution_count": null,
   "id": "c2b973eb",
   "metadata": {},
   "outputs": [],
   "source": [
    "#ELIF\n",
    "# if<expr>:\n",
    "#    <statement(s)>\n",
    "#  else:\n",
    "#    <statement(s)>\n"
   ]
  },
  {
   "cell_type": "code",
   "execution_count": 17,
   "id": "b35544aa",
   "metadata": {},
   "outputs": [
    {
     "name": "stdout",
     "output_type": "stream",
     "text": [
      "just buy magazines\n"
     ]
    }
   ],
   "source": [
    "book_price = 1000\n",
    "mag_price = 500\n",
    "money = 600\n",
    "\n",
    "if money >= book_price:\n",
    "    print(\"let's buy a book\")\n",
    "elif money >= mag_price:\n",
    "    print(\"just buy magazines\")\n",
    "else: print(\"let's collect more money\")"
   ]
  },
  {
   "cell_type": "code",
   "execution_count": null,
   "id": "bc6fcc5a",
   "metadata": {},
   "outputs": [],
   "source": [
    "# menggunakan () fucntion len,print, str,int\n",
    "# menjalankan atau memanggil sebuah function pakai (argument)\n",
    "# {} biasanya di dictionary dan khusus untuk subtitusi variable\n",
    "# others \"list: {}\".format(others) dipake untuk method format jadi place holder\n",
    "# f\"list: {others[0]}\n",
    "# [] kebanyakan digunakan untuk indexing"
   ]
  },
  {
   "cell_type": "code",
   "execution_count": 18,
   "id": "3c419593",
   "metadata": {},
   "outputs": [
    {
     "name": "stdout",
     "output_type": "stream",
     "text": [
      "remedy\n"
     ]
    }
   ],
   "source": [
    "min_score = .7\n",
    "score = .65\n",
    "if score > min_score:\n",
    "    print(\"success\")\n",
    "else:\n",
    "    print(\"remedy\")"
   ]
  },
  {
   "cell_type": "markdown",
   "id": "21dbb08f",
   "metadata": {},
   "source": [
    "## Loop"
   ]
  },
  {
   "cell_type": "code",
   "execution_count": 19,
   "id": "5a31ecb0",
   "metadata": {},
   "outputs": [],
   "source": [
    "#loop adalah control flow\n",
    "#while<expr>:\n",
    "# <statement(s)>"
   ]
  },
  {
   "cell_type": "code",
   "execution_count": 21,
   "id": "a14ddd93",
   "metadata": {},
   "outputs": [
    {
     "name": "stdout",
     "output_type": "stream",
     "text": [
      "1 less than 7\n"
     ]
    }
   ],
   "source": [
    "score = 1\n",
    "min_score = 7\n",
    "\n",
    "if score < min_score:\n",
    "    print(score,\"less than {}\".format(min_score))"
   ]
  },
  {
   "cell_type": "code",
   "execution_count": 22,
   "id": "18188ac3",
   "metadata": {},
   "outputs": [
    {
     "name": "stdout",
     "output_type": "stream",
     "text": [
      "1 less than 7\n",
      "2 less than 7\n",
      "3 less than 7\n",
      "4 less than 7\n",
      "5 less than 7\n",
      "6 less than 7\n"
     ]
    }
   ],
   "source": [
    "while score < min_score:\n",
    "    print(score,\"less than {}\".format(min_score))\n",
    "    score = score + 1"
   ]
  },
  {
   "cell_type": "code",
   "execution_count": 25,
   "id": "3d103266",
   "metadata": {},
   "outputs": [
    {
     "name": "stdout",
     "output_type": "stream",
     "text": [
      "0 name: Adit\n",
      "1 name: Bagus\n",
      "2 name: Daniel\n",
      "3 name: Dezenia\n",
      "4 name: Ilham\n",
      "5 name: Maria\n",
      "6 name: Yusuf\n",
      "0 name: Adit\n",
      "2 name: Daniel\n",
      "4 name: Ilham\n",
      "6 name: Yusuf\n"
     ]
    }
   ],
   "source": [
    "idx = 0\n",
    "while idx < len(names):\n",
    "    print(idx,\"name:\", names[idx])\n",
    "    idx = idx + 1\n",
    "    \n",
    "idx = 0 \n",
    "while idx < len(names):\n",
    "    print(idx,\"name:\", names[idx])\n",
    "    idx = idx + 2"
   ]
  },
  {
   "cell_type": "code",
   "execution_count": 26,
   "id": "a9d4a8de",
   "metadata": {},
   "outputs": [
    {
     "name": "stdout",
     "output_type": "stream",
     "text": [
      "0 name: Adit\n",
      "1 name: Bagus\n"
     ]
    }
   ],
   "source": [
    "idx = 0\n",
    "while idx < len(names):\n",
    "    if idx == 2:\n",
    "        break\n",
    "    print(idx,\"name:\", names[idx])\n",
    "    idx = idx + 1\n",
    "    "
   ]
  },
  {
   "cell_type": "code",
   "execution_count": 31,
   "id": "0f98a7e6",
   "metadata": {},
   "outputs": [
    {
     "name": "stdout",
     "output_type": "stream",
     "text": [
      "0 name: Adit\n",
      "1 name: Bagus\n",
      "2 name: Daniel\n",
      "4 name: Ilham\n",
      "5 name: Maria\n"
     ]
    }
   ],
   "source": [
    "# skip name with index 3, 6, 9, etc.\n",
    "idx = 0\n",
    "while idx < len(names):\n",
    "    if (idx % 3 == 0) and (idx != 0):\n",
    "        idx = idx + 1\n",
    "        continue\n",
    "    print(idx,\"name:\", names[idx])\n",
    "    idx = idx + 1"
   ]
  },
  {
   "cell_type": "markdown",
   "id": "1c67aeb6",
   "metadata": {},
   "source": [
    "## For"
   ]
  },
  {
   "cell_type": "code",
   "execution_count": 32,
   "id": "fc9961c2",
   "metadata": {},
   "outputs": [],
   "source": [
    "# for i in <collection>\n",
    "# <loop body>\n",
    "# looping dari itemnya bukan dari index\n",
    "\n",
    "#for<var> in <iterable>:\n",
    "#    <statement(s)>"
   ]
  },
  {
   "cell_type": "code",
   "execution_count": 33,
   "id": "547c725f",
   "metadata": {},
   "outputs": [
    {
     "name": "stdout",
     "output_type": "stream",
     "text": [
      "['Satya', 'Richard', 'Stefani', 'Timotius', 'Veronica', 'Viony', 'Yoga']\n"
     ]
    }
   ],
   "source": [
    "print(others)"
   ]
  },
  {
   "cell_type": "code",
   "execution_count": 34,
   "id": "77e4c16f",
   "metadata": {},
   "outputs": [
    {
     "name": "stdout",
     "output_type": "stream",
     "text": [
      "Satya\n",
      "Richard\n",
      "Stefani\n",
      "Timotius\n",
      "Veronica\n",
      "Viony\n",
      "Yoga\n"
     ]
    }
   ],
   "source": [
    "for name in others:\n",
    "    print(name)\n",
    "# name adalah collection di dalam others"
   ]
  },
  {
   "cell_type": "code",
   "execution_count": 36,
   "id": "dc686c8f",
   "metadata": {},
   "outputs": [
    {
     "name": "stdout",
     "output_type": "stream",
     "text": [
      "1\n",
      "2\n",
      "3\n",
      "4\n",
      "5\n",
      "6\n",
      "7\n",
      "8\n",
      "9\n",
      "10\n"
     ]
    }
   ],
   "source": [
    "for i in [1, 2, 3, 4, 5,6, 7, 8, 9, 10]:\n",
    "    print(i)"
   ]
  },
  {
   "cell_type": "code",
   "execution_count": 38,
   "id": "7a275b56",
   "metadata": {},
   "outputs": [
    {
     "name": "stdout",
     "output_type": "stream",
     "text": [
      "Yusuf Y u s\n"
     ]
    }
   ],
   "source": [
    "print(name, name[0], name[1], name[2])"
   ]
  },
  {
   "cell_type": "code",
   "execution_count": 39,
   "id": "d7610ed0",
   "metadata": {},
   "outputs": [
    {
     "name": "stdout",
     "output_type": "stream",
     "text": [
      "name: Adit\n",
      "A\n",
      "d\n",
      "i\n",
      "t\n",
      "name: Bagus\n",
      "B\n",
      "a\n",
      "g\n",
      "u\n",
      "s\n",
      "name: Daniel\n",
      "D\n",
      "a\n",
      "n\n",
      "i\n",
      "e\n",
      "l\n",
      "name: Dezenia\n",
      "D\n",
      "e\n",
      "z\n",
      "e\n",
      "n\n",
      "i\n",
      "a\n",
      "name: Ilham\n",
      "I\n",
      "l\n",
      "h\n",
      "a\n",
      "m\n",
      "name: Maria\n",
      "M\n",
      "a\n",
      "r\n",
      "i\n",
      "a\n",
      "name: Yusuf\n",
      "Y\n",
      "u\n",
      "s\n",
      "u\n",
      "f\n"
     ]
    }
   ],
   "source": [
    "# output \"s-a-t-y-a\"\n",
    "for name in names:\n",
    "    print(\"name:\", name)\n",
    "    for char in name:\n",
    "        print(char)\n",
    "# adit udh menjadi str"
   ]
  },
  {
   "cell_type": "code",
   "execution_count": 41,
   "id": "91b754d3",
   "metadata": {},
   "outputs": [
    {
     "name": "stdout",
     "output_type": "stream",
     "text": [
      "name: Adit\n",
      "a-d-i-t-\n",
      "name: Bagus\n",
      "b-a-g-u-s-\n",
      "name: Daniel\n",
      "d-a-n-i-e-l-\n",
      "name: Dezenia\n",
      "d-e-z-e-n-i-a-\n",
      "name: Ilham\n",
      "i-l-h-a-m-\n",
      "name: Maria\n",
      "m-a-r-i-a-\n",
      "name: Yusuf\n",
      "y-u-s-u-f-\n"
     ]
    }
   ],
   "source": [
    "for name in names:\n",
    "    print(\"name:\", name)\n",
    "    s = \"\"\n",
    "    for char in name:\n",
    "        s = s + char + \"-\"\n",
    "    print(s.lower())"
   ]
  },
  {
   "cell_type": "code",
   "execution_count": null,
   "id": "2c8996d4",
   "metadata": {},
   "outputs": [],
   "source": [
    "# kalau pake for loop itu sequence nya sudah terdefinisi dengan jelas"
   ]
  },
  {
   "cell_type": "code",
   "execution_count": 44,
   "id": "e5990639",
   "metadata": {},
   "outputs": [
    {
     "name": "stdout",
     "output_type": "stream",
     "text": [
      "[0, 1, 2, 3, 4, 5, 6, 7, 8, 9]\n"
     ]
    }
   ],
   "source": [
    "print(list(range(0,10)))"
   ]
  },
  {
   "cell_type": "code",
   "execution_count": 50,
   "id": "c756a235",
   "metadata": {},
   "outputs": [
    {
     "name": "stdout",
     "output_type": "stream",
     "text": [
      "[0, 1, 2, 3, 4, 5, 6, 7, 8, 9, 10, 11, 12, 13, 14, 15, 16, 17, 18, 19, 20, 21, 22, 23, 24, 25, 26, 27, 28, 29, 30, 31, 32, 33, 34, 35, 36, 37, 38, 39, 40, 41, 42, 43, 44, 45, 46, 47, 48, 49, 50, 51, 52, 53, 54, 55, 56, 57, 58, 59, 60, 61, 62, 63, 64, 65, 66, 67, 68, 69, 70, 71, 72, 73, 74, 75, 76, 77, 78, 79, 80, 81, 82, 83, 84, 85, 86, 87, 88, 89, 90, 91, 92, 93, 94, 95, 96, 97, 98, 99]\n",
      "[0, 2, 4, 6, 8, 10, 12, 14, 16, 18, 20, 22, 24, 26, 28, 30, 32, 34, 36, 38, 40, 42, 44, 46, 48, 50, 52, 54, 56, 58, 60, 62, 64, 66, 68, 70, 72, 74, 76, 78, 80, 82, 84, 86, 88, 90, 92, 94, 96, 98]\n"
     ]
    }
   ],
   "source": [
    "print(list(range(100)))\n",
    "print(list(range(0,100, 2)))"
   ]
  },
  {
   "cell_type": "code",
   "execution_count": 51,
   "id": "81c8b64a",
   "metadata": {},
   "outputs": [
    {
     "name": "stdout",
     "output_type": "stream",
     "text": [
      "Adit\n",
      "Bagus\n",
      "Daniel\n",
      "Dezenia\n",
      "Ilham\n",
      "Maria\n",
      "Yusuf\n"
     ]
    }
   ],
   "source": [
    "for i in range(len(names)):\n",
    "    print(names[i])"
   ]
  },
  {
   "cell_type": "code",
   "execution_count": 52,
   "id": "dbc13a38",
   "metadata": {},
   "outputs": [
    {
     "name": "stdout",
     "output_type": "stream",
     "text": [
      "Adit\n",
      "Bagus\n",
      "Daniel\n",
      "Dezenia\n",
      "Ilham\n",
      "Maria\n",
      "Yusuf\n"
     ]
    }
   ],
   "source": [
    "for i in names:\n",
    "    print(i)"
   ]
  },
  {
   "cell_type": "code",
   "execution_count": 56,
   "id": "e779fb75",
   "metadata": {},
   "outputs": [
    {
     "name": "stdout",
     "output_type": "stream",
     "text": [
      "0 name: Adit\n",
      "1 name: Bagus\n",
      "2 name: Daniel\n",
      "4 name: Ilham\n",
      "5 name: Maria\n"
     ]
    }
   ],
   "source": [
    "for i in range(len(names)):\n",
    "    if (i % 3 == 0) and (i != 0):\n",
    "        continue\n",
    "    print(i,\"name:\", names[i])"
   ]
  },
  {
   "cell_type": "code",
   "execution_count": 57,
   "id": "877f6f3e",
   "metadata": {},
   "outputs": [
    {
     "name": "stdout",
     "output_type": "stream",
     "text": [
      "{'names': ['harry', 'michael', 'jordan', 'super'], 'age': [18, 33, 24, 40], 'location': ['jakarta', 'bandung', 'surabaya', 'jogja']}\n"
     ]
    }
   ],
   "source": [
    "profiles = {\n",
    "    \"names\" : [\"harry\", \"michael\", \"jordan\", \"super\"], \n",
    "    \"age\" : [18, 33, 24, 40], \n",
    "   \"location\": [\"jakarta\", \"bandung\", \"surabaya\", \"jogja\"]\n",
    "}\n",
    "print (profiles)"
   ]
  },
  {
   "cell_type": "code",
   "execution_count": 58,
   "id": "d0b16166",
   "metadata": {},
   "outputs": [
    {
     "name": "stdout",
     "output_type": "stream",
     "text": [
      "dict_keys(['names', 'age', 'location'])\n",
      "dict_values([['harry', 'michael', 'jordan', 'super'], [18, 33, 24, 40], ['jakarta', 'bandung', 'surabaya', 'jogja']])\n"
     ]
    }
   ],
   "source": [
    "print(profiles.keys())\n",
    "print(profiles.values())"
   ]
  },
  {
   "cell_type": "code",
   "execution_count": 59,
   "id": "e2e7b484",
   "metadata": {
    "scrolled": true
   },
   "outputs": [
    {
     "name": "stdout",
     "output_type": "stream",
     "text": [
      "names - ['harry', 'michael', 'jordan', 'super']\n",
      "age - [18, 33, 24, 40]\n",
      "location - ['jakarta', 'bandung', 'surabaya', 'jogja']\n"
     ]
    }
   ],
   "source": [
    "for key in profiles.keys():\n",
    "    print(key,\"-\", profiles[key])"
   ]
  },
  {
   "cell_type": "code",
   "execution_count": 60,
   "id": "e5b58b5e",
   "metadata": {},
   "outputs": [
    {
     "data": {
      "text/plain": [
       "dict_items([('names', ['harry', 'michael', 'jordan', 'super']), ('age', [18, 33, 24, 40]), ('location', ['jakarta', 'bandung', 'surabaya', 'jogja'])])"
      ]
     },
     "execution_count": 60,
     "metadata": {},
     "output_type": "execute_result"
    }
   ],
   "source": [
    "profiles.items()"
   ]
  },
  {
   "cell_type": "code",
   "execution_count": 61,
   "id": "6c1466bc",
   "metadata": {},
   "outputs": [
    {
     "data": {
      "text/plain": [
       "('names', ['harry', 'michael', 'jordan', 'super'])"
      ]
     },
     "execution_count": 61,
     "metadata": {},
     "output_type": "execute_result"
    }
   ],
   "source": [
    "list(profiles.items())[0]"
   ]
  },
  {
   "cell_type": "code",
   "execution_count": 62,
   "id": "1080d7c9",
   "metadata": {},
   "outputs": [
    {
     "name": "stdout",
     "output_type": "stream",
     "text": [
      "names - ['harry', 'michael', 'jordan', 'super']\n"
     ]
    }
   ],
   "source": [
    "key, value = list(profiles.items())[0]\n",
    "print(key, \"-\", value)"
   ]
  },
  {
   "cell_type": "code",
   "execution_count": 63,
   "id": "db16b3cc",
   "metadata": {},
   "outputs": [
    {
     "name": "stdout",
     "output_type": "stream",
     "text": [
      "names - ['harry', 'michael', 'jordan', 'super']\n",
      "age - [18, 33, 24, 40]\n",
      "location - ['jakarta', 'bandung', 'surabaya', 'jogja']\n"
     ]
    }
   ],
   "source": [
    "for key, value in profiles.items():\n",
    "    print(key, \"-\", value)"
   ]
  },
  {
   "cell_type": "code",
   "execution_count": 67,
   "id": "b08ef8bc",
   "metadata": {},
   "outputs": [
    {
     "name": "stdout",
     "output_type": "stream",
     "text": [
      "{'names': ['harry', 'michael', 'jordan', 'super'], 'age': [18, 33, 24, 40], 'location': ['jakarta', 'bandung', 'surabaya', 'jogja'], 'twos': [0, 2, 4, 6], 'three': [0, 3, 6, 9], 'fours': [0, 4, 8, 12], 'fives': [0, 5, 10, 15], 'sixes': [0, 6, 12, 18]}\n"
     ]
    }
   ],
   "source": [
    "list_keys = [\"twos\", \"three\", \"fours\", \"fives\", \"sixes\"]\n",
    "multiplier = 2\n",
    "for key in list_keys:\n",
    "    value = []\n",
    "    for i in range(4):\n",
    "        value.append(i * multiplier) #nambahin satu item \n",
    "    multiplier = multiplier + 1\n",
    "    profiles[key] = value\n",
    "print(profiles)"
   ]
  }
 ],
 "metadata": {
  "kernelspec": {
   "display_name": "Python 3",
   "language": "python",
   "name": "python3"
  },
  "language_info": {
   "codemirror_mode": {
    "name": "ipython",
    "version": 3
   },
   "file_extension": ".py",
   "mimetype": "text/x-python",
   "name": "python",
   "nbconvert_exporter": "python",
   "pygments_lexer": "ipython3",
   "version": "3.9.4"
  }
 },
 "nbformat": 4,
 "nbformat_minor": 5
}
