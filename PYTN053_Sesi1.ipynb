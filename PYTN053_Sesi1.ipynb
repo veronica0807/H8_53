{
 "cells": [
  {
   "cell_type": "markdown",
   "id": "4bd3270e",
   "metadata": {},
   "source": [
    "Ini adalah markdown. Ini adalah  **bold**."
   ]
  },
  {
   "cell_type": "code",
   "execution_count": 1,
   "id": "2c8a8c6d",
   "metadata": {},
   "outputs": [
    {
     "data": {
      "text/plain": [
       "100"
      ]
     },
     "execution_count": 1,
     "metadata": {},
     "output_type": "execute_result"
    }
   ],
   "source": [
    "100"
   ]
  },
  {
   "cell_type": "code",
   "execution_count": 2,
   "id": "40249978",
   "metadata": {},
   "outputs": [
    {
     "name": "stdout",
     "output_type": "stream",
     "text": [
      "Python 3.9.4\n"
     ]
    }
   ],
   "source": [
    "!python --version"
   ]
  },
  {
   "cell_type": "code",
   "execution_count": 3,
   "id": "d664b306",
   "metadata": {},
   "outputs": [
    {
     "name": "stdout",
     "output_type": "stream",
     "text": [
      "999\n"
     ]
    }
   ],
   "source": [
    "print(999)\n",
    "#print menampilkan sesuatu - build in function , keyword"
   ]
  },
  {
   "cell_type": "code",
   "execution_count": 4,
   "id": "6372432e",
   "metadata": {},
   "outputs": [
    {
     "data": {
      "text/plain": [
       "int"
      ]
     },
     "execution_count": 4,
     "metadata": {},
     "output_type": "execute_result"
    }
   ],
   "source": [
    "type(999)\n",
    "#menunjukkan type data"
   ]
  },
  {
   "cell_type": "code",
   "execution_count": 5,
   "id": "16bf8af8",
   "metadata": {},
   "outputs": [
    {
     "data": {
      "text/plain": [
       "float"
      ]
     },
     "execution_count": 5,
     "metadata": {},
     "output_type": "execute_result"
    }
   ],
   "source": [
    "type(3.14)"
   ]
  },
  {
   "cell_type": "code",
   "execution_count": 6,
   "id": "0a60ae1e",
   "metadata": {
    "scrolled": true
   },
   "outputs": [
    {
     "data": {
      "text/plain": [
       "float"
      ]
     },
     "execution_count": 6,
     "metadata": {},
     "output_type": "execute_result"
    }
   ],
   "source": [
    "type(1.0)"
   ]
  },
  {
   "cell_type": "code",
   "execution_count": 7,
   "id": "9adbc80a",
   "metadata": {},
   "outputs": [
    {
     "data": {
      "text/plain": [
       "int"
      ]
     },
     "execution_count": 7,
     "metadata": {},
     "output_type": "execute_result"
    }
   ],
   "source": [
    "type(1)"
   ]
  },
  {
   "cell_type": "code",
   "execution_count": 10,
   "id": "63eeb69f",
   "metadata": {},
   "outputs": [
    {
     "name": "stdout",
     "output_type": "stream",
     "text": [
      "1.0\n",
      "0.3\n"
     ]
    },
    {
     "data": {
      "text/plain": [
       "float"
      ]
     },
     "execution_count": 10,
     "metadata": {},
     "output_type": "execute_result"
    }
   ],
   "source": [
    "print(1.)\n",
    "type(1.)\n",
    "print(.3)\n",
    "type(.3)\n",
    "#ga perlu nulis 0"
   ]
  },
  {
   "cell_type": "code",
   "execution_count": 11,
   "id": "b9d2000f",
   "metadata": {},
   "outputs": [
    {
     "name": "stdout",
     "output_type": "stream",
     "text": [
      "12345\n"
     ]
    }
   ],
   "source": [
    "print(12345)\n",
    "#ga ada tulisan OUT, dengan menulis print bentuk tampilan 12345, print ga nampilin output tp nampilin display"
   ]
  },
  {
   "cell_type": "code",
   "execution_count": 12,
   "id": "c5e93530",
   "metadata": {},
   "outputs": [
    {
     "data": {
      "text/plain": [
       "1234"
      ]
     },
     "execution_count": 12,
     "metadata": {},
     "output_type": "execute_result"
    }
   ],
   "source": [
    "1234\n",
    "#dia ga nampilin tetapi cuma menghasilkan output"
   ]
  },
  {
   "cell_type": "code",
   "execution_count": 13,
   "id": "fa414c06",
   "metadata": {},
   "outputs": [
    {
     "name": "stdout",
     "output_type": "stream",
     "text": [
      "hacktiv8\n",
      "hacktiv8\n"
     ]
    }
   ],
   "source": [
    "print(\"hacktiv8\")#double codes\n",
    "print('hacktiv8') #single codes"
   ]
  },
  {
   "cell_type": "code",
   "execution_count": 18,
   "id": "71f855ea",
   "metadata": {},
   "outputs": [
    {
     "name": "stdout",
     "output_type": "stream",
     "text": [
      "hacktiv8\n",
      "hacktiv8\n",
      "ha'tiv\n",
      "\"I am attending ha'tiv8\", he said\n",
      "\"I am attending ha'tiv8\", he said\n",
      "\n",
      "I ama ha'tiv.\n",
      "I am attending hacktiv8\n",
      "\n"
     ]
    }
   ],
   "source": [
    "print(\"\"\"hacktiv8\"\"\")#triple codes = untuk multiple lines\n",
    "print('''hacktiv8''')\n",
    "print(\"ha'tiv\")\n",
    "print(\"\\\"I am attending ha'tiv8\\\", he said\")\n",
    "print('\\\"I am attending ha\\'tiv8\", he said')\n",
    "print(\"\"\"\n",
    "I ama ha'tiv.\n",
    "I am attending hacktiv8\n",
    "\"\"\")\n",
    "#campsulation codes\n",
    "#print('ha'tiv')= bakal error makanya meminimalisirkan "
   ]
  },
  {
   "cell_type": "code",
   "execution_count": 19,
   "id": "8e44fa9d",
   "metadata": {},
   "outputs": [
    {
     "name": "stdout",
     "output_type": "stream",
     "text": [
      "123450\n"
     ]
    }
   ],
   "source": [
    "print(12345*10)"
   ]
  },
  {
   "cell_type": "code",
   "execution_count": 20,
   "id": "74190a0b",
   "metadata": {},
   "outputs": [
    {
     "name": "stdout",
     "output_type": "stream",
     "text": [
      "hacktiv8\n"
     ]
    },
    {
     "data": {
      "text/plain": [
       "(NoneType, NoneType)"
      ]
     },
     "execution_count": 20,
     "metadata": {},
     "output_type": "execute_result"
    }
   ],
   "source": [
    "type(print(\"hacktiv8\")),type(None) #print cuma display saja maka tidak ada type data\n",
    "#output itu ada nilai"
   ]
  },
  {
   "cell_type": "code",
   "execution_count": 21,
   "id": "a77973d5",
   "metadata": {},
   "outputs": [
    {
     "data": {
      "text/plain": [
       "(int, float, str)"
      ]
     },
     "execution_count": 21,
     "metadata": {},
     "output_type": "execute_result"
    }
   ],
   "source": [
    "type(100), type(100.),type('100')"
   ]
  },
  {
   "cell_type": "code",
   "execution_count": 22,
   "id": "a2cd0dc1",
   "metadata": {},
   "outputs": [
    {
     "data": {
      "text/plain": [
       "(100, 100.0, '100')"
      ]
     },
     "execution_count": 22,
     "metadata": {},
     "output_type": "execute_result"
    }
   ],
   "source": [
    "100, 100., '100'"
   ]
  },
  {
   "cell_type": "code",
   "execution_count": 23,
   "id": "0c4deec8",
   "metadata": {},
   "outputs": [
    {
     "data": {
      "text/plain": [
       "(int, float)"
      ]
     },
     "execution_count": 23,
     "metadata": {},
     "output_type": "execute_result"
    }
   ],
   "source": [
    "type(-10), type(-10.)"
   ]
  },
  {
   "cell_type": "code",
   "execution_count": 24,
   "id": "3c1866a4",
   "metadata": {},
   "outputs": [
    {
     "data": {
      "text/plain": [
       "(bool, bool)"
      ]
     },
     "execution_count": 24,
     "metadata": {},
     "output_type": "execute_result"
    }
   ],
   "source": [
    "type(True), type(False)"
   ]
  },
  {
   "cell_type": "code",
   "execution_count": 29,
   "id": "69350635",
   "metadata": {},
   "outputs": [
    {
     "data": {
      "text/plain": [
       "(10, 10.0, '19', True, True, True, True)"
      ]
     },
     "execution_count": 29,
     "metadata": {},
     "output_type": "execute_result"
    }
   ],
   "source": [
    "int(10.01), float(10), str(19), bool(1),bool(1000),bool(1.34),bool(-10) \n",
    "#convert type data\n",
    "#primitive data type"
   ]
  },
  {
   "cell_type": "code",
   "execution_count": 28,
   "id": "c124f8ab",
   "metadata": {},
   "outputs": [
    {
     "data": {
      "text/plain": [
       "(False, False, False)"
      ]
     },
     "execution_count": 28,
     "metadata": {},
     "output_type": "execute_result"
    }
   ],
   "source": [
    "bool(0), bool(None),bool(\"\") # ga ada datanya makanya false"
   ]
  },
  {
   "cell_type": "code",
   "execution_count": 30,
   "id": "d3e7c248",
   "metadata": {
    "scrolled": true
   },
   "outputs": [
    {
     "name": "stdout",
     "output_type": "stream",
     "text": [
      "300\n"
     ]
    }
   ],
   "source": [
    "#Variable\n",
    "n = 300\n",
    "print(n)"
   ]
  },
  {
   "cell_type": "code",
   "execution_count": 32,
   "id": "00ea007f",
   "metadata": {},
   "outputs": [
    {
     "name": "stdout",
     "output_type": "stream",
     "text": [
      "300 300 300\n"
     ]
    }
   ],
   "source": [
    "a=b=c=300\n",
    "print(a,b,c)"
   ]
  },
  {
   "cell_type": "code",
   "execution_count": 36,
   "id": "c865637f",
   "metadata": {},
   "outputs": [
    {
     "name": "stdout",
     "output_type": "stream",
     "text": [
      "1000 <class 'str'>\n"
     ]
    }
   ],
   "source": [
    "print(n, type(n))"
   ]
  },
  {
   "cell_type": "code",
   "execution_count": 39,
   "id": "f4c2ddca",
   "metadata": {},
   "outputs": [
    {
     "name": "stdout",
     "output_type": "stream",
     "text": [
      "1000 <class 'int'>\n",
      "500 500 500 <class 'int'> <class 'int'> <class 'int'>\n",
      "3.14 3.14 <class 'float'> <class 'float'>\n"
     ]
    }
   ],
   "source": [
    "n = 1000\n",
    "a = b = c = 500\n",
    "x = y = 3.14\n",
    "print(n, type(n))\n",
    "print(a,b,c, type(a), type(b), type(c))\n",
    "print(x,y, type(x), type(y))"
   ]
  },
  {
   "cell_type": "code",
   "execution_count": 37,
   "id": "d6ea0244",
   "metadata": {},
   "outputs": [
    {
     "name": "stdout",
     "output_type": "stream",
     "text": [
      "Hacktivate <class 'str'>\n",
      "1000 <class 'str'>\n"
     ]
    }
   ],
   "source": [
    "s = \"Hacktivate\"\n",
    "n = str(n)\n",
    "print(s, type(s))\n",
    "print(n, type(n))"
   ]
  },
  {
   "cell_type": "code",
   "execution_count": null,
   "id": "527a4547",
   "metadata": {},
   "outputs": [],
   "source": [
    "#klo di restart atau shut down perlu define lagi variable nya\n",
    "# run all aja atau restart & run all\n",
    "#has_laptops => slip case\n",
    "# ga boleh diawali dengan angka \n",
    "# konstan = valuenya ga bisa diubah"
   ]
  },
  {
   "cell_type": "code",
   "execution_count": 38,
   "id": "760aea58",
   "metadata": {},
   "outputs": [
    {
     "name": "stdout",
     "output_type": "stream",
     "text": [
      "syahrulhamdani 14 5\n",
      "10\n"
     ]
    }
   ],
   "source": [
    "username =\"syahrulhamdani\"\n",
    "num_students = 14\n",
    "#ns = 14 bisa aja tp enakan readible\n",
    "COUNT = 5\n",
    "print(username, num_students, COUNT)\n",
    "COUNT = 10\n",
    "print(COUNT) #biasanya capital udh dianggap tidak akan berubah"
   ]
  },
  {
   "cell_type": "code",
   "execution_count": 45,
   "id": "fdc1be8b",
   "metadata": {},
   "outputs": [
    {
     "name": "stdout",
     "output_type": "stream",
     "text": [
      "1000 <class 'int'>\n",
      "250000 <class 'float'>\n",
      "1.0\n",
      "1 <class 'int'>\n",
      "2 <class 'int'>\n",
      "2.5 <class 'float'>\n",
      "2.0\n",
      "496.86 <class 'float'>\n",
      "250000\n",
      "9.8596\n",
      "499\n"
     ]
    }
   ],
   "source": [
    "#print(a**b) = pangkat\n",
    "print(a + b, type(a*b))\n",
    "print(a * b, type(a / b))\n",
    "print(a / b)\n",
    "print(a // b, type( a // b))\n",
    "print(5 // 2, type( 5 // 2))\n",
    "print(5 / 2, type( 5 / 2))\n",
    "print(4 / 2)\n",
    "print(a - x, type(a - x))\n",
    "print(a ** 2)\n",
    "print(x ** 2)\n",
    "print(n % 501)"
   ]
  },
  {
   "cell_type": "code",
   "execution_count": 46,
   "id": "aa35c4c1",
   "metadata": {},
   "outputs": [
    {
     "data": {
      "text/plain": [
       "1"
      ]
     },
     "execution_count": 46,
     "metadata": {},
     "output_type": "execute_result"
    }
   ],
   "source": [
    "5 % 2"
   ]
  },
  {
   "cell_type": "code",
   "execution_count": 48,
   "id": "288e1bb2",
   "metadata": {
    "scrolled": true
   },
   "outputs": [
    {
     "ename": "SyntaxError",
     "evalue": "invalid syntax (<ipython-input-48-fcfb750e529d>, line 1)",
     "output_type": "error",
     "traceback": [
      "\u001b[1;36m  File \u001b[1;32m\"<ipython-input-48-fcfb750e529d>\"\u001b[1;36m, line \u001b[1;32m1\u001b[0m\n\u001b[1;33m    $5/2 = (2 * 2) + 1$\u001b[0m\n\u001b[1;37m    ^\u001b[0m\n\u001b[1;31mSyntaxError\u001b[0m\u001b[1;31m:\u001b[0m invalid syntax\n"
     ]
    }
   ],
   "source": [
    "#$5/2 = (2 * 2) + 1$"
   ]
  },
  {
   "cell_type": "code",
   "execution_count": 55,
   "id": "4821288c",
   "metadata": {},
   "outputs": [
    {
     "name": "stdout",
     "output_type": "stream",
     "text": [
      "HacktivateHacktivateHacktivate\n",
      "HacktivateHacktivateHacktivate\n"
     ]
    }
   ],
   "source": [
    "print(s * 3)\n",
    "print(s + s + s)"
   ]
  },
  {
   "cell_type": "code",
   "execution_count": 58,
   "id": "c6729595",
   "metadata": {
    "scrolled": true
   },
   "outputs": [
    {
     "name": "stdout",
     "output_type": "stream",
     "text": [
      "Hacktivate3\n",
      "hacktiv 8\n",
      "hacktiv 8 hacktiv8 hacktiv8\n"
     ]
    }
   ],
   "source": [
    "print(s+ str(3)) \n",
    "print(\"hacktiv\" + \" \" + \"8\")\n",
    "print(\"hacktiv\" + \" \" + \"8\", \"hacktiv\" + \"8\", \"hacktiv\" + str(8))"
   ]
  },
  {
   "cell_type": "code",
   "execution_count": 62,
   "id": "d322d5ad",
   "metadata": {},
   "outputs": [
    {
     "name": "stdout",
     "output_type": "stream",
     "text": [
      "\n",
      "\n",
      "\n",
      "\n"
     ]
    },
    {
     "data": {
      "text/plain": [
       "NoneType"
      ]
     },
     "execution_count": 62,
     "metadata": {},
     "output_type": "execute_result"
    }
   ],
   "source": [
    "print(s *-1)\n",
    "print((s*3) *-1)\n",
    "print(\"ackack\" * -1)\n",
    "type(print(\"ackack\" * 0))\n"
   ]
  },
  {
   "cell_type": "code",
   "execution_count": 63,
   "id": "651b6023",
   "metadata": {
    "scrolled": false
   },
   "outputs": [
    {
     "name": "stdout",
     "output_type": "stream",
     "text": [
      "monty's python\n",
      "hacktiv8\n",
      "Monty'S Python\n",
      "HACKTIV8\n",
      "My9NaMeis\n",
      "my9nameis\n"
     ]
    }
   ],
   "source": [
    "book_title = \"monty's python\"\n",
    "bootcamp_name = \"hacktiv8\"\n",
    "password = \"mY9nAmEIS\"\n",
    "\n",
    "print(book_title)\n",
    "print(bootcamp_name)\n",
    "print(book_title.title())\n",
    "print(bootcamp_name.upper())\n",
    "print(password.swapcase()) #built in method\n",
    "print(password.lower()) #built in method of string\n",
    "#' funtuation\n"
   ]
  },
  {
   "cell_type": "code",
   "execution_count": 1,
   "id": "1e1c92cc",
   "metadata": {},
   "outputs": [
    {
     "data": {
      "text/plain": [
       "\"Whether you think you can, or you think you can't--you're right.\""
      ]
     },
     "execution_count": 1,
     "metadata": {},
     "output_type": "execute_result"
    }
   ],
   "source": [
    "\"Whether you think you can, or you think you can't--you're right.\""
   ]
  },
  {
   "cell_type": "code",
   "execution_count": 2,
   "id": "bcdc302c",
   "metadata": {},
   "outputs": [
    {
     "name": "stdout",
     "output_type": "stream",
     "text": [
      "Whether you think you can, or you think you can't--you're right.\n"
     ]
    }
   ],
   "source": [
    "print('Whether you think you can, or you think you can\\'t--you\\'re right.')"
   ]
  },
  {
   "cell_type": "markdown",
   "id": "5036855e",
   "metadata": {},
   "source": [
    "## PYTHON LISTS"
   ]
  },
  {
   "cell_type": "code",
   "execution_count": 4,
   "id": "98134b16",
   "metadata": {},
   "outputs": [
    {
     "name": "stdout",
     "output_type": "stream",
     "text": [
      "['Adit', 'Bagus', 'Daniel', 'Dezenia', 'Ilham', 'Maria', 'Yusuf', 53, 8] <class 'list'>\n"
     ]
    }
   ],
   "source": [
    "names = [\"Adit\" ,\"Bagus\", \"Daniel\", \"Dezenia\", \"Ilham\", \"Maria\",\"Yusuf\", 53, 8]\n",
    "print(names, type(names))"
   ]
  },
  {
   "cell_type": "code",
   "execution_count": null,
   "id": "c775ac26",
   "metadata": {},
   "outputs": [],
   "source": [
    "#list ordered -> bisa mengurutkan item ke satu hingga ke akhir\n",
    "#Slicing item 1- item 3 diambil\n",
    "#item yang terkandung bisa str atau int\n",
    "#list bisa terdiri dari list juga list of list\n",
    "#mutable -> bisa diubah\n",
    "#list ordered \n",
    "# a==b kalau sama akan jadi true klo ga sama jadi false"
   ]
  },
  {
   "cell_type": "code",
   "execution_count": 5,
   "id": "2731d39b",
   "metadata": {},
   "outputs": [
    {
     "data": {
      "text/plain": [
       "True"
      ]
     },
     "execution_count": 5,
     "metadata": {},
     "output_type": "execute_result"
    }
   ],
   "source": [
    "names == names"
   ]
  },
  {
   "cell_type": "code",
   "execution_count": 6,
   "id": "6fd954e1",
   "metadata": {},
   "outputs": [
    {
     "name": "stdout",
     "output_type": "stream",
     "text": [
      "['Satya', 'Richard', 'Stefani', 'Timotius', 'Veronica', 'Viony', 'Yoga']\n"
     ]
    }
   ],
   "source": [
    "others = [\"Satya\", \"Richard\", \"Stefani\", \"Timotius\", \"Veronica\", \"Viony\", \"Yoga\"]\n",
    "print(others)"
   ]
  },
  {
   "cell_type": "code",
   "execution_count": 7,
   "id": "bd2f927d",
   "metadata": {},
   "outputs": [
    {
     "data": {
      "text/plain": [
       "False"
      ]
     },
     "execution_count": 7,
     "metadata": {},
     "output_type": "execute_result"
    }
   ],
   "source": [
    "names == others"
   ]
  },
  {
   "cell_type": "code",
   "execution_count": 8,
   "id": "c74de4b7",
   "metadata": {},
   "outputs": [
    {
     "data": {
      "text/plain": [
       "7"
      ]
     },
     "execution_count": 8,
     "metadata": {},
     "output_type": "execute_result"
    }
   ],
   "source": [
    "#build in function \n",
    "# print, len, str\n",
    "# len = akan mengembalikan jumlah item yang terdapat pada sequence item\n",
    "len(others)"
   ]
  },
  {
   "cell_type": "code",
   "execution_count": 9,
   "id": "ee2cbb9f",
   "metadata": {
    "scrolled": true
   },
   "outputs": [
    {
     "name": "stdout",
     "output_type": "stream",
     "text": [
      "length others: 7\n",
      "length names : 9\n"
     ]
    }
   ],
   "source": [
    "num_others = len(others)\n",
    "num_names = len(names)\n",
    "\n",
    "print(\"length others:\", num_others)\n",
    "print(\"length names :\", num_names)"
   ]
  },
  {
   "cell_type": "code",
   "execution_count": 12,
   "id": "c0fd4ff1",
   "metadata": {},
   "outputs": [
    {
     "data": {
      "text/plain": [
       "6"
      ]
     },
     "execution_count": 12,
     "metadata": {},
     "output_type": "execute_result"
    }
   ],
   "source": [
    "len ([1, 2, 3, 4, [1, 2, 3], [\"satu\", \"dua\"]])\n",
    "# yang di dalam list dihitung jadi satu item"
   ]
  },
  {
   "cell_type": "code",
   "execution_count": 13,
   "id": "bb750493",
   "metadata": {},
   "outputs": [
    {
     "data": {
      "text/plain": [
       "[[1, 2, 3], [2, 3], ['satu', 'dua', 'tiga', 'empat']]"
      ]
     },
     "execution_count": 13,
     "metadata": {},
     "output_type": "execute_result"
    }
   ],
   "source": [
    "[[1,2,3], [2,3], [\"satu\", \"dua\", \"tiga\", \"empat\"]]"
   ]
  },
  {
   "cell_type": "code",
   "execution_count": 14,
   "id": "18a67f69",
   "metadata": {},
   "outputs": [
    {
     "name": "stdout",
     "output_type": "stream",
     "text": [
      "item 1 of names: Adit\n",
      "item 2 of names: Bagus\n",
      "item 5 of names: Ilham\n"
     ]
    }
   ],
   "source": [
    "print(\"item 1 of names:\", names[0])\n",
    "print(\"item 2 of names:\", names[1])\n",
    "print(\"item 5 of names:\", names[4])"
   ]
  },
  {
   "cell_type": "code",
   "execution_count": 15,
   "id": "6f84345a",
   "metadata": {},
   "outputs": [
    {
     "name": "stdout",
     "output_type": "stream",
     "text": [
      "[None, True, -100, 'h8', 0.001]\n"
     ]
    }
   ],
   "source": [
    "randoms = [None, True, -100, \"h8\", 0.001]\n",
    "print(randoms)"
   ]
  },
  {
   "cell_type": "code",
   "execution_count": 20,
   "id": "7c564dd2",
   "metadata": {},
   "outputs": [
    {
     "name": "stdout",
     "output_type": "stream",
     "text": [
      "None True h8\n"
     ]
    }
   ],
   "source": [
    "print(randoms[0], randoms[1], randoms[3])"
   ]
  },
  {
   "cell_type": "code",
   "execution_count": 27,
   "id": "fa76628c",
   "metadata": {},
   "outputs": [
    {
     "name": "stdout",
     "output_type": "stream",
     "text": [
      "Yoga\n",
      "Adit\n",
      "Adit\n",
      "True\n",
      "Adit Adit\n",
      "True\n",
      "8 8\n",
      "8 53\n"
     ]
    }
   ],
   "source": [
    "#negative index\n",
    "print(others[-1])\n",
    "print(names[0])\n",
    "print(names[-9])\n",
    "print(names [0] == names[-len(names)])\n",
    "print(names [0], names[-len(names)])\n",
    "print(names[len(names)-1] == names[-1])\n",
    "print(names[len(names)-1], names[-1])\n",
    "print(names[-1], names[-2])"
   ]
  },
  {
   "cell_type": "code",
   "execution_count": 28,
   "id": "dca67bd6",
   "metadata": {},
   "outputs": [
    {
     "name": "stdout",
     "output_type": "stream",
     "text": [
      "['Satya', 'Richard', 'Stefani', 'Timotius', 'Veronica', 'Viony', 'Yoga']\n"
     ]
    }
   ],
   "source": [
    "#Slicing\n",
    "# a[m:n]\n",
    "\n",
    "print(others)"
   ]
  },
  {
   "cell_type": "code",
   "execution_count": 31,
   "id": "737b488f",
   "metadata": {},
   "outputs": [
    {
     "name": "stdout",
     "output_type": "stream",
     "text": [
      "['Richard', 'Stefani', 'Timotius']\n",
      "['Richard', 'Stefani', 'Timotius'] ['Stefani', 'Timotius', 'Veronica'] ['Satya', 'Richard', 'Stefani']\n"
     ]
    }
   ],
   "source": [
    "print(others[1:4])\n",
    "print(others[1:4], others[2:5], others[0:len(others)//2])\n",
    "# index ke-empat tidak ditampilkan\n",
    "# // biar int, pake len biar tau tengahnya"
   ]
  },
  {
   "cell_type": "code",
   "execution_count": 33,
   "id": "1e8e6c88",
   "metadata": {},
   "outputs": [
    {
     "name": "stdout",
     "output_type": "stream",
     "text": [
      "['Adit', 'Bagus', 'Daniel', 'Dezenia', 'Ilham', 'Maria', 'Yusuf', 53, 8]\n",
      "['Adit', 'Bagus', 'Daniel', 'Dezenia'] ['Ilham', 'Maria', 'Yusuf', 53, 8]\n"
     ]
    }
   ],
   "source": [
    "print(names)\n",
    "print(names[0:len(names)//2], names[len(names)//2:])\n",
    "#dezenia itu 4.5 jadi kemasuk index 4"
   ]
  },
  {
   "cell_type": "code",
   "execution_count": 37,
   "id": "a1cd8481",
   "metadata": {},
   "outputs": [
    {
     "name": "stdout",
     "output_type": "stream",
     "text": [
      "[[1, 2, 3], 4, [5, 6, 7]]\n",
      "[1, 2, 3] 4 [5, 6, 7]\n",
      "1 [2, 3]\n"
     ]
    }
   ],
   "source": [
    "nested_list= [[1,2,3],4,[5,6,7]]\n",
    "print(nested_list)\n",
    "print(nested_list[0], nested_list[1], nested_list[2])\n",
    "print(nested_list[0][0], nested_list[0][1:])\n"
   ]
  },
  {
   "cell_type": "code",
   "execution_count": 42,
   "id": "7fbe39fe",
   "metadata": {},
   "outputs": [
    {
     "name": "stdout",
     "output_type": "stream",
     "text": [
      "['hacktiv8', 'Bagus', 'Daniel', 'Dezenia', 'Ilham', 'Maria', 'Yusuf', 53, 8]\n"
     ]
    }
   ],
   "source": [
    "names[0] = \"hacktiv8\"\n",
    "print(names)"
   ]
  },
  {
   "cell_type": "markdown",
   "id": "6e375288",
   "metadata": {},
   "source": [
    "## Python Tuples"
   ]
  },
  {
   "cell_type": "code",
   "execution_count": 38,
   "id": "b11e97b3",
   "metadata": {},
   "outputs": [],
   "source": [
    "#tuples pake () tp ga bisa diubah"
   ]
  },
  {
   "cell_type": "code",
   "execution_count": 43,
   "id": "b5537023",
   "metadata": {},
   "outputs": [
    {
     "name": "stdout",
     "output_type": "stream",
     "text": [
      "('PYTN53', 'PYTN54', 53, 54) 4 PYTN53 <class 'tuple'>\n",
      "(('PYTN053ONL', 53), ('PYTN054ONL', 54)) 2 ('PYTN053ONL', 53) <class 'tuple'>\n"
     ]
    }
   ],
   "source": [
    "batch =(\"PYTN53\", \"PYTN54\", 53, 54)\n",
    "batches = ((\"PYTN053ONL\", 53),(\"PYTN054ONL\",54))\n",
    "print(batch, len(batch), batch[0], type(batch))\n",
    "print(batches,len(batches), batches[0], type(batches))"
   ]
  },
  {
   "cell_type": "code",
   "execution_count": null,
   "id": "19354f89",
   "metadata": {},
   "outputs": [],
   "source": [
    "#batch[-1] = 100 bakal error will throw error\n",
    "#digunain biar ga sengaja diganti"
   ]
  },
  {
   "cell_type": "code",
   "execution_count": 49,
   "id": "c12f68c3",
   "metadata": {},
   "outputs": [
    {
     "name": "stdout",
     "output_type": "stream",
     "text": [
      "PYTN53\n",
      "PYTN54\n",
      "53\n",
      "54\n",
      "('PYTN053ONL', 53)\n",
      "('PYTN054ONL', 54)\n",
      "('PYTN053ONL', 53)\n",
      "('PYTN054ONL', 54)\n"
     ]
    }
   ],
   "source": [
    "# packing and unpacking\n",
    "a, b, c, d = batch # unpacking\n",
    "print(a)\n",
    "print(b)\n",
    "print(c)\n",
    "print(d)\n",
    "\n",
    "batch_name, batch_number = batches\n",
    "print(batch_name)\n",
    "print(batch_number)\n",
    "\n",
    "name_1, _ = batches\n",
    "print(name_1)\n",
    "print(name_2) # _ menandakan ga akan dipakai"
   ]
  },
  {
   "cell_type": "markdown",
   "id": "91857494",
   "metadata": {},
   "source": [
    "## Python Dictionary"
   ]
  },
  {
   "cell_type": "code",
   "execution_count": 50,
   "id": "79ba759f",
   "metadata": {},
   "outputs": [],
   "source": [
    "#type data meta, bisa tau type nya dan index tapi namanya bukan index tp key-value\n",
    "#contoh: names : Satya, pemisah antar value :"
   ]
  },
  {
   "cell_type": "code",
   "execution_count": 51,
   "id": "3a581192",
   "metadata": {},
   "outputs": [
    {
     "name": "stdout",
     "output_type": "stream",
     "text": [
      "{'names': ['harry', 'michael', 'jordan', 'super'], 'age': [18, 33, 24, 40], 100: 'seratus'} <class 'dict'>\n"
     ]
    }
   ],
   "source": [
    "profiles = {\n",
    "    \"names\" : [\"harry\", \"michael\", \"jordan\", \"super\"], \n",
    "    \"age\" : [18, 33, 24, 40], \n",
    "    100: \"seratus\"\n",
    "}\n",
    "print(profiles, type(profiles))"
   ]
  },
  {
   "cell_type": "code",
   "execution_count": 52,
   "id": "55b234e4",
   "metadata": {},
   "outputs": [
    {
     "data": {
      "text/plain": [
       "'seratus'"
      ]
     },
     "execution_count": 52,
     "metadata": {},
     "output_type": "execute_result"
    }
   ],
   "source": [
    "profiles[100]"
   ]
  },
  {
   "cell_type": "code",
   "execution_count": 53,
   "id": "80a6d603",
   "metadata": {},
   "outputs": [
    {
     "data": {
      "text/plain": [
       "[18, 33, 24, 40]"
      ]
     },
     "execution_count": 53,
     "metadata": {},
     "output_type": "execute_result"
    }
   ],
   "source": [
    "profiles[\"age\"]"
   ]
  },
  {
   "cell_type": "code",
   "execution_count": 54,
   "id": "791ddfd3",
   "metadata": {},
   "outputs": [
    {
     "data": {
      "text/plain": [
       "['harry', 'michael', 'jordan', 'super']"
      ]
     },
     "execution_count": 54,
     "metadata": {},
     "output_type": "execute_result"
    }
   ],
   "source": [
    "profiles[\"names\"]"
   ]
  },
  {
   "cell_type": "code",
   "execution_count": 56,
   "id": "318e4cfd",
   "metadata": {},
   "outputs": [
    {
     "name": "stdout",
     "output_type": "stream",
     "text": [
      "dict_keys(['names', 'age', 100])\n",
      "dict_values([['harry', 'michael', 'jordan', 'super'], [18, 33, 24, 40], 'seratus'])\n"
     ]
    }
   ],
   "source": [
    "print(profiles.keys())\n",
    "print(profiles.values())"
   ]
  },
  {
   "cell_type": "code",
   "execution_count": 57,
   "id": "8774b97e",
   "metadata": {},
   "outputs": [],
   "source": [
    "profiles[\"age\"] = 50 #bisa diganti listnya"
   ]
  },
  {
   "cell_type": "code",
   "execution_count": 58,
   "id": "cbc6c7a9",
   "metadata": {
    "scrolled": true
   },
   "outputs": [
    {
     "name": "stdout",
     "output_type": "stream",
     "text": [
      "{'names': ['harry', 'michael', 'jordan', 'super'], 'age': 50, 100: 'seratus'}\n"
     ]
    }
   ],
   "source": [
    "print(profiles)"
   ]
  },
  {
   "cell_type": "code",
   "execution_count": 59,
   "id": "39b20ced",
   "metadata": {},
   "outputs": [
    {
     "name": "stdout",
     "output_type": "stream",
     "text": [
      "{'names': ['harry', 'michael', 'jordan', 'super'], 'age': 50, 100: 'seratus', 'location': ['Jakarta', 'bandung', 'Surabaya']}\n"
     ]
    }
   ],
   "source": [
    "profiles[\"location\"] = [\"Jakarta\", \"bandung\", \"Surabaya\"]\n",
    "print(profiles)"
   ]
  },
  {
   "cell_type": "code",
   "execution_count": 60,
   "id": "a3415467",
   "metadata": {},
   "outputs": [],
   "source": [
    "profiles[(1,2)] = \"(1,2)\""
   ]
  },
  {
   "cell_type": "code",
   "execution_count": 62,
   "id": "d5382aff",
   "metadata": {},
   "outputs": [
    {
     "data": {
      "text/plain": [
       "{'names': ['harry', 'michael', 'jordan', 'super'],\n",
       " 'age': 50,\n",
       " 100: 'seratus',\n",
       " 'location': ['Jakarta', 'bandung', 'Surabaya'],\n",
       " (1, 2): '(1,2)'}"
      ]
     },
     "execution_count": 62,
     "metadata": {},
     "output_type": "execute_result"
    }
   ],
   "source": [
    "profiles"
   ]
  },
  {
   "cell_type": "code",
   "execution_count": 65,
   "id": "917698dd",
   "metadata": {},
   "outputs": [
    {
     "name": "stdout",
     "output_type": "stream",
     "text": [
      "(1,2)\n"
     ]
    }
   ],
   "source": [
    "list_keys = [(1,2), (3,4), (5,6)]\n",
    "print(profiles[list_keys[0]])"
   ]
  },
  {
   "cell_type": "code",
   "execution_count": 66,
   "id": "9ff82621",
   "metadata": {},
   "outputs": [],
   "source": [
    "# a == b\n",
    "# a != b\n",
    "# a <= b\n",
    "# a >= b"
   ]
  },
  {
   "cell_type": "code",
   "execution_count": null,
   "id": "b15dd697",
   "metadata": {},
   "outputs": [],
   "source": []
  }
 ],
 "metadata": {
  "kernelspec": {
   "display_name": "Python 3",
   "language": "python",
   "name": "python3"
  },
  "language_info": {
   "codemirror_mode": {
    "name": "ipython",
    "version": 3
   },
   "file_extension": ".py",
   "mimetype": "text/x-python",
   "name": "python",
   "nbconvert_exporter": "python",
   "pygments_lexer": "ipython3",
   "version": "3.9.4"
  }
 },
 "nbformat": 4,
 "nbformat_minor": 5
}
