{
 "cells": [
  {
   "cell_type": "markdown",
   "id": "526b9830",
   "metadata": {},
   "source": [
    "# Function, Module, and Package"
   ]
  },
  {
   "cell_type": "code",
   "execution_count": 5,
   "id": "dfaf42ec",
   "metadata": {},
   "outputs": [],
   "source": [
    "#import students #students nama module\n",
    "from students import make_students, id_to_students #biar ga habisin memory ambil bagian dari modul aja\n",
    "from students import bootcamp_name as bootcamp\n",
    "#import yourmodulenameistoolong as m as itu digunain biar ga kepanjangan"
   ]
  },
  {
   "cell_type": "code",
   "execution_count": 3,
   "id": "d7ed231c",
   "metadata": {},
   "outputs": [
    {
     "data": {
      "text/plain": [
       "<function students.make_students(names)>"
      ]
     },
     "execution_count": 3,
     "metadata": {},
     "output_type": "execute_result"
    }
   ],
   "source": [
    "students.make_students"
   ]
  },
  {
   "cell_type": "code",
   "execution_count": 4,
   "id": "19b08fb6",
   "metadata": {},
   "outputs": [],
   "source": [
    "def calculate_area(p, l):\n",
    "    #print(\"p =\" , p)\n",
    "    #print(\"l =\" , l)\n",
    "    area = p * l\n",
    "    #print(area)\n",
    "    return area #untuk mengembalikan nilainya\n",
    "\n",
    "def calculate_volume(p, l, t):\n",
    "    #print(\"p =\" , p)\n",
    "    #print(\"l =\" , l)\n",
    "    #print(\"t =\" , t)\n",
    "    volume = p * l * t\n",
    "    #print(volume)\n",
    "    return volume\n",
    "\n",
    "def print_volume(x, y, z): # positional tergantung pada posisi parameter\n",
    "    volume = x * y * z\n",
    "    print(volume)\n",
    "    \n",
    "def new_print(obj, prefix=\"from h8: \"):\n",
    "    return str(prefix) + str(obj) #prefix hacktiv8"
   ]
  },
  {
   "cell_type": "code",
   "execution_count": 5,
   "id": "d88cbf0d",
   "metadata": {},
   "outputs": [],
   "source": [
    "x = 100\n",
    "y = 10\n"
   ]
  },
  {
   "cell_type": "code",
   "execution_count": 6,
   "id": "1e601ec1",
   "metadata": {},
   "outputs": [
    {
     "data": {
      "text/plain": [
       "1000"
      ]
     },
     "execution_count": 6,
     "metadata": {},
     "output_type": "execute_result"
    }
   ],
   "source": [
    "calculate_area(x,y)#function\n",
    "calculate_area(l=x,p=y)"
   ]
  },
  {
   "cell_type": "code",
   "execution_count": 7,
   "id": "912b0263",
   "metadata": {},
   "outputs": [
    {
     "data": {
      "text/plain": [
       "6"
      ]
     },
     "execution_count": 7,
     "metadata": {},
     "output_type": "execute_result"
    }
   ],
   "source": [
    "calculate_volume(1, 2, 3) #boleh masukkin angka, nilai itu bisa dikatakan argument"
   ]
  },
  {
   "cell_type": "code",
   "execution_count": 8,
   "id": "945f156a",
   "metadata": {},
   "outputs": [
    {
     "data": {
      "text/plain": [
       "30"
      ]
     },
     "execution_count": 8,
     "metadata": {},
     "output_type": "execute_result"
    }
   ],
   "source": [
    "calculate_volume(p=1, l=10, t=3) #keyword argument\n",
    "calculate_volume(t=3, p=1, l=10)# argument 3 dimasukkan kedalam parameter t\n",
    "calculate_volume(1, 10, t=3) # 10 positional arguments\n",
    "#calculate_volume(1, p=10, 3) 1 itu positional argument"
   ]
  },
  {
   "cell_type": "code",
   "execution_count": 9,
   "id": "a97896a0",
   "metadata": {},
   "outputs": [
    {
     "name": "stdout",
     "output_type": "stream",
     "text": [
      "100\n"
     ]
    }
   ],
   "source": [
    "print(100)"
   ]
  },
  {
   "cell_type": "code",
   "execution_count": 10,
   "id": "01386ee6",
   "metadata": {},
   "outputs": [
    {
     "data": {
      "text/plain": [
       "100"
      ]
     },
     "execution_count": 10,
     "metadata": {},
     "output_type": "execute_result"
    }
   ],
   "source": [
    "100"
   ]
  },
  {
   "cell_type": "code",
   "execution_count": 11,
   "id": "0f93aea6",
   "metadata": {},
   "outputs": [
    {
     "name": "stdout",
     "output_type": "stream",
     "text": [
      "60 <class 'int'>\n"
     ]
    }
   ],
   "source": [
    "volume = calculate_volume(2, 3, 10)\n",
    "print(volume, type(volume)) #function column ga punya output nilai"
   ]
  },
  {
   "cell_type": "code",
   "execution_count": 12,
   "id": "d8df1616",
   "metadata": {},
   "outputs": [
    {
     "name": "stdout",
     "output_type": "stream",
     "text": [
      "60\n",
      "60 None\n"
     ]
    }
   ],
   "source": [
    "volume_1 = calculate_volume(2,3,10)\n",
    "volume_2 = print_volume(2,3,10)\n",
    "\n",
    "print(volume_1, volume_2)"
   ]
  },
  {
   "cell_type": "code",
   "execution_count": 13,
   "id": "c6d3a706",
   "metadata": {},
   "outputs": [
    {
     "name": "stdout",
     "output_type": "stream",
     "text": [
      "Hello world!\n"
     ]
    }
   ],
   "source": [
    "print(\"Hello world!\")"
   ]
  },
  {
   "cell_type": "code",
   "execution_count": 14,
   "id": "0ac64a7d",
   "metadata": {},
   "outputs": [
    {
     "data": {
      "text/plain": [
       "'from h8: Hello world!'"
      ]
     },
     "execution_count": 14,
     "metadata": {},
     "output_type": "execute_result"
    }
   ],
   "source": [
    "new_print(\"Hello world!\")"
   ]
  },
  {
   "cell_type": "code",
   "execution_count": 15,
   "id": "1ac79a7c",
   "metadata": {},
   "outputs": [],
   "source": [
    "#append = bakal nambahin item di belakang listnya\n"
   ]
  },
  {
   "cell_type": "markdown",
   "id": "91eae7ad",
   "metadata": {},
   "source": [
    "tipe argumen\n",
    "- required arguments\n",
    "- keyword arguments\n",
    "- default argument\n",
    "- variable -length arguments"
   ]
  },
  {
   "cell_type": "markdown",
   "id": "cd832205",
   "metadata": {},
   "source": [
    "Required argument"
   ]
  },
  {
   "cell_type": "code",
   "execution_count": 16,
   "id": "6061f5bf",
   "metadata": {},
   "outputs": [
    {
     "ename": "TypeError",
     "evalue": "new_print() missing 1 required positional argument: 'obj'",
     "output_type": "error",
     "traceback": [
      "\u001b[1;31m---------------------------------------------------------------------------\u001b[0m",
      "\u001b[1;31mTypeError\u001b[0m                                 Traceback (most recent call last)",
      "\u001b[1;32m<ipython-input-16-b6e9b9c360fc>\u001b[0m in \u001b[0;36m<module>\u001b[1;34m\u001b[0m\n\u001b[0;32m      1\u001b[0m \u001b[1;31m#Required Argument\u001b[0m\u001b[1;33m\u001b[0m\u001b[1;33m\u001b[0m\u001b[1;33m\u001b[0m\u001b[0m\n\u001b[1;32m----> 2\u001b[1;33m \u001b[0mnew_print\u001b[0m\u001b[1;33m(\u001b[0m\u001b[1;33m)\u001b[0m \u001b[1;31m#parameter obj kudu masukkin nilai\u001b[0m\u001b[1;33m\u001b[0m\u001b[1;33m\u001b[0m\u001b[0m\n\u001b[0m",
      "\u001b[1;31mTypeError\u001b[0m: new_print() missing 1 required positional argument: 'obj'"
     ]
    }
   ],
   "source": [
    "#Required Argument\n",
    "new_print() #parameter obj kudu masukkin nilai"
   ]
  },
  {
   "cell_type": "code",
   "execution_count": 17,
   "id": "781eb0ae",
   "metadata": {},
   "outputs": [
    {
     "data": {
      "text/plain": [
       "'from h8: Hello World!'"
      ]
     },
     "execution_count": 17,
     "metadata": {},
     "output_type": "execute_result"
    }
   ],
   "source": [
    "# default arguments = default argumen , tanpa masukkin nilai function itu udh ada nilainya\n",
    "# 26 adalah default value parameter age\n",
    "# Optional Arguments\n",
    "new_print(\"Hello World!\")"
   ]
  },
  {
   "cell_type": "code",
   "execution_count": 18,
   "id": "28fd9fc9",
   "metadata": {},
   "outputs": [
    {
     "data": {
      "text/plain": [
       "'from me: Hi, all!'"
      ]
     },
     "execution_count": 18,
     "metadata": {},
     "output_type": "execute_result"
    }
   ],
   "source": [
    "new_print(\"Hi, all!\", \"from me: \")"
   ]
  },
  {
   "cell_type": "code",
   "execution_count": 19,
   "id": "7cdf6efa",
   "metadata": {},
   "outputs": [
    {
     "data": {
      "text/plain": [
       "'Hi, all!from me: '"
      ]
     },
     "execution_count": 19,
     "metadata": {},
     "output_type": "execute_result"
    }
   ],
   "source": [
    "new_print(\"from me: \", \"Hi, all!\")"
   ]
  },
  {
   "cell_type": "code",
   "execution_count": 20,
   "id": "4229d8fb",
   "metadata": {},
   "outputs": [
    {
     "data": {
      "text/plain": [
       "'from h8: Hello, world!'"
      ]
     },
     "execution_count": 20,
     "metadata": {},
     "output_type": "execute_result"
    }
   ],
   "source": [
    "new_print(obj=\"Hello, world!\") #keyword arguments spesify untuk assign obj helo world"
   ]
  },
  {
   "cell_type": "code",
   "execution_count": 21,
   "id": "cd5ae6d9",
   "metadata": {},
   "outputs": [],
   "source": [
    "#default argument sama kayak optional argument\n",
    "# glosary python"
   ]
  },
  {
   "cell_type": "code",
   "execution_count": 22,
   "id": "8dd215f2",
   "metadata": {},
   "outputs": [],
   "source": [
    "#anonymus function biasanya pake lamda karna function terlalu simple\n",
    "#ga terlalu disarankan pakai lamda\n",
    "#return akan menghasilkan output nilai"
   ]
  },
  {
   "cell_type": "code",
   "execution_count": 23,
   "id": "0cab4098",
   "metadata": {},
   "outputs": [
    {
     "ename": "NameError",
     "evalue": "name 'make_students' is not defined",
     "output_type": "error",
     "traceback": [
      "\u001b[1;31m---------------------------------------------------------------------------\u001b[0m",
      "\u001b[1;31mNameError\u001b[0m                                 Traceback (most recent call last)",
      "\u001b[1;32m<ipython-input-23-ac76a3f13877>\u001b[0m in \u001b[0;36m<module>\u001b[1;34m\u001b[0m\n\u001b[0;32m      1\u001b[0m \u001b[0mlist_names\u001b[0m \u001b[1;33m=\u001b[0m \u001b[1;33m[\u001b[0m\u001b[1;34m\"john\"\u001b[0m\u001b[1;33m,\u001b[0m \u001b[1;34m\"star\"\u001b[0m\u001b[1;33m,\u001b[0m \u001b[1;34m\"lucifer\"\u001b[0m\u001b[1;33m,\u001b[0m \u001b[1;34m\"python\"\u001b[0m\u001b[1;33m]\u001b[0m\u001b[1;33m\u001b[0m\u001b[1;33m\u001b[0m\u001b[0m\n\u001b[1;32m----> 2\u001b[1;33m \u001b[0mmake_students\u001b[0m\u001b[1;33m(\u001b[0m\u001b[0mlist_names\u001b[0m\u001b[1;33m)\u001b[0m\u001b[1;33m\u001b[0m\u001b[1;33m\u001b[0m\u001b[0m\n\u001b[0m",
      "\u001b[1;31mNameError\u001b[0m: name 'make_students' is not defined"
     ]
    }
   ],
   "source": [
    "list_names = [\"john\", \"star\", \"lucifer\", \"python\"]\n",
    "make_students(list_names)"
   ]
  },
  {
   "cell_type": "code",
   "execution_count": 24,
   "id": "f1b295e3",
   "metadata": {},
   "outputs": [
    {
     "ename": "NameError",
     "evalue": "name 'make_students' is not defined",
     "output_type": "error",
     "traceback": [
      "\u001b[1;31m---------------------------------------------------------------------------\u001b[0m",
      "\u001b[1;31mNameError\u001b[0m                                 Traceback (most recent call last)",
      "\u001b[1;32m<ipython-input-24-ff9b7938da0c>\u001b[0m in \u001b[0;36m<module>\u001b[1;34m\u001b[0m\n\u001b[1;32m----> 1\u001b[1;33m \u001b[0mmake_students\u001b[0m\u001b[1;33m(\u001b[0m\u001b[1;33m[\u001b[0m\u001b[1;34m\"adit\"\u001b[0m\u001b[1;33m,\u001b[0m \u001b[1;34m\"bagus\"\u001b[0m\u001b[1;33m,\u001b[0m \u001b[1;34m\"daniel\"\u001b[0m\u001b[1;33m,\u001b[0m \u001b[1;34m\"dezenia\"\u001b[0m\u001b[1;33m,\u001b[0m\u001b[1;34m\"ilham\"\u001b[0m\u001b[1;33m]\u001b[0m\u001b[1;33m)\u001b[0m\u001b[1;33m\u001b[0m\u001b[1;33m\u001b[0m\u001b[0m\n\u001b[0m",
      "\u001b[1;31mNameError\u001b[0m: name 'make_students' is not defined"
     ]
    }
   ],
   "source": [
    "make_students([\"adit\", \"bagus\", \"daniel\", \"dezenia\",\"ilham\"])"
   ]
  },
  {
   "cell_type": "code",
   "execution_count": 25,
   "id": "d5b9e3ae",
   "metadata": {},
   "outputs": [],
   "source": [
    "num_cats = 10\n",
    "\n",
    "def count_animals():\n",
    "    num_dogs = 5\n",
    "    return num_cats + num_dogs\n",
    "\n",
    "def count_cats():\n",
    "    return 2 * num_cats"
   ]
  },
  {
   "cell_type": "code",
   "execution_count": 26,
   "id": "08464320",
   "metadata": {},
   "outputs": [
    {
     "name": "stdout",
     "output_type": "stream",
     "text": [
      "count of animals: 15\n",
      "count of animals: 20\n"
     ]
    }
   ],
   "source": [
    "animals = count_animals()\n",
    "cats = count_cats()\n",
    "print(\"count of animals:\", animals)\n",
    "print(\"count of animals:\", cats)"
   ]
  },
  {
   "cell_type": "code",
   "execution_count": 27,
   "id": "e516b7e0",
   "metadata": {},
   "outputs": [],
   "source": [
    "def count_all_animals():\n",
    "    num_dogs = 10\n",
    "    num_cats = 100\n",
    "    return num_dogs + num_cats"
   ]
  },
  {
   "cell_type": "code",
   "execution_count": 28,
   "id": "386a9e9d",
   "metadata": {},
   "outputs": [
    {
     "name": "stdout",
     "output_type": "stream",
     "text": [
      "110\n"
     ]
    }
   ],
   "source": [
    "all_animals = count_all_animals()\n",
    "print(all_animals)"
   ]
  },
  {
   "cell_type": "code",
   "execution_count": 29,
   "id": "ad43912c",
   "metadata": {},
   "outputs": [
    {
     "name": "stdout",
     "output_type": "stream",
     "text": [
      "10\n"
     ]
    }
   ],
   "source": [
    "print(num_cats)"
   ]
  },
  {
   "cell_type": "code",
   "execution_count": 30,
   "id": "597b802e",
   "metadata": {},
   "outputs": [
    {
     "data": {
      "text/plain": [
       "15"
      ]
     },
     "execution_count": 30,
     "metadata": {},
     "output_type": "execute_result"
    }
   ],
   "source": [
    "count_animals()"
   ]
  },
  {
   "cell_type": "code",
   "execution_count": 31,
   "id": "825f05ce",
   "metadata": {},
   "outputs": [
    {
     "data": {
      "text/plain": [
       "{1: 'john', 2: 'star', 3: 'lucifer', 4: 'python'}"
      ]
     },
     "execution_count": 31,
     "metadata": {},
     "output_type": "execute_result"
    }
   ],
   "source": [
    "students.make_students(list_names)"
   ]
  },
  {
   "cell_type": "code",
   "execution_count": 32,
   "id": "6bb3b65b",
   "metadata": {},
   "outputs": [
    {
     "data": {
      "text/plain": [
       "{1: 'adit', 2: 'bagus', 3: 'daniel', 4: 'dezenia', 5: 'ilham'}"
      ]
     },
     "execution_count": 32,
     "metadata": {},
     "output_type": "execute_result"
    }
   ],
   "source": [
    "students.make_students([\"adit\", \"bagus\", \"daniel\", \"dezenia\",\"ilham\"])"
   ]
  },
  {
   "cell_type": "code",
   "execution_count": 33,
   "id": "3c0d67f0",
   "metadata": {},
   "outputs": [
    {
     "data": {
      "text/plain": [
       "'hacktiv8'"
      ]
     },
     "execution_count": 33,
     "metadata": {},
     "output_type": "execute_result"
    }
   ],
   "source": [
    "students.bootcamp_name"
   ]
  },
  {
   "cell_type": "code",
   "execution_count": 34,
   "id": "8b5d9b52",
   "metadata": {},
   "outputs": [
    {
     "data": {
      "text/plain": [
       "{1: 'yusuf', 2: 'satya', 3: 'richard', 4: 'stefani', 5: 'timotius'}"
      ]
     },
     "execution_count": 34,
     "metadata": {},
     "output_type": "execute_result"
    }
   ],
   "source": [
    "students.id_to_students"
   ]
  },
  {
   "cell_type": "code",
   "execution_count": null,
   "id": "88680081",
   "metadata": {},
   "outputs": [],
   "source": [
    "from students import make_students #bagian yang mau diambil dari module"
   ]
  },
  {
   "cell_type": "code",
   "execution_count": 3,
   "id": "7066d387",
   "metadata": {},
   "outputs": [
    {
     "data": {
      "text/plain": [
       "{1: 'adit', 2: 'bagus', 3: 'daniel', 4: 'dezenia', 5: 'ilham'}"
      ]
     },
     "execution_count": 3,
     "metadata": {},
     "output_type": "execute_result"
    }
   ],
   "source": [
    "make_students([\"adit\", \"bagus\", \"daniel\", \"dezenia\",\"ilham\"])"
   ]
  },
  {
   "cell_type": "code",
   "execution_count": 4,
   "id": "53fb7493",
   "metadata": {},
   "outputs": [
    {
     "data": {
      "text/plain": [
       "'hacktiv8'"
      ]
     },
     "execution_count": 4,
     "metadata": {},
     "output_type": "execute_result"
    }
   ],
   "source": [
    "bootcamp_name"
   ]
  },
  {
   "cell_type": "code",
   "execution_count": 1,
   "id": "d520f8cc",
   "metadata": {},
   "outputs": [],
   "source": [
    "bootcamp_name = \"hacktiv\""
   ]
  },
  {
   "cell_type": "code",
   "execution_count": 2,
   "id": "6697fa20",
   "metadata": {},
   "outputs": [
    {
     "name": "stdout",
     "output_type": "stream",
     "text": [
      "hacktiv\n"
     ]
    }
   ],
   "source": [
    "print(bootcamp_name)"
   ]
  },
  {
   "cell_type": "code",
   "execution_count": 6,
   "id": "350dc0d9",
   "metadata": {},
   "outputs": [
    {
     "name": "stdout",
     "output_type": "stream",
     "text": [
      "hacktiv8\n"
     ]
    }
   ],
   "source": [
    "print(bootcamp)"
   ]
  },
  {
   "cell_type": "code",
   "execution_count": null,
   "id": "1cfca598",
   "metadata": {},
   "outputs": [],
   "source": [
    "#kernel adalah interpreter datanya, ga perlu di compile dulu\n",
    "# menjalankan session\n",
    "# markdown itu kayak html heading"
   ]
  },
  {
   "cell_type": "markdown",
   "id": "4342ce4a",
   "metadata": {},
   "source": [
    "## Heading 2\n",
    "### heading 3\n",
    "#### heading 4\n",
    "##### heading 5\n",
    "\n",
    "_bold_, **bold**, teks biasa\n",
    "_italic_, *italic*,teks biasa\n",
    "$\\pi + 0.27$\n",
    "$x^{10}$\n",
    "![hacktiv](https://images.app.goo.gl/jpV2aFagyts8Pc5q6)"
   ]
  },
  {
   "cell_type": "code",
   "execution_count": null,
   "id": "a4415d91",
   "metadata": {},
   "outputs": [],
   "source": [
    "# %python hello.py"
   ]
  },
  {
   "cell_type": "code",
   "execution_count": 7,
   "id": "3e248a09",
   "metadata": {},
   "outputs": [
    {
     "name": "stdout",
     "output_type": "stream",
     "text": [
      "usage: hello.py [-h] yourname\n",
      "\n",
      "A welcome drink (read: script) for you.\n",
      "\n",
      "positional arguments:\n",
      "  yourname    write your name wrapped in a double-quotes\n",
      "\n",
      "optional arguments:\n",
      "  -h, --help  show this help message and exit\n"
     ]
    }
   ],
   "source": [
    "!python hello.py --help"
   ]
  },
  {
   "cell_type": "code",
   "execution_count": 8,
   "id": "2b676a73",
   "metadata": {},
   "outputs": [
    {
     "name": "stdout",
     "output_type": "stream",
     "text": [
      "Hello, Michael Jackson! Congratulations for starting your journey in data science.\n",
      "My name is Syahrul Bahar Hamdani, but just call me Dani for short.\n",
      "Together for the next few weeks, we will learn a lot.\n",
      "From learning how to code with Python, to using Python to solve data science problem.\n",
      "Let's get started!!\n"
     ]
    }
   ],
   "source": [
    "!python hello.py \"Michael Jackson\""
   ]
  },
  {
   "cell_type": "code",
   "execution_count": 9,
   "id": "d6d2e66c",
   "metadata": {},
   "outputs": [
    {
     "name": "stdout",
     "output_type": "stream",
     "text": [
      "Hello, Veronica! Congratulations for starting your journey in data science.\n",
      "My name is Syahrul Bahar Hamdani, but just call me Dani for short.\n",
      "Together for the next few weeks, we will learn a lot.\n",
      "From learning how to code with Python, to using Python to solve data science problem.\n",
      "Let's get started!!\n"
     ]
    }
   ],
   "source": [
    "!python hello.py Veronica"
   ]
  },
  {
   "cell_type": "code",
   "execution_count": 10,
   "id": "129a7457",
   "metadata": {},
   "outputs": [
    {
     "name": "stdout",
     "output_type": "stream",
     "text": [
      "bootcamp name: hacktiv8\n",
      "list names: ['john', 'star', 'lucifer', 'python']\n",
      "list of students with id:\n",
      "{1: 'john', 2: 'star', 3: 'lucifer', 4: 'python'}\n"
     ]
    }
   ],
   "source": [
    "!python students.py"
   ]
  },
  {
   "cell_type": "markdown",
   "id": "2eef3d44",
   "metadata": {},
   "source": [
    "## Packages\n",
    "kumpulan module\" python yang dikemas jadi satu "
   ]
  },
  {
   "cell_type": "code",
   "execution_count": 2,
   "id": "e2fe489b",
   "metadata": {},
   "outputs": [],
   "source": [
    "from hacktivate.students import make_students\n",
    "from hacktivate import students"
   ]
  },
  {
   "cell_type": "code",
   "execution_count": 3,
   "id": "b0dbe4bb",
   "metadata": {},
   "outputs": [],
   "source": [
    "import numpy"
   ]
  },
  {
   "cell_type": "code",
   "execution_count": 5,
   "id": "e13cadaf",
   "metadata": {},
   "outputs": [
    {
     "name": "stdout",
     "output_type": "stream",
     "text": [
      "Package             Version"
     ]
    },
    {
     "name": "stderr",
     "output_type": "stream",
     "text": [
      "WARNING: You are using pip version 21.0.1; however, version 21.1 is available.\n",
      "You should consider upgrading via the 'c:\\users\\asus\\appdata\\local\\programs\\python\\python39\\python.exe -m pip install --upgrade pip' command.\n"
     ]
    },
    {
     "name": "stdout",
     "output_type": "stream",
     "text": [
      "\n",
      "------------------- ----------\n",
      "argon2-cffi         20.1.0\n",
      "asgiref             3.3.4\n",
      "async-generator     1.10\n",
      "attrs               20.3.0\n",
      "backcall            0.2.0\n",
      "bleach              3.3.0\n",
      "blinker             1.4\n",
      "Brotli              1.0.9\n",
      "certifi             2020.12.5\n",
      "cffi                1.14.5\n",
      "click               7.1.2\n",
      "colorama            0.4.4\n",
      "cryptography        3.3.2\n",
      "cycler              0.10.0\n",
      "decorator           5.0.6\n",
      "defusedxml          0.7.1\n",
      "entrypoints         0.3\n",
      "Flask               1.1.2\n",
      "h11                 0.12.0\n",
      "h2                  4.0.0\n",
      "hpack               4.0.0\n",
      "hyperframe          6.0.0\n",
      "ipykernel           5.5.3\n",
      "ipython             7.22.0\n",
      "ipython-genutils    0.2.0\n",
      "ipywidgets          7.6.3\n",
      "itsdangerous        1.1.0\n",
      "jedi                0.18.0\n",
      "Jinja2              2.11.3\n",
      "joblib              1.0.1\n",
      "jsonschema          3.2.0\n",
      "jupyter             1.0.0\n",
      "jupyter-client      6.1.12\n",
      "jupyter-console     6.4.0\n",
      "jupyter-core        4.7.1\n",
      "jupyterlab-pygments 0.1.2\n",
      "jupyterlab-widgets  1.0.0\n",
      "kaitaistruct        0.9\n",
      "kiwisolver          1.3.1\n",
      "ldap3               2.8.1\n",
      "MarkupSafe          1.1.1\n",
      "matplotlib          3.4.1\n",
      "mistune             0.8.4\n",
      "mitmproxy           6.0.2\n",
      "msgpack             1.0.2\n",
      "nbclient            0.5.3\n",
      "nbconvert           6.0.7\n",
      "nbformat            5.1.3\n",
      "nest-asyncio        1.5.1\n",
      "nltk                3.6.2\n",
      "notebook            6.3.0\n",
      "numpy               1.20.2\n",
      "opencv-python       4.5.1.48\n",
      "packaging           20.9\n",
      "pandas              1.2.3\n",
      "pandocfilters       1.4.3\n",
      "parso               0.8.2\n",
      "passlib             1.7.4\n",
      "pickleshare         0.7.5\n",
      "Pillow              8.2.0\n",
      "pip                 21.0.1\n",
      "prometheus-client   0.10.1\n",
      "prompt-toolkit      3.0.18\n",
      "protobuf            3.14.0\n",
      "publicsuffix2       2.20191221\n",
      "pyasn1              0.4.8\n",
      "pycparser           2.20\n",
      "pydivert            2.1.0\n",
      "Pygments            2.8.1\n",
      "pyOpenSSL           20.0.1\n",
      "pyparsing           2.4.7\n",
      "pyperclip           1.8.2\n",
      "pyrsistent          0.17.3\n",
      "python-dateutil     2.8.1\n",
      "pytz                2021.1\n",
      "pywin32             300\n",
      "pywinpty            0.5.7\n",
      "pyzmq               22.0.3\n",
      "qtconsole           5.0.3\n",
      "QtPy                1.9.0\n",
      "regex               2021.4.4\n",
      "ruamel.yaml         0.16.13\n",
      "ruamel.yaml.clib    0.2.2\n",
      "scikit-learn        0.24.1\n",
      "scipy               1.6.2\n",
      "seaborn             0.11.1\n",
      "Send2Trash          1.5.0\n",
      "setuptools          49.2.1\n",
      "six                 1.15.0\n",
      "sklearn             0.0\n",
      "sortedcontainers    2.3.0\n",
      "terminado           0.9.4\n",
      "testpath            0.4.4\n",
      "threadpoolctl       2.1.0\n",
      "tornado             6.1\n",
      "tqdm                4.60.0\n",
      "traitlets           5.0.5\n",
      "urwid               2.1.2\n",
      "wcwidth             0.2.5\n",
      "webencodings        0.5.1\n",
      "Werkzeug            1.0.1\n",
      "widgetsnbextension  3.5.1\n",
      "wsproto             1.0.0\n",
      "zstandard           0.14.1\n"
     ]
    }
   ],
   "source": [
    "!pip list "
   ]
  }
 ],
 "metadata": {
  "kernelspec": {
   "display_name": "Python 3",
   "language": "python",
   "name": "python3"
  },
  "language_info": {
   "codemirror_mode": {
    "name": "ipython",
    "version": 3
   },
   "file_extension": ".py",
   "mimetype": "text/x-python",
   "name": "python",
   "nbconvert_exporter": "python",
   "pygments_lexer": "ipython3",
   "version": "3.9.4"
  }
 },
 "nbformat": 4,
 "nbformat_minor": 5
}
