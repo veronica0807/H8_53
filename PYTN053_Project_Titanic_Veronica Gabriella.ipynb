{
 "cells": [
  {
   "cell_type": "markdown",
   "id": "58a609c7",
   "metadata": {},
   "source": [
    "# Project : Classification - Titanic \n",
    "**Veronica Gabriella - PYTN053ONL007**"
   ]
  },
  {
   "cell_type": "markdown",
   "id": "6b062f13",
   "metadata": {},
   "source": [
    "# Titanic\n",
    "![Titanic](https://www.jigsaw-online.com/blog/wp-content/uploads/2012/04/Titanic.jpg)\n",
    "**Data source : https://www.kaggle.com/c/titanic**\n",
    "\n",
    "Tenggelamnya kapal Titanic adalah salah satu cerita bersejarah kapal tenggelam yang paling terkenal. Pada tanggal 15 April 1912, selama pelayaran perdananya, RMS Titanic yang dianggap \"tidak dapat tenggelam\",tenggelam setelah bertabrakan dengan gunung es. Sayangnya, tidak ada cukup sekoci untuk semua orang di dalamnya, mengakibatkan kematian 1502 dari 2224 penumpang dan awak. Meskipun ada beberapa unsur keberuntungan yang terlibat dalam bertahan hidup, tampaknya beberapa kelompok orang lebih mungkin untuk bertahan hidup daripada yang lain. Pada kasus ini, kita akan melakukan **teknik supervised Classification** dataset Titanic untuk memprediksi penumpang yang selamat pada kapal Titanic **(Orang yang seperti apa yang lebih mungkin selamat?)**. Berdasarkan beberapa kriteria **sosial, jenis kelamin dan tiket yang dibeli.** **Apakah perempuan akan lebih banyak yang selamat atau laki-laki? atau sebaliknya?**\n",
    "\n",
    "**Data yang dipakai adalah train.csv (891, 12)**\n",
    "\n",
    "**Data Dictionary:**\n",
    "- survival : Survival\n",
    "- pclass : Ticket Class\n",
    "- sex : Sex\n",
    "- Age : Age in years\n",
    "- sibsp : of siblings/spouses aboard the Titanic\n",
    "- parch : of parents/children aboard the Titanic\n",
    "- ticket : Ticket number\n",
    "- fare : Passenger fare\n",
    "- cabin : Cabin number\n",
    "- embarked : Port of Embarkation\n",
    "\n",
    "**Variable Notes:**\n",
    "- pclass: A proxy for socio-economic status (SES)\n",
    "    1st = Upper\n",
    "    2nd = Middle\n",
    "    3rd = Lower\n",
    "    \n",
    "- age: Age is fractional if less than 1. If the age is estimated, is it in the form of xx.5\n",
    "\n",
    "- sibsp: The dataset defines family relations in this way...\n",
    "    Sibling = brother, sister, stepbrother, stepsister\n",
    "    Spouse = husband, wife (mistresses and fiancés were ignored)\n",
    "\n",
    "- parch: The dataset defines family relations in this way...\n",
    "    Parent = mother, father\n",
    "    Child = daughter, son, stepdaughter, stepson\n",
    "    Some children travelled only with a nanny, therefore parch=0 for them.\n"
   ]
  },
  {
   "cell_type": "markdown",
   "id": "83137b1b",
   "metadata": {},
   "source": [
    "## Import Libraries \n",
    "Import libraries yang digunakan untuk project ini."
   ]
  },
  {
   "cell_type": "code",
   "execution_count": 1,
   "id": "76bffa84",
   "metadata": {},
   "outputs": [],
   "source": [
    "# Libraries\n",
    "import pandas as pd\n",
    "import numpy as np\n",
    "import matplotlib.pyplot as plt\n",
    "import seaborn as sns\n",
    "\n",
    "from sklearn.ensemble import RandomForestClassifier\n",
    "from sklearn.linear_model import LogisticRegression\n",
    "from sklearn.metrics import classification_report, confusion_matrix, accuracy_score\n",
    "from sklearn.model_selection import train_test_split, GridSearchCV\n",
    "from sklearn.naive_bayes import GaussianNB\n",
    "from sklearn.neighbors import KNeighborsClassifier\n",
    "from sklearn.preprocessing import LabelEncoder, StandardScaler\n",
    "from sklearn.svm import SVC\n",
    "from sklearn.tree import DecisionTreeClassifier"
   ]
  },
  {
   "cell_type": "markdown",
   "id": "ca7c9f73",
   "metadata": {},
   "source": [
    "## Data Loading & Exploratory Data Analysis (EDA) \n",
    "Tahapan ini kita akan melakukan load dataset terlebih dahulu, dataset yang digunakan adalah train.csv, kemudian dilanjutkan dengan proses EDA."
   ]
  },
  {
   "cell_type": "code",
   "execution_count": 2,
   "id": "554609bf",
   "metadata": {
    "scrolled": true
   },
   "outputs": [
    {
     "data": {
      "text/html": [
       "<div>\n",
       "<style scoped>\n",
       "    .dataframe tbody tr th:only-of-type {\n",
       "        vertical-align: middle;\n",
       "    }\n",
       "\n",
       "    .dataframe tbody tr th {\n",
       "        vertical-align: top;\n",
       "    }\n",
       "\n",
       "    .dataframe thead th {\n",
       "        text-align: right;\n",
       "    }\n",
       "</style>\n",
       "<table border=\"1\" class=\"dataframe\">\n",
       "  <thead>\n",
       "    <tr style=\"text-align: right;\">\n",
       "      <th></th>\n",
       "      <th>PassengerId</th>\n",
       "      <th>Survived</th>\n",
       "      <th>Pclass</th>\n",
       "      <th>Name</th>\n",
       "      <th>Sex</th>\n",
       "      <th>Age</th>\n",
       "      <th>SibSp</th>\n",
       "      <th>Parch</th>\n",
       "      <th>Ticket</th>\n",
       "      <th>Fare</th>\n",
       "      <th>Cabin</th>\n",
       "      <th>Embarked</th>\n",
       "    </tr>\n",
       "  </thead>\n",
       "  <tbody>\n",
       "    <tr>\n",
       "      <th>0</th>\n",
       "      <td>1</td>\n",
       "      <td>0</td>\n",
       "      <td>3</td>\n",
       "      <td>Braund, Mr. Owen Harris</td>\n",
       "      <td>male</td>\n",
       "      <td>22.0</td>\n",
       "      <td>1</td>\n",
       "      <td>0</td>\n",
       "      <td>A/5 21171</td>\n",
       "      <td>7.2500</td>\n",
       "      <td>NaN</td>\n",
       "      <td>S</td>\n",
       "    </tr>\n",
       "    <tr>\n",
       "      <th>1</th>\n",
       "      <td>2</td>\n",
       "      <td>1</td>\n",
       "      <td>1</td>\n",
       "      <td>Cumings, Mrs. John Bradley (Florence Briggs Th...</td>\n",
       "      <td>female</td>\n",
       "      <td>38.0</td>\n",
       "      <td>1</td>\n",
       "      <td>0</td>\n",
       "      <td>PC 17599</td>\n",
       "      <td>71.2833</td>\n",
       "      <td>C85</td>\n",
       "      <td>C</td>\n",
       "    </tr>\n",
       "    <tr>\n",
       "      <th>2</th>\n",
       "      <td>3</td>\n",
       "      <td>1</td>\n",
       "      <td>3</td>\n",
       "      <td>Heikkinen, Miss. Laina</td>\n",
       "      <td>female</td>\n",
       "      <td>26.0</td>\n",
       "      <td>0</td>\n",
       "      <td>0</td>\n",
       "      <td>STON/O2. 3101282</td>\n",
       "      <td>7.9250</td>\n",
       "      <td>NaN</td>\n",
       "      <td>S</td>\n",
       "    </tr>\n",
       "    <tr>\n",
       "      <th>3</th>\n",
       "      <td>4</td>\n",
       "      <td>1</td>\n",
       "      <td>1</td>\n",
       "      <td>Futrelle, Mrs. Jacques Heath (Lily May Peel)</td>\n",
       "      <td>female</td>\n",
       "      <td>35.0</td>\n",
       "      <td>1</td>\n",
       "      <td>0</td>\n",
       "      <td>113803</td>\n",
       "      <td>53.1000</td>\n",
       "      <td>C123</td>\n",
       "      <td>S</td>\n",
       "    </tr>\n",
       "    <tr>\n",
       "      <th>4</th>\n",
       "      <td>5</td>\n",
       "      <td>0</td>\n",
       "      <td>3</td>\n",
       "      <td>Allen, Mr. William Henry</td>\n",
       "      <td>male</td>\n",
       "      <td>35.0</td>\n",
       "      <td>0</td>\n",
       "      <td>0</td>\n",
       "      <td>373450</td>\n",
       "      <td>8.0500</td>\n",
       "      <td>NaN</td>\n",
       "      <td>S</td>\n",
       "    </tr>\n",
       "  </tbody>\n",
       "</table>\n",
       "</div>"
      ],
      "text/plain": [
       "   PassengerId  Survived  Pclass  \\\n",
       "0            1         0       3   \n",
       "1            2         1       1   \n",
       "2            3         1       3   \n",
       "3            4         1       1   \n",
       "4            5         0       3   \n",
       "\n",
       "                                                Name     Sex   Age  SibSp  \\\n",
       "0                            Braund, Mr. Owen Harris    male  22.0      1   \n",
       "1  Cumings, Mrs. John Bradley (Florence Briggs Th...  female  38.0      1   \n",
       "2                             Heikkinen, Miss. Laina  female  26.0      0   \n",
       "3       Futrelle, Mrs. Jacques Heath (Lily May Peel)  female  35.0      1   \n",
       "4                           Allen, Mr. William Henry    male  35.0      0   \n",
       "\n",
       "   Parch            Ticket     Fare Cabin Embarked  \n",
       "0      0         A/5 21171   7.2500   NaN        S  \n",
       "1      0          PC 17599  71.2833   C85        C  \n",
       "2      0  STON/O2. 3101282   7.9250   NaN        S  \n",
       "3      0            113803  53.1000  C123        S  \n",
       "4      0            373450   8.0500   NaN        S  "
      ]
     },
     "execution_count": 2,
     "metadata": {},
     "output_type": "execute_result"
    }
   ],
   "source": [
    "# train dataset\n",
    "df_train = pd.read_csv(\"titanic/train.csv\")\n",
    "df_train.head()"
   ]
  },
  {
   "cell_type": "code",
   "execution_count": 3,
   "id": "6582c799",
   "metadata": {
    "scrolled": true
   },
   "outputs": [
    {
     "data": {
      "text/html": [
       "<div>\n",
       "<style scoped>\n",
       "    .dataframe tbody tr th:only-of-type {\n",
       "        vertical-align: middle;\n",
       "    }\n",
       "\n",
       "    .dataframe tbody tr th {\n",
       "        vertical-align: top;\n",
       "    }\n",
       "\n",
       "    .dataframe thead th {\n",
       "        text-align: right;\n",
       "    }\n",
       "</style>\n",
       "<table border=\"1\" class=\"dataframe\">\n",
       "  <thead>\n",
       "    <tr style=\"text-align: right;\">\n",
       "      <th></th>\n",
       "      <th>PassengerId</th>\n",
       "      <th>Survived</th>\n",
       "      <th>Pclass</th>\n",
       "      <th>Name</th>\n",
       "      <th>Sex</th>\n",
       "      <th>Age</th>\n",
       "      <th>SibSp</th>\n",
       "      <th>Parch</th>\n",
       "      <th>Ticket</th>\n",
       "      <th>Fare</th>\n",
       "      <th>Cabin</th>\n",
       "      <th>Embarked</th>\n",
       "    </tr>\n",
       "  </thead>\n",
       "  <tbody>\n",
       "    <tr>\n",
       "      <th>886</th>\n",
       "      <td>887</td>\n",
       "      <td>0</td>\n",
       "      <td>2</td>\n",
       "      <td>Montvila, Rev. Juozas</td>\n",
       "      <td>male</td>\n",
       "      <td>27.0</td>\n",
       "      <td>0</td>\n",
       "      <td>0</td>\n",
       "      <td>211536</td>\n",
       "      <td>13.00</td>\n",
       "      <td>NaN</td>\n",
       "      <td>S</td>\n",
       "    </tr>\n",
       "    <tr>\n",
       "      <th>887</th>\n",
       "      <td>888</td>\n",
       "      <td>1</td>\n",
       "      <td>1</td>\n",
       "      <td>Graham, Miss. Margaret Edith</td>\n",
       "      <td>female</td>\n",
       "      <td>19.0</td>\n",
       "      <td>0</td>\n",
       "      <td>0</td>\n",
       "      <td>112053</td>\n",
       "      <td>30.00</td>\n",
       "      <td>B42</td>\n",
       "      <td>S</td>\n",
       "    </tr>\n",
       "    <tr>\n",
       "      <th>888</th>\n",
       "      <td>889</td>\n",
       "      <td>0</td>\n",
       "      <td>3</td>\n",
       "      <td>Johnston, Miss. Catherine Helen \"Carrie\"</td>\n",
       "      <td>female</td>\n",
       "      <td>NaN</td>\n",
       "      <td>1</td>\n",
       "      <td>2</td>\n",
       "      <td>W./C. 6607</td>\n",
       "      <td>23.45</td>\n",
       "      <td>NaN</td>\n",
       "      <td>S</td>\n",
       "    </tr>\n",
       "    <tr>\n",
       "      <th>889</th>\n",
       "      <td>890</td>\n",
       "      <td>1</td>\n",
       "      <td>1</td>\n",
       "      <td>Behr, Mr. Karl Howell</td>\n",
       "      <td>male</td>\n",
       "      <td>26.0</td>\n",
       "      <td>0</td>\n",
       "      <td>0</td>\n",
       "      <td>111369</td>\n",
       "      <td>30.00</td>\n",
       "      <td>C148</td>\n",
       "      <td>C</td>\n",
       "    </tr>\n",
       "    <tr>\n",
       "      <th>890</th>\n",
       "      <td>891</td>\n",
       "      <td>0</td>\n",
       "      <td>3</td>\n",
       "      <td>Dooley, Mr. Patrick</td>\n",
       "      <td>male</td>\n",
       "      <td>32.0</td>\n",
       "      <td>0</td>\n",
       "      <td>0</td>\n",
       "      <td>370376</td>\n",
       "      <td>7.75</td>\n",
       "      <td>NaN</td>\n",
       "      <td>Q</td>\n",
       "    </tr>\n",
       "  </tbody>\n",
       "</table>\n",
       "</div>"
      ],
      "text/plain": [
       "     PassengerId  Survived  Pclass                                      Name  \\\n",
       "886          887         0       2                     Montvila, Rev. Juozas   \n",
       "887          888         1       1              Graham, Miss. Margaret Edith   \n",
       "888          889         0       3  Johnston, Miss. Catherine Helen \"Carrie\"   \n",
       "889          890         1       1                     Behr, Mr. Karl Howell   \n",
       "890          891         0       3                       Dooley, Mr. Patrick   \n",
       "\n",
       "        Sex   Age  SibSp  Parch      Ticket   Fare Cabin Embarked  \n",
       "886    male  27.0      0      0      211536  13.00   NaN        S  \n",
       "887  female  19.0      0      0      112053  30.00   B42        S  \n",
       "888  female   NaN      1      2  W./C. 6607  23.45   NaN        S  \n",
       "889    male  26.0      0      0      111369  30.00  C148        C  \n",
       "890    male  32.0      0      0      370376   7.75   NaN        Q  "
      ]
     },
     "execution_count": 3,
     "metadata": {},
     "output_type": "execute_result"
    }
   ],
   "source": [
    "df_train.tail()"
   ]
  },
  {
   "cell_type": "code",
   "execution_count": 4,
   "id": "ffe00d22",
   "metadata": {},
   "outputs": [
    {
     "name": "stdout",
     "output_type": "stream",
     "text": [
      "shape of dataset: (891, 12)\n"
     ]
    }
   ],
   "source": [
    "print(\"shape of dataset:\",df_train.shape)"
   ]
  },
  {
   "cell_type": "code",
   "execution_count": 5,
   "id": "19613d10",
   "metadata": {
    "scrolled": true
   },
   "outputs": [
    {
     "data": {
      "text/html": [
       "<div>\n",
       "<style scoped>\n",
       "    .dataframe tbody tr th:only-of-type {\n",
       "        vertical-align: middle;\n",
       "    }\n",
       "\n",
       "    .dataframe tbody tr th {\n",
       "        vertical-align: top;\n",
       "    }\n",
       "\n",
       "    .dataframe thead th {\n",
       "        text-align: right;\n",
       "    }\n",
       "</style>\n",
       "<table border=\"1\" class=\"dataframe\">\n",
       "  <thead>\n",
       "    <tr style=\"text-align: right;\">\n",
       "      <th></th>\n",
       "      <th>PassengerId</th>\n",
       "      <th>Survived</th>\n",
       "      <th>Pclass</th>\n",
       "      <th>Age</th>\n",
       "      <th>SibSp</th>\n",
       "      <th>Parch</th>\n",
       "      <th>Fare</th>\n",
       "    </tr>\n",
       "  </thead>\n",
       "  <tbody>\n",
       "    <tr>\n",
       "      <th>count</th>\n",
       "      <td>891.000000</td>\n",
       "      <td>891.000000</td>\n",
       "      <td>891.000000</td>\n",
       "      <td>714.000000</td>\n",
       "      <td>891.000000</td>\n",
       "      <td>891.000000</td>\n",
       "      <td>891.000000</td>\n",
       "    </tr>\n",
       "    <tr>\n",
       "      <th>mean</th>\n",
       "      <td>446.000000</td>\n",
       "      <td>0.383838</td>\n",
       "      <td>2.308642</td>\n",
       "      <td>29.699118</td>\n",
       "      <td>0.523008</td>\n",
       "      <td>0.381594</td>\n",
       "      <td>32.204208</td>\n",
       "    </tr>\n",
       "    <tr>\n",
       "      <th>std</th>\n",
       "      <td>257.353842</td>\n",
       "      <td>0.486592</td>\n",
       "      <td>0.836071</td>\n",
       "      <td>14.526497</td>\n",
       "      <td>1.102743</td>\n",
       "      <td>0.806057</td>\n",
       "      <td>49.693429</td>\n",
       "    </tr>\n",
       "    <tr>\n",
       "      <th>min</th>\n",
       "      <td>1.000000</td>\n",
       "      <td>0.000000</td>\n",
       "      <td>1.000000</td>\n",
       "      <td>0.420000</td>\n",
       "      <td>0.000000</td>\n",
       "      <td>0.000000</td>\n",
       "      <td>0.000000</td>\n",
       "    </tr>\n",
       "    <tr>\n",
       "      <th>25%</th>\n",
       "      <td>223.500000</td>\n",
       "      <td>0.000000</td>\n",
       "      <td>2.000000</td>\n",
       "      <td>20.125000</td>\n",
       "      <td>0.000000</td>\n",
       "      <td>0.000000</td>\n",
       "      <td>7.910400</td>\n",
       "    </tr>\n",
       "    <tr>\n",
       "      <th>50%</th>\n",
       "      <td>446.000000</td>\n",
       "      <td>0.000000</td>\n",
       "      <td>3.000000</td>\n",
       "      <td>28.000000</td>\n",
       "      <td>0.000000</td>\n",
       "      <td>0.000000</td>\n",
       "      <td>14.454200</td>\n",
       "    </tr>\n",
       "    <tr>\n",
       "      <th>75%</th>\n",
       "      <td>668.500000</td>\n",
       "      <td>1.000000</td>\n",
       "      <td>3.000000</td>\n",
       "      <td>38.000000</td>\n",
       "      <td>1.000000</td>\n",
       "      <td>0.000000</td>\n",
       "      <td>31.000000</td>\n",
       "    </tr>\n",
       "    <tr>\n",
       "      <th>max</th>\n",
       "      <td>891.000000</td>\n",
       "      <td>1.000000</td>\n",
       "      <td>3.000000</td>\n",
       "      <td>80.000000</td>\n",
       "      <td>8.000000</td>\n",
       "      <td>6.000000</td>\n",
       "      <td>512.329200</td>\n",
       "    </tr>\n",
       "  </tbody>\n",
       "</table>\n",
       "</div>"
      ],
      "text/plain": [
       "       PassengerId    Survived      Pclass         Age       SibSp  \\\n",
       "count   891.000000  891.000000  891.000000  714.000000  891.000000   \n",
       "mean    446.000000    0.383838    2.308642   29.699118    0.523008   \n",
       "std     257.353842    0.486592    0.836071   14.526497    1.102743   \n",
       "min       1.000000    0.000000    1.000000    0.420000    0.000000   \n",
       "25%     223.500000    0.000000    2.000000   20.125000    0.000000   \n",
       "50%     446.000000    0.000000    3.000000   28.000000    0.000000   \n",
       "75%     668.500000    1.000000    3.000000   38.000000    1.000000   \n",
       "max     891.000000    1.000000    3.000000   80.000000    8.000000   \n",
       "\n",
       "            Parch        Fare  \n",
       "count  891.000000  891.000000  \n",
       "mean     0.381594   32.204208  \n",
       "std      0.806057   49.693429  \n",
       "min      0.000000    0.000000  \n",
       "25%      0.000000    7.910400  \n",
       "50%      0.000000   14.454200  \n",
       "75%      0.000000   31.000000  \n",
       "max      6.000000  512.329200  "
      ]
     },
     "execution_count": 5,
     "metadata": {},
     "output_type": "execute_result"
    }
   ],
   "source": [
    "df_train.describe()"
   ]
  },
  {
   "cell_type": "code",
   "execution_count": 6,
   "id": "4c4aa702",
   "metadata": {},
   "outputs": [
    {
     "name": "stdout",
     "output_type": "stream",
     "text": [
      "<class 'pandas.core.frame.DataFrame'>\n",
      "RangeIndex: 891 entries, 0 to 890\n",
      "Data columns (total 12 columns):\n",
      " #   Column       Non-Null Count  Dtype  \n",
      "---  ------       --------------  -----  \n",
      " 0   PassengerId  891 non-null    int64  \n",
      " 1   Survived     891 non-null    int64  \n",
      " 2   Pclass       891 non-null    int64  \n",
      " 3   Name         891 non-null    object \n",
      " 4   Sex          891 non-null    object \n",
      " 5   Age          714 non-null    float64\n",
      " 6   SibSp        891 non-null    int64  \n",
      " 7   Parch        891 non-null    int64  \n",
      " 8   Ticket       891 non-null    object \n",
      " 9   Fare         891 non-null    float64\n",
      " 10  Cabin        204 non-null    object \n",
      " 11  Embarked     889 non-null    object \n",
      "dtypes: float64(2), int64(5), object(5)\n",
      "memory usage: 83.7+ KB\n"
     ]
    }
   ],
   "source": [
    "df_train.info()"
   ]
  },
  {
   "cell_type": "code",
   "execution_count": 7,
   "id": "5f0bc4b4",
   "metadata": {},
   "outputs": [
    {
     "data": {
      "text/html": [
       "<style  type=\"text/css\" >\n",
       "#T_624a3_row0_col0,#T_624a3_row1_col1,#T_624a3_row2_col2,#T_624a3_row3_col3,#T_624a3_row4_col4,#T_624a3_row5_col5,#T_624a3_row6_col6{\n",
       "            background-color:  #023858;\n",
       "            color:  #f1f1f1;\n",
       "        }#T_624a3_row0_col1{\n",
       "            background-color:  #d1d2e6;\n",
       "            color:  #000000;\n",
       "        }#T_624a3_row0_col2{\n",
       "            background-color:  #b5c4df;\n",
       "            color:  #000000;\n",
       "        }#T_624a3_row0_col3{\n",
       "            background-color:  #c1cae2;\n",
       "            color:  #000000;\n",
       "        }#T_624a3_row0_col4,#T_624a3_row3_col1{\n",
       "            background-color:  #dddbec;\n",
       "            color:  #000000;\n",
       "        }#T_624a3_row0_col5{\n",
       "            background-color:  #e5e1ef;\n",
       "            color:  #000000;\n",
       "        }#T_624a3_row0_col6{\n",
       "            background-color:  #abbfdc;\n",
       "            color:  #000000;\n",
       "        }#T_624a3_row1_col0,#T_624a3_row4_col3{\n",
       "            background-color:  #f8f1f8;\n",
       "            color:  #000000;\n",
       "        }#T_624a3_row1_col2{\n",
       "            background-color:  #eae6f1;\n",
       "            color:  #000000;\n",
       "        }#T_624a3_row1_col3,#T_624a3_row1_col4{\n",
       "            background-color:  #d9d8ea;\n",
       "            color:  #000000;\n",
       "        }#T_624a3_row1_col5{\n",
       "            background-color:  #d5d5e8;\n",
       "            color:  #000000;\n",
       "        }#T_624a3_row1_col6{\n",
       "            background-color:  #69a5cc;\n",
       "            color:  #000000;\n",
       "        }#T_624a3_row2_col0{\n",
       "            background-color:  #fcf4fa;\n",
       "            color:  #000000;\n",
       "        }#T_624a3_row2_col1,#T_624a3_row2_col3,#T_624a3_row2_col6,#T_624a3_row3_col4,#T_624a3_row3_col5,#T_624a3_row4_col0,#T_624a3_row6_col2{\n",
       "            background-color:  #fff7fb;\n",
       "            color:  #000000;\n",
       "        }#T_624a3_row2_col4{\n",
       "            background-color:  #c0c9e2;\n",
       "            color:  #000000;\n",
       "        }#T_624a3_row2_col5{\n",
       "            background-color:  #e1dfed;\n",
       "            color:  #000000;\n",
       "        }#T_624a3_row3_col0{\n",
       "            background-color:  #f2ecf5;\n",
       "            color:  #000000;\n",
       "        }#T_624a3_row3_col2{\n",
       "            background-color:  #eee8f3;\n",
       "            color:  #000000;\n",
       "        }#T_624a3_row3_col6{\n",
       "            background-color:  #96b6d7;\n",
       "            color:  #000000;\n",
       "        }#T_624a3_row4_col1{\n",
       "            background-color:  #d6d6e9;\n",
       "            color:  #000000;\n",
       "        }#T_624a3_row4_col2{\n",
       "            background-color:  #99b8d8;\n",
       "            color:  #000000;\n",
       "        }#T_624a3_row4_col5{\n",
       "            background-color:  #6fa7ce;\n",
       "            color:  #000000;\n",
       "        }#T_624a3_row4_col6{\n",
       "            background-color:  #84b0d3;\n",
       "            color:  #000000;\n",
       "        }#T_624a3_row5_col0{\n",
       "            background-color:  #f7f0f7;\n",
       "            color:  #000000;\n",
       "        }#T_624a3_row5_col1{\n",
       "            background-color:  #bbc7e0;\n",
       "            color:  #000000;\n",
       "        }#T_624a3_row5_col2{\n",
       "            background-color:  #a9bfdc;\n",
       "            color:  #000000;\n",
       "        }#T_624a3_row5_col3{\n",
       "            background-color:  #ebe6f2;\n",
       "            color:  #000000;\n",
       "        }#T_624a3_row5_col4{\n",
       "            background-color:  #5a9ec9;\n",
       "            color:  #000000;\n",
       "        }#T_624a3_row5_col6{\n",
       "            background-color:  #76aad0;\n",
       "            color:  #000000;\n",
       "        }#T_624a3_row6_col0{\n",
       "            background-color:  #f5eff6;\n",
       "            color:  #000000;\n",
       "        }#T_624a3_row6_col1{\n",
       "            background-color:  #8bb2d4;\n",
       "            color:  #000000;\n",
       "        }#T_624a3_row6_col3{\n",
       "            background-color:  #b3c3de;\n",
       "            color:  #000000;\n",
       "        }#T_624a3_row6_col4{\n",
       "            background-color:  #acc0dd;\n",
       "            color:  #000000;\n",
       "        }#T_624a3_row6_col5{\n",
       "            background-color:  #b1c2de;\n",
       "            color:  #000000;\n",
       "        }</style><table id=\"T_624a3_\" ><thead>    <tr>        <th class=\"blank level0\" ></th>        <th class=\"col_heading level0 col0\" >PassengerId</th>        <th class=\"col_heading level0 col1\" >Survived</th>        <th class=\"col_heading level0 col2\" >Pclass</th>        <th class=\"col_heading level0 col3\" >Age</th>        <th class=\"col_heading level0 col4\" >SibSp</th>        <th class=\"col_heading level0 col5\" >Parch</th>        <th class=\"col_heading level0 col6\" >Fare</th>    </tr></thead><tbody>\n",
       "                <tr>\n",
       "                        <th id=\"T_624a3_level0_row0\" class=\"row_heading level0 row0\" >PassengerId</th>\n",
       "                        <td id=\"T_624a3_row0_col0\" class=\"data row0 col0\" >1.00</td>\n",
       "                        <td id=\"T_624a3_row0_col1\" class=\"data row0 col1\" >-0.01</td>\n",
       "                        <td id=\"T_624a3_row0_col2\" class=\"data row0 col2\" >-0.04</td>\n",
       "                        <td id=\"T_624a3_row0_col3\" class=\"data row0 col3\" >0.04</td>\n",
       "                        <td id=\"T_624a3_row0_col4\" class=\"data row0 col4\" >-0.06</td>\n",
       "                        <td id=\"T_624a3_row0_col5\" class=\"data row0 col5\" >-0.00</td>\n",
       "                        <td id=\"T_624a3_row0_col6\" class=\"data row0 col6\" >0.01</td>\n",
       "            </tr>\n",
       "            <tr>\n",
       "                        <th id=\"T_624a3_level0_row1\" class=\"row_heading level0 row1\" >Survived</th>\n",
       "                        <td id=\"T_624a3_row1_col0\" class=\"data row1 col0\" >-0.01</td>\n",
       "                        <td id=\"T_624a3_row1_col1\" class=\"data row1 col1\" >1.00</td>\n",
       "                        <td id=\"T_624a3_row1_col2\" class=\"data row1 col2\" >-0.34</td>\n",
       "                        <td id=\"T_624a3_row1_col3\" class=\"data row1 col3\" >-0.08</td>\n",
       "                        <td id=\"T_624a3_row1_col4\" class=\"data row1 col4\" >-0.04</td>\n",
       "                        <td id=\"T_624a3_row1_col5\" class=\"data row1 col5\" >0.08</td>\n",
       "                        <td id=\"T_624a3_row1_col6\" class=\"data row1 col6\" >0.26</td>\n",
       "            </tr>\n",
       "            <tr>\n",
       "                        <th id=\"T_624a3_level0_row2\" class=\"row_heading level0 row2\" >Pclass</th>\n",
       "                        <td id=\"T_624a3_row2_col0\" class=\"data row2 col0\" >-0.04</td>\n",
       "                        <td id=\"T_624a3_row2_col1\" class=\"data row2 col1\" >-0.34</td>\n",
       "                        <td id=\"T_624a3_row2_col2\" class=\"data row2 col2\" >1.00</td>\n",
       "                        <td id=\"T_624a3_row2_col3\" class=\"data row2 col3\" >-0.37</td>\n",
       "                        <td id=\"T_624a3_row2_col4\" class=\"data row2 col4\" >0.08</td>\n",
       "                        <td id=\"T_624a3_row2_col5\" class=\"data row2 col5\" >0.02</td>\n",
       "                        <td id=\"T_624a3_row2_col6\" class=\"data row2 col6\" >-0.55</td>\n",
       "            </tr>\n",
       "            <tr>\n",
       "                        <th id=\"T_624a3_level0_row3\" class=\"row_heading level0 row3\" >Age</th>\n",
       "                        <td id=\"T_624a3_row3_col0\" class=\"data row3 col0\" >0.04</td>\n",
       "                        <td id=\"T_624a3_row3_col1\" class=\"data row3 col1\" >-0.08</td>\n",
       "                        <td id=\"T_624a3_row3_col2\" class=\"data row3 col2\" >-0.37</td>\n",
       "                        <td id=\"T_624a3_row3_col3\" class=\"data row3 col3\" >1.00</td>\n",
       "                        <td id=\"T_624a3_row3_col4\" class=\"data row3 col4\" >-0.31</td>\n",
       "                        <td id=\"T_624a3_row3_col5\" class=\"data row3 col5\" >-0.19</td>\n",
       "                        <td id=\"T_624a3_row3_col6\" class=\"data row3 col6\" >0.10</td>\n",
       "            </tr>\n",
       "            <tr>\n",
       "                        <th id=\"T_624a3_level0_row4\" class=\"row_heading level0 row4\" >SibSp</th>\n",
       "                        <td id=\"T_624a3_row4_col0\" class=\"data row4 col0\" >-0.06</td>\n",
       "                        <td id=\"T_624a3_row4_col1\" class=\"data row4 col1\" >-0.04</td>\n",
       "                        <td id=\"T_624a3_row4_col2\" class=\"data row4 col2\" >0.08</td>\n",
       "                        <td id=\"T_624a3_row4_col3\" class=\"data row4 col3\" >-0.31</td>\n",
       "                        <td id=\"T_624a3_row4_col4\" class=\"data row4 col4\" >1.00</td>\n",
       "                        <td id=\"T_624a3_row4_col5\" class=\"data row4 col5\" >0.41</td>\n",
       "                        <td id=\"T_624a3_row4_col6\" class=\"data row4 col6\" >0.16</td>\n",
       "            </tr>\n",
       "            <tr>\n",
       "                        <th id=\"T_624a3_level0_row5\" class=\"row_heading level0 row5\" >Parch</th>\n",
       "                        <td id=\"T_624a3_row5_col0\" class=\"data row5 col0\" >-0.00</td>\n",
       "                        <td id=\"T_624a3_row5_col1\" class=\"data row5 col1\" >0.08</td>\n",
       "                        <td id=\"T_624a3_row5_col2\" class=\"data row5 col2\" >0.02</td>\n",
       "                        <td id=\"T_624a3_row5_col3\" class=\"data row5 col3\" >-0.19</td>\n",
       "                        <td id=\"T_624a3_row5_col4\" class=\"data row5 col4\" >0.41</td>\n",
       "                        <td id=\"T_624a3_row5_col5\" class=\"data row5 col5\" >1.00</td>\n",
       "                        <td id=\"T_624a3_row5_col6\" class=\"data row5 col6\" >0.22</td>\n",
       "            </tr>\n",
       "            <tr>\n",
       "                        <th id=\"T_624a3_level0_row6\" class=\"row_heading level0 row6\" >Fare</th>\n",
       "                        <td id=\"T_624a3_row6_col0\" class=\"data row6 col0\" >0.01</td>\n",
       "                        <td id=\"T_624a3_row6_col1\" class=\"data row6 col1\" >0.26</td>\n",
       "                        <td id=\"T_624a3_row6_col2\" class=\"data row6 col2\" >-0.55</td>\n",
       "                        <td id=\"T_624a3_row6_col3\" class=\"data row6 col3\" >0.10</td>\n",
       "                        <td id=\"T_624a3_row6_col4\" class=\"data row6 col4\" >0.16</td>\n",
       "                        <td id=\"T_624a3_row6_col5\" class=\"data row6 col5\" >0.22</td>\n",
       "                        <td id=\"T_624a3_row6_col6\" class=\"data row6 col6\" >1.00</td>\n",
       "            </tr>\n",
       "    </tbody></table>"
      ],
      "text/plain": [
       "<pandas.io.formats.style.Styler at 0x25fc145d3d0>"
      ]
     },
     "execution_count": 7,
     "metadata": {},
     "output_type": "execute_result"
    }
   ],
   "source": [
    "#Mencari nilai korelasi antar features.\n",
    "df_train.corr().style.background_gradient().set_precision(2)"
   ]
  },
  {
   "cell_type": "markdown",
   "id": "0876935e",
   "metadata": {},
   "source": [
    "### Exploratory Data Analysis (EDA)"
   ]
  },
  {
   "cell_type": "code",
   "execution_count": 8,
   "id": "4bc14ae6",
   "metadata": {
    "scrolled": true
   },
   "outputs": [
    {
     "data": {
      "image/png": "[encoded data removed]",
      "text/plain": [
       "<Figure size 432x288 with 1 Axes>"
      ]
     },
     "metadata": {
      "needs_background": "light"
     },
     "output_type": "display_data"
    }
   ],
   "source": [
    "# jumlah total yang selamat dan tidak selamat\n",
    "sns.countplot(x=\"Survived\", data=df_train)\n",
    "plt.title(\"Number of Survived\")\n",
    "plt.show()"
   ]
  },
  {
   "cell_type": "code",
   "execution_count": 9,
   "id": "adf8edb8",
   "metadata": {},
   "outputs": [
    {
     "data": {
      "text/plain": [
       "0    549\n",
       "1    342\n",
       "Name: Survived, dtype: int64"
      ]
     },
     "execution_count": 9,
     "metadata": {},
     "output_type": "execute_result"
    }
   ],
   "source": [
    "# Get a count of the number of survivors\n",
    "df_train[\"Survived\"].value_counts()"
   ]
  },
  {
   "cell_type": "markdown",
   "id": "bc841406",
   "metadata": {},
   "source": [
    "Berikut adalah nilai target \"Survived\". Berdasarkan plot banyak penumpang yang tidak selamat dibandingkan yang selamat.\n",
    "- Nilai 0 merepresentasikan tidak selamat\n",
    "- Nilai 1 merepresentasikan selamat"
   ]
  },
  {
   "cell_type": "code",
   "execution_count": 10,
   "id": "dcac2558",
   "metadata": {
    "scrolled": false
   },
   "outputs": [
    {
     "data": {
      "image/png": "[encoded data removed]",
      "text/plain": [
       "<Figure size 432x288 with 1 Axes>"
      ]
     },
     "metadata": {
      "needs_background": "light"
     },
     "output_type": "display_data"
    }
   ],
   "source": [
    "# Penumpang yang selamat berdasarkan gender\n",
    "sns.countplot(x=\"Survived\",hue=\"Sex\", data=df_train)\n",
    "plt.title(\"Penumpang yang selamat berdasarkan jenis kelamin\")\n",
    "plt.show()"
   ]
  },
  {
   "cell_type": "code",
   "execution_count": 11,
   "id": "f39b67c7",
   "metadata": {},
   "outputs": [
    {
     "data": {
      "text/html": [
       "<div>\n",
       "<style scoped>\n",
       "    .dataframe tbody tr th:only-of-type {\n",
       "        vertical-align: middle;\n",
       "    }\n",
       "\n",
       "    .dataframe tbody tr th {\n",
       "        vertical-align: top;\n",
       "    }\n",
       "\n",
       "    .dataframe thead th {\n",
       "        text-align: right;\n",
       "    }\n",
       "</style>\n",
       "<table border=\"1\" class=\"dataframe\">\n",
       "  <thead>\n",
       "    <tr style=\"text-align: right;\">\n",
       "      <th></th>\n",
       "      <th>Survived</th>\n",
       "    </tr>\n",
       "    <tr>\n",
       "      <th>Sex</th>\n",
       "      <th></th>\n",
       "    </tr>\n",
       "  </thead>\n",
       "  <tbody>\n",
       "    <tr>\n",
       "      <th>female</th>\n",
       "      <td>0.742038</td>\n",
       "    </tr>\n",
       "    <tr>\n",
       "      <th>male</th>\n",
       "      <td>0.188908</td>\n",
       "    </tr>\n",
       "  </tbody>\n",
       "</table>\n",
       "</div>"
      ],
      "text/plain": [
       "        Survived\n",
       "Sex             \n",
       "female  0.742038\n",
       "male    0.188908"
      ]
     },
     "execution_count": 11,
     "metadata": {},
     "output_type": "execute_result"
    }
   ],
   "source": [
    "#Ratio dari angka yang bertahan hidup berdasarkan gender\n",
    "df_train.groupby('Sex')[['Survived']].mean()"
   ]
  },
  {
   "cell_type": "markdown",
   "id": "c8a5dee4",
   "metadata": {},
   "source": [
    "- Berdasarkan plot tersebut penumpang wanita lebih banyak yang selamat dibandingkan pria **18.89%)**. Sebesar **74%** Penumpang wanita yang selamat atas kejadian tenggelamnya kapal Titanic."
   ]
  },
  {
   "cell_type": "code",
   "execution_count": 12,
   "id": "9764ba03",
   "metadata": {
    "scrolled": true
   },
   "outputs": [
    {
     "data": {
      "image/png": "[encoded data removed]",
      "text/plain": [
       "<Figure size 432x288 with 1 Axes>"
      ]
     },
     "metadata": {
      "needs_background": "light"
     },
     "output_type": "display_data"
    }
   ],
   "source": [
    "# Penumpang yang selamat dan tidak selamat berdasarkan Class\n",
    "sns.countplot(x=\"Survived\", hue=\"Pclass\", data=df_train)\n",
    "plt.title(\"Penumpang yang selamat dan tidak selamat berdasarkan Class\")\n",
    "plt.show()"
   ]
  },
  {
   "cell_type": "code",
   "execution_count": 13,
   "id": "cddb0330",
   "metadata": {},
   "outputs": [
    {
     "data": {
      "text/html": [
       "<div>\n",
       "<style scoped>\n",
       "    .dataframe tbody tr th:only-of-type {\n",
       "        vertical-align: middle;\n",
       "    }\n",
       "\n",
       "    .dataframe tbody tr th {\n",
       "        vertical-align: top;\n",
       "    }\n",
       "\n",
       "    .dataframe thead th {\n",
       "        text-align: right;\n",
       "    }\n",
       "</style>\n",
       "<table border=\"1\" class=\"dataframe\">\n",
       "  <thead>\n",
       "    <tr style=\"text-align: right;\">\n",
       "      <th>Pclass</th>\n",
       "      <th>1</th>\n",
       "      <th>2</th>\n",
       "      <th>3</th>\n",
       "    </tr>\n",
       "    <tr>\n",
       "      <th>Sex</th>\n",
       "      <th></th>\n",
       "      <th></th>\n",
       "      <th></th>\n",
       "    </tr>\n",
       "  </thead>\n",
       "  <tbody>\n",
       "    <tr>\n",
       "      <th>female</th>\n",
       "      <td>0.968085</td>\n",
       "      <td>0.921053</td>\n",
       "      <td>0.500000</td>\n",
       "    </tr>\n",
       "    <tr>\n",
       "      <th>male</th>\n",
       "      <td>0.368852</td>\n",
       "      <td>0.157407</td>\n",
       "      <td>0.135447</td>\n",
       "    </tr>\n",
       "  </tbody>\n",
       "</table>\n",
       "</div>"
      ],
      "text/plain": [
       "Pclass         1         2         3\n",
       "Sex                                 \n",
       "female  0.968085  0.921053  0.500000\n",
       "male    0.368852  0.157407  0.135447"
      ]
     },
     "execution_count": 13,
     "metadata": {},
     "output_type": "execute_result"
    }
   ],
   "source": [
    "# Melihat angka ratio bertahan hidup berdasarkan by sex and class\n",
    "df_train.pivot_table(\"Survived\", index=\"Sex\", columns=\"Pclass\")"
   ]
  },
  {
   "cell_type": "markdown",
   "id": "f1008241",
   "metadata": {},
   "source": [
    "- Berdasarkan plot di atas diketahui penumpang yang tidak selamat pada kelas 3(lower). Banyak penumpang kelas 1 yang selamat"
   ]
  },
  {
   "cell_type": "code",
   "execution_count": 14,
   "id": "d739b7e5",
   "metadata": {},
   "outputs": [
    {
     "data": {
      "image/png": "[encoded data removed]",
      "text/plain": [
       "<Figure size 432x288 with 1 Axes>"
      ]
     },
     "metadata": {
      "needs_background": "light"
     },
     "output_type": "display_data"
    }
   ],
   "source": [
    "# Persebaran umur penumpang\n",
    "df_train[\"Age\"].plot.hist()\n",
    "plt.xlabel(\"age\")\n",
    "plt.title(\"Distribusi umur penumpang\")\n",
    "plt.show()"
   ]
  },
  {
   "cell_type": "markdown",
   "id": "55c130a5",
   "metadata": {},
   "source": [
    "- berdasarkan histogram di atas diketahui kelompok umur yang paling banyak melakukan perjalanan dengan kapal Titanic adalah umur 20-40. Sedangkan kelompok umur penumpang yang paling sedikit adalah 70-80."
   ]
  },
  {
   "cell_type": "code",
   "execution_count": 15,
   "id": "401ba7a9",
   "metadata": {},
   "outputs": [
    {
     "data": {
      "image/png": "[encoded data removed]",
      "text/plain": [
       "<Figure size 720x360 with 1 Axes>"
      ]
     },
     "metadata": {
      "needs_background": "light"
     },
     "output_type": "display_data"
    }
   ],
   "source": [
    "# Persebaran frekuensi berdasarkan Fare\n",
    "df_train[\"Fare\"].plot.hist(bins=20, figsize=(10,5))\n",
    "plt.title(\"Number of Fare\")\n",
    "plt.xlabel(\"Fare\")\n",
    "plt.show()"
   ]
  },
  {
   "cell_type": "markdown",
   "id": "feb03307",
   "metadata": {},
   "source": [
    "- kebanyakan penumpang membeli tiket dengan harga 100. sedangkan yang paling sedikit penjualannya adalah tiket untuk harga dengan jangkauan 200-500."
   ]
  },
  {
   "cell_type": "code",
   "execution_count": 16,
   "id": "66844e50",
   "metadata": {},
   "outputs": [
    {
     "data": {
      "image/png": "[encoded data removed]",
      "text/plain": [
       "<Figure size 432x288 with 1 Axes>"
      ]
     },
     "metadata": {
      "needs_background": "light"
     },
     "output_type": "display_data"
    }
   ],
   "source": [
    "# Jumlah penumpang yang memiliki kerabat\n",
    "sns.countplot(x=\"SibSp\", data=df_train, palette=\"rocket\")\n",
    "plt.title(\"Jumlah Penumpang yang Memiliki Kerabat\")\n",
    "plt.show()"
   ]
  },
  {
   "cell_type": "markdown",
   "id": "b4a7d689",
   "metadata": {},
   "source": [
    "- Berdasarkan plot tersebut kebanyakan penumpang kapal Titanic tidak memiliki kerabat.\n",
    "\n",
    "**Sehabis melihat visualisasi data, dapat disimpulkan hal yang paling berpengaruh terhadap keselamatan penumpang adalah gender,umur dan kelas tiket.**"
   ]
  },
  {
   "cell_type": "markdown",
   "id": "f460cd23",
   "metadata": {},
   "source": [
    "# Data Wrangling\n",
    "cleaning the data, removing the null values\n",
    "Tahapan selanjutnya adalah melakukan cleaning data, diketahui bahwa data terdapat yang bernilai null."
   ]
  },
  {
   "cell_type": "code",
   "execution_count": 17,
   "id": "0a4a8521",
   "metadata": {
    "scrolled": true
   },
   "outputs": [
    {
     "data": {
      "text/plain": [
       "PassengerId      0\n",
       "Survived         0\n",
       "Pclass           0\n",
       "Name             0\n",
       "Sex              0\n",
       "Age            177\n",
       "SibSp            0\n",
       "Parch            0\n",
       "Ticket           0\n",
       "Fare             0\n",
       "Cabin          687\n",
       "Embarked         2\n",
       "dtype: int64"
      ]
     },
     "execution_count": 17,
     "metadata": {},
     "output_type": "execute_result"
    }
   ],
   "source": [
    "df_train.isnull().sum()"
   ]
  },
  {
   "cell_type": "markdown",
   "id": "965ad03c",
   "metadata": {},
   "source": [
    "- age, embarked dan cabin memiliki missing values"
   ]
  },
  {
   "cell_type": "code",
   "execution_count": 18,
   "id": "0a38349c",
   "metadata": {},
   "outputs": [
    {
     "data": {
      "text/html": [
       "<div>\n",
       "<style scoped>\n",
       "    .dataframe tbody tr th:only-of-type {\n",
       "        vertical-align: middle;\n",
       "    }\n",
       "\n",
       "    .dataframe tbody tr th {\n",
       "        vertical-align: top;\n",
       "    }\n",
       "\n",
       "    .dataframe thead th {\n",
       "        text-align: right;\n",
       "    }\n",
       "</style>\n",
       "<table border=\"1\" class=\"dataframe\">\n",
       "  <thead>\n",
       "    <tr style=\"text-align: right;\">\n",
       "      <th></th>\n",
       "      <th>PassengerId</th>\n",
       "      <th>Survived</th>\n",
       "      <th>Pclass</th>\n",
       "      <th>Name</th>\n",
       "      <th>Sex</th>\n",
       "      <th>Age</th>\n",
       "      <th>SibSp</th>\n",
       "      <th>Parch</th>\n",
       "      <th>Ticket</th>\n",
       "      <th>Fare</th>\n",
       "      <th>Cabin</th>\n",
       "      <th>Embarked</th>\n",
       "    </tr>\n",
       "  </thead>\n",
       "  <tbody>\n",
       "    <tr>\n",
       "      <th>0</th>\n",
       "      <td>1</td>\n",
       "      <td>0</td>\n",
       "      <td>3</td>\n",
       "      <td>Braund, Mr. Owen Harris</td>\n",
       "      <td>male</td>\n",
       "      <td>22.0</td>\n",
       "      <td>1</td>\n",
       "      <td>0</td>\n",
       "      <td>A/5 21171</td>\n",
       "      <td>7.2500</td>\n",
       "      <td>NaN</td>\n",
       "      <td>S</td>\n",
       "    </tr>\n",
       "    <tr>\n",
       "      <th>1</th>\n",
       "      <td>2</td>\n",
       "      <td>1</td>\n",
       "      <td>1</td>\n",
       "      <td>Cumings, Mrs. John Bradley (Florence Briggs Th...</td>\n",
       "      <td>female</td>\n",
       "      <td>38.0</td>\n",
       "      <td>1</td>\n",
       "      <td>0</td>\n",
       "      <td>PC 17599</td>\n",
       "      <td>71.2833</td>\n",
       "      <td>C85</td>\n",
       "      <td>C</td>\n",
       "    </tr>\n",
       "    <tr>\n",
       "      <th>2</th>\n",
       "      <td>3</td>\n",
       "      <td>1</td>\n",
       "      <td>3</td>\n",
       "      <td>Heikkinen, Miss. Laina</td>\n",
       "      <td>female</td>\n",
       "      <td>26.0</td>\n",
       "      <td>0</td>\n",
       "      <td>0</td>\n",
       "      <td>STON/O2. 3101282</td>\n",
       "      <td>7.9250</td>\n",
       "      <td>NaN</td>\n",
       "      <td>S</td>\n",
       "    </tr>\n",
       "    <tr>\n",
       "      <th>3</th>\n",
       "      <td>4</td>\n",
       "      <td>1</td>\n",
       "      <td>1</td>\n",
       "      <td>Futrelle, Mrs. Jacques Heath (Lily May Peel)</td>\n",
       "      <td>female</td>\n",
       "      <td>35.0</td>\n",
       "      <td>1</td>\n",
       "      <td>0</td>\n",
       "      <td>113803</td>\n",
       "      <td>53.1000</td>\n",
       "      <td>C123</td>\n",
       "      <td>S</td>\n",
       "    </tr>\n",
       "    <tr>\n",
       "      <th>4</th>\n",
       "      <td>5</td>\n",
       "      <td>0</td>\n",
       "      <td>3</td>\n",
       "      <td>Allen, Mr. William Henry</td>\n",
       "      <td>male</td>\n",
       "      <td>35.0</td>\n",
       "      <td>0</td>\n",
       "      <td>0</td>\n",
       "      <td>373450</td>\n",
       "      <td>8.0500</td>\n",
       "      <td>NaN</td>\n",
       "      <td>S</td>\n",
       "    </tr>\n",
       "  </tbody>\n",
       "</table>\n",
       "</div>"
      ],
      "text/plain": [
       "   PassengerId  Survived  Pclass  \\\n",
       "0            1         0       3   \n",
       "1            2         1       1   \n",
       "2            3         1       3   \n",
       "3            4         1       1   \n",
       "4            5         0       3   \n",
       "\n",
       "                                                Name     Sex   Age  SibSp  \\\n",
       "0                            Braund, Mr. Owen Harris    male  22.0      1   \n",
       "1  Cumings, Mrs. John Bradley (Florence Briggs Th...  female  38.0      1   \n",
       "2                             Heikkinen, Miss. Laina  female  26.0      0   \n",
       "3       Futrelle, Mrs. Jacques Heath (Lily May Peel)  female  35.0      1   \n",
       "4                           Allen, Mr. William Henry    male  35.0      0   \n",
       "\n",
       "   Parch            Ticket     Fare Cabin Embarked  \n",
       "0      0         A/5 21171   7.2500   NaN        S  \n",
       "1      0          PC 17599  71.2833   C85        C  \n",
       "2      0  STON/O2. 3101282   7.9250   NaN        S  \n",
       "3      0            113803  53.1000  C123        S  \n",
       "4      0            373450   8.0500   NaN        S  "
      ]
     },
     "execution_count": 18,
     "metadata": {},
     "output_type": "execute_result"
    }
   ],
   "source": [
    "df_train.head()"
   ]
  },
  {
   "cell_type": "code",
   "execution_count": 19,
   "id": "2bfc8400",
   "metadata": {},
   "outputs": [],
   "source": [
    "df_train.drop('Cabin', axis=1, inplace=True)"
   ]
  },
  {
   "cell_type": "markdown",
   "id": "bf1cc40f",
   "metadata": {},
   "source": [
    "- kolom yang tidak terlalu berpengaruh pada target adalah kolom **Cabin**. Maka, kolom Cabin akan di drop. **Kolom Cabin** hanya memberikan informasi mengenai cabin yang ada pada kapal dan kurang berpengaruh terhadap keselamatan penumpang"
   ]
  },
  {
   "cell_type": "code",
   "execution_count": 20,
   "id": "9ae90a73",
   "metadata": {},
   "outputs": [
    {
     "data": {
      "text/html": [
       "<div>\n",
       "<style scoped>\n",
       "    .dataframe tbody tr th:only-of-type {\n",
       "        vertical-align: middle;\n",
       "    }\n",
       "\n",
       "    .dataframe tbody tr th {\n",
       "        vertical-align: top;\n",
       "    }\n",
       "\n",
       "    .dataframe thead th {\n",
       "        text-align: right;\n",
       "    }\n",
       "</style>\n",
       "<table border=\"1\" class=\"dataframe\">\n",
       "  <thead>\n",
       "    <tr style=\"text-align: right;\">\n",
       "      <th></th>\n",
       "      <th>PassengerId</th>\n",
       "      <th>Survived</th>\n",
       "      <th>Pclass</th>\n",
       "      <th>Name</th>\n",
       "      <th>Sex</th>\n",
       "      <th>Age</th>\n",
       "      <th>SibSp</th>\n",
       "      <th>Parch</th>\n",
       "      <th>Ticket</th>\n",
       "      <th>Fare</th>\n",
       "      <th>Embarked</th>\n",
       "    </tr>\n",
       "  </thead>\n",
       "  <tbody>\n",
       "    <tr>\n",
       "      <th>0</th>\n",
       "      <td>1</td>\n",
       "      <td>0</td>\n",
       "      <td>3</td>\n",
       "      <td>Braund, Mr. Owen Harris</td>\n",
       "      <td>male</td>\n",
       "      <td>22.0</td>\n",
       "      <td>1</td>\n",
       "      <td>0</td>\n",
       "      <td>A/5 21171</td>\n",
       "      <td>7.2500</td>\n",
       "      <td>S</td>\n",
       "    </tr>\n",
       "    <tr>\n",
       "      <th>1</th>\n",
       "      <td>2</td>\n",
       "      <td>1</td>\n",
       "      <td>1</td>\n",
       "      <td>Cumings, Mrs. John Bradley (Florence Briggs Th...</td>\n",
       "      <td>female</td>\n",
       "      <td>38.0</td>\n",
       "      <td>1</td>\n",
       "      <td>0</td>\n",
       "      <td>PC 17599</td>\n",
       "      <td>71.2833</td>\n",
       "      <td>C</td>\n",
       "    </tr>\n",
       "    <tr>\n",
       "      <th>2</th>\n",
       "      <td>3</td>\n",
       "      <td>1</td>\n",
       "      <td>3</td>\n",
       "      <td>Heikkinen, Miss. Laina</td>\n",
       "      <td>female</td>\n",
       "      <td>26.0</td>\n",
       "      <td>0</td>\n",
       "      <td>0</td>\n",
       "      <td>STON/O2. 3101282</td>\n",
       "      <td>7.9250</td>\n",
       "      <td>S</td>\n",
       "    </tr>\n",
       "  </tbody>\n",
       "</table>\n",
       "</div>"
      ],
      "text/plain": [
       "   PassengerId  Survived  Pclass  \\\n",
       "0            1         0       3   \n",
       "1            2         1       1   \n",
       "2            3         1       3   \n",
       "\n",
       "                                                Name     Sex   Age  SibSp  \\\n",
       "0                            Braund, Mr. Owen Harris    male  22.0      1   \n",
       "1  Cumings, Mrs. John Bradley (Florence Briggs Th...  female  38.0      1   \n",
       "2                             Heikkinen, Miss. Laina  female  26.0      0   \n",
       "\n",
       "   Parch            Ticket     Fare Embarked  \n",
       "0      0         A/5 21171   7.2500        S  \n",
       "1      0          PC 17599  71.2833        C  \n",
       "2      0  STON/O2. 3101282   7.9250        S  "
      ]
     },
     "execution_count": 20,
     "metadata": {},
     "output_type": "execute_result"
    }
   ],
   "source": [
    "df_train.head(3)"
   ]
  },
  {
   "cell_type": "code",
   "execution_count": 21,
   "id": "823c0d71",
   "metadata": {},
   "outputs": [
    {
     "data": {
      "text/plain": [
       "S    644\n",
       "C    168\n",
       "Q     77\n",
       "Name: Embarked, dtype: int64"
      ]
     },
     "execution_count": 21,
     "metadata": {},
     "output_type": "execute_result"
    }
   ],
   "source": [
    "df_train['Embarked'].value_counts()"
   ]
  },
  {
   "cell_type": "code",
   "execution_count": 22,
   "id": "b6f264c0",
   "metadata": {},
   "outputs": [],
   "source": [
    "#repalce the missing values 'Embarked' column with the highest occuring frequency.\n",
    "df_train['Embarked'] = df_train['Embarked'].fillna('S') "
   ]
  },
  {
   "cell_type": "markdown",
   "id": "ee2cb2e3",
   "metadata": {},
   "source": [
    "- Untuk mengisi 2 missing values kita menggunakan kategori yang memiliki frekuensi yang paling banyak pada **kolom Embarked yaitu S.**"
   ]
  },
  {
   "cell_type": "code",
   "execution_count": 23,
   "id": "be8fc803",
   "metadata": {},
   "outputs": [],
   "source": [
    "df_train.dropna(inplace=True)"
   ]
  },
  {
   "cell_type": "code",
   "execution_count": 24,
   "id": "08288f09",
   "metadata": {
    "scrolled": true
   },
   "outputs": [
    {
     "data": {
      "text/plain": [
       "PassengerId    0\n",
       "Survived       0\n",
       "Pclass         0\n",
       "Name           0\n",
       "Sex            0\n",
       "Age            0\n",
       "SibSp          0\n",
       "Parch          0\n",
       "Ticket         0\n",
       "Fare           0\n",
       "Embarked       0\n",
       "dtype: int64"
      ]
     },
     "execution_count": 24,
     "metadata": {},
     "output_type": "execute_result"
    }
   ],
   "source": [
    "df_train.isnull().sum()"
   ]
  },
  {
   "cell_type": "code",
   "execution_count": 25,
   "id": "98019eea",
   "metadata": {},
   "outputs": [
    {
     "name": "stdout",
     "output_type": "stream",
     "text": [
      "shape of dataset after handled missing value: (714, 11)\n"
     ]
    }
   ],
   "source": [
    "print(\"shape of dataset after handled missing value:\",df_train.shape)"
   ]
  },
  {
   "cell_type": "code",
   "execution_count": 26,
   "id": "50556f34",
   "metadata": {
    "scrolled": true
   },
   "outputs": [
    {
     "name": "stdout",
     "output_type": "stream",
     "text": [
      "<class 'pandas.core.frame.DataFrame'>\n",
      "Int64Index: 714 entries, 0 to 890\n",
      "Data columns (total 11 columns):\n",
      " #   Column       Non-Null Count  Dtype  \n",
      "---  ------       --------------  -----  \n",
      " 0   PassengerId  714 non-null    int64  \n",
      " 1   Survived     714 non-null    int64  \n",
      " 2   Pclass       714 non-null    int64  \n",
      " 3   Name         714 non-null    object \n",
      " 4   Sex          714 non-null    object \n",
      " 5   Age          714 non-null    float64\n",
      " 6   SibSp        714 non-null    int64  \n",
      " 7   Parch        714 non-null    int64  \n",
      " 8   Ticket       714 non-null    object \n",
      " 9   Fare         714 non-null    float64\n",
      " 10  Embarked     714 non-null    object \n",
      "dtypes: float64(2), int64(5), object(4)\n",
      "memory usage: 66.9+ KB\n"
     ]
    }
   ],
   "source": [
    "df_train.info()"
   ]
  },
  {
   "cell_type": "markdown",
   "id": "9647e103",
   "metadata": {},
   "source": [
    "***sedangkan untuk age, age sangat berpengaruh terhadap target survived, apabila kita mengisi missing value dengan nilai rata-rata maka akan mempengaruhi hasil prediksi atau kriteria. Maka, lebih baik untuk menghapus semua yang bernilai null.***"
   ]
  },
  {
   "cell_type": "markdown",
   "id": "97e7f758",
   "metadata": {},
   "source": [
    "# Data Preprocessing\n",
    "tahapan ini akan melakukan normalisasi, transformasi data yang digunakan seperti Encoding, train-dev-test. "
   ]
  },
  {
   "cell_type": "markdown",
   "id": "e829719c",
   "metadata": {},
   "source": [
    "## Preprocessing -  Encoding\n",
    "terdapat value yang memiliki tipe data object seperti age, embarked sehingga perlu dikonversi menjadi numerical, maka dilakukan encoding"
   ]
  },
  {
   "cell_type": "code",
   "execution_count": 27,
   "id": "707cb787",
   "metadata": {},
   "outputs": [
    {
     "data": {
      "text/plain": [
       "PassengerId      int64\n",
       "Survived         int64\n",
       "Pclass           int64\n",
       "Name            object\n",
       "Sex             object\n",
       "Age            float64\n",
       "SibSp            int64\n",
       "Parch            int64\n",
       "Ticket          object\n",
       "Fare           float64\n",
       "Embarked        object\n",
       "dtype: object"
      ]
     },
     "execution_count": 27,
     "metadata": {},
     "output_type": "execute_result"
    }
   ],
   "source": [
    "# look at the data types\n",
    "df_train.dtypes"
   ]
  },
  {
   "cell_type": "code",
   "execution_count": 28,
   "id": "cfe2594d",
   "metadata": {},
   "outputs": [
    {
     "name": "stdout",
     "output_type": "stream",
     "text": [
      "['male' 'female']\n",
      "['S' 'C' 'Q']\n"
     ]
    }
   ],
   "source": [
    "#Print  the unique values in the columns\n",
    "print(df_train[\"Sex\"].unique())\n",
    "print(df_train[\"Embarked\"].unique())"
   ]
  },
  {
   "cell_type": "code",
   "execution_count": 29,
   "id": "e6c89643",
   "metadata": {},
   "outputs": [],
   "source": [
    "labelencoder = LabelEncoder()\n",
    "\n",
    "#Encode the sex column\n",
    "df_train.iloc[:,4]= labelencoder.fit_transform(df_train.iloc[:,4].values)\n",
    "\n",
    "#Encode the embarked column\n",
    "df_train.iloc[:,10]= labelencoder.fit_transform(df_train.iloc[:,10].values)"
   ]
  },
  {
   "cell_type": "code",
   "execution_count": 30,
   "id": "b4f4ca37",
   "metadata": {},
   "outputs": [
    {
     "name": "stdout",
     "output_type": "stream",
     "text": [
      "[1 0]\n",
      "[2 0 1]\n"
     ]
    }
   ],
   "source": [
    "#Print  the unique values in the columns\n",
    "print(df_train[\"Sex\"].unique())\n",
    "print(df_train[\"Embarked\"].unique())"
   ]
  },
  {
   "cell_type": "code",
   "execution_count": 31,
   "id": "f919e81d",
   "metadata": {
    "scrolled": true
   },
   "outputs": [
    {
     "data": {
      "text/html": [
       "<div>\n",
       "<style scoped>\n",
       "    .dataframe tbody tr th:only-of-type {\n",
       "        vertical-align: middle;\n",
       "    }\n",
       "\n",
       "    .dataframe tbody tr th {\n",
       "        vertical-align: top;\n",
       "    }\n",
       "\n",
       "    .dataframe thead th {\n",
       "        text-align: right;\n",
       "    }\n",
       "</style>\n",
       "<table border=\"1\" class=\"dataframe\">\n",
       "  <thead>\n",
       "    <tr style=\"text-align: right;\">\n",
       "      <th></th>\n",
       "      <th>PassengerId</th>\n",
       "      <th>Survived</th>\n",
       "      <th>Pclass</th>\n",
       "      <th>Name</th>\n",
       "      <th>Sex</th>\n",
       "      <th>Age</th>\n",
       "      <th>SibSp</th>\n",
       "      <th>Parch</th>\n",
       "      <th>Ticket</th>\n",
       "      <th>Fare</th>\n",
       "      <th>Embarked</th>\n",
       "    </tr>\n",
       "  </thead>\n",
       "  <tbody>\n",
       "    <tr>\n",
       "      <th>0</th>\n",
       "      <td>1</td>\n",
       "      <td>0</td>\n",
       "      <td>3</td>\n",
       "      <td>Braund, Mr. Owen Harris</td>\n",
       "      <td>1</td>\n",
       "      <td>22.0</td>\n",
       "      <td>1</td>\n",
       "      <td>0</td>\n",
       "      <td>A/5 21171</td>\n",
       "      <td>7.2500</td>\n",
       "      <td>2</td>\n",
       "    </tr>\n",
       "    <tr>\n",
       "      <th>1</th>\n",
       "      <td>2</td>\n",
       "      <td>1</td>\n",
       "      <td>1</td>\n",
       "      <td>Cumings, Mrs. John Bradley (Florence Briggs Th...</td>\n",
       "      <td>0</td>\n",
       "      <td>38.0</td>\n",
       "      <td>1</td>\n",
       "      <td>0</td>\n",
       "      <td>PC 17599</td>\n",
       "      <td>71.2833</td>\n",
       "      <td>0</td>\n",
       "    </tr>\n",
       "    <tr>\n",
       "      <th>2</th>\n",
       "      <td>3</td>\n",
       "      <td>1</td>\n",
       "      <td>3</td>\n",
       "      <td>Heikkinen, Miss. Laina</td>\n",
       "      <td>0</td>\n",
       "      <td>26.0</td>\n",
       "      <td>0</td>\n",
       "      <td>0</td>\n",
       "      <td>STON/O2. 3101282</td>\n",
       "      <td>7.9250</td>\n",
       "      <td>2</td>\n",
       "    </tr>\n",
       "    <tr>\n",
       "      <th>3</th>\n",
       "      <td>4</td>\n",
       "      <td>1</td>\n",
       "      <td>1</td>\n",
       "      <td>Futrelle, Mrs. Jacques Heath (Lily May Peel)</td>\n",
       "      <td>0</td>\n",
       "      <td>35.0</td>\n",
       "      <td>1</td>\n",
       "      <td>0</td>\n",
       "      <td>113803</td>\n",
       "      <td>53.1000</td>\n",
       "      <td>2</td>\n",
       "    </tr>\n",
       "    <tr>\n",
       "      <th>4</th>\n",
       "      <td>5</td>\n",
       "      <td>0</td>\n",
       "      <td>3</td>\n",
       "      <td>Allen, Mr. William Henry</td>\n",
       "      <td>1</td>\n",
       "      <td>35.0</td>\n",
       "      <td>0</td>\n",
       "      <td>0</td>\n",
       "      <td>373450</td>\n",
       "      <td>8.0500</td>\n",
       "      <td>2</td>\n",
       "    </tr>\n",
       "  </tbody>\n",
       "</table>\n",
       "</div>"
      ],
      "text/plain": [
       "   PassengerId  Survived  Pclass  \\\n",
       "0            1         0       3   \n",
       "1            2         1       1   \n",
       "2            3         1       3   \n",
       "3            4         1       1   \n",
       "4            5         0       3   \n",
       "\n",
       "                                                Name  Sex   Age  SibSp  Parch  \\\n",
       "0                            Braund, Mr. Owen Harris    1  22.0      1      0   \n",
       "1  Cumings, Mrs. John Bradley (Florence Briggs Th...    0  38.0      1      0   \n",
       "2                             Heikkinen, Miss. Laina    0  26.0      0      0   \n",
       "3       Futrelle, Mrs. Jacques Heath (Lily May Peel)    0  35.0      1      0   \n",
       "4                           Allen, Mr. William Henry    1  35.0      0      0   \n",
       "\n",
       "             Ticket     Fare  Embarked  \n",
       "0         A/5 21171   7.2500         2  \n",
       "1          PC 17599  71.2833         0  \n",
       "2  STON/O2. 3101282   7.9250         2  \n",
       "3            113803  53.1000         2  \n",
       "4            373450   8.0500         2  "
      ]
     },
     "execution_count": 31,
     "metadata": {},
     "output_type": "execute_result"
    }
   ],
   "source": [
    "df_train.head()"
   ]
  },
  {
   "cell_type": "markdown",
   "id": "5c257576",
   "metadata": {},
   "source": [
    "***Kita akan drop kolom yang tidak diperlukan seperti Name, PassengerId, dan Ticket dikarenakan ketiga kolom tersebut memiliki nilai yang unique***"
   ]
  },
  {
   "cell_type": "code",
   "execution_count": 32,
   "id": "9b8fb92c",
   "metadata": {},
   "outputs": [],
   "source": [
    "df_train.drop([\"Name\", \"PassengerId\",\"Ticket\"],axis=1, inplace=True)"
   ]
  },
  {
   "cell_type": "code",
   "execution_count": 33,
   "id": "0ba0abce",
   "metadata": {
    "scrolled": true
   },
   "outputs": [
    {
     "data": {
      "text/html": [
       "<div>\n",
       "<style scoped>\n",
       "    .dataframe tbody tr th:only-of-type {\n",
       "        vertical-align: middle;\n",
       "    }\n",
       "\n",
       "    .dataframe tbody tr th {\n",
       "        vertical-align: top;\n",
       "    }\n",
       "\n",
       "    .dataframe thead th {\n",
       "        text-align: right;\n",
       "    }\n",
       "</style>\n",
       "<table border=\"1\" class=\"dataframe\">\n",
       "  <thead>\n",
       "    <tr style=\"text-align: right;\">\n",
       "      <th></th>\n",
       "      <th>Survived</th>\n",
       "      <th>Pclass</th>\n",
       "      <th>Sex</th>\n",
       "      <th>Age</th>\n",
       "      <th>SibSp</th>\n",
       "      <th>Parch</th>\n",
       "      <th>Fare</th>\n",
       "      <th>Embarked</th>\n",
       "    </tr>\n",
       "  </thead>\n",
       "  <tbody>\n",
       "    <tr>\n",
       "      <th>0</th>\n",
       "      <td>0</td>\n",
       "      <td>3</td>\n",
       "      <td>1</td>\n",
       "      <td>22.0</td>\n",
       "      <td>1</td>\n",
       "      <td>0</td>\n",
       "      <td>7.2500</td>\n",
       "      <td>2</td>\n",
       "    </tr>\n",
       "    <tr>\n",
       "      <th>1</th>\n",
       "      <td>1</td>\n",
       "      <td>1</td>\n",
       "      <td>0</td>\n",
       "      <td>38.0</td>\n",
       "      <td>1</td>\n",
       "      <td>0</td>\n",
       "      <td>71.2833</td>\n",
       "      <td>0</td>\n",
       "    </tr>\n",
       "    <tr>\n",
       "      <th>2</th>\n",
       "      <td>1</td>\n",
       "      <td>3</td>\n",
       "      <td>0</td>\n",
       "      <td>26.0</td>\n",
       "      <td>0</td>\n",
       "      <td>0</td>\n",
       "      <td>7.9250</td>\n",
       "      <td>2</td>\n",
       "    </tr>\n",
       "    <tr>\n",
       "      <th>3</th>\n",
       "      <td>1</td>\n",
       "      <td>1</td>\n",
       "      <td>0</td>\n",
       "      <td>35.0</td>\n",
       "      <td>1</td>\n",
       "      <td>0</td>\n",
       "      <td>53.1000</td>\n",
       "      <td>2</td>\n",
       "    </tr>\n",
       "    <tr>\n",
       "      <th>4</th>\n",
       "      <td>0</td>\n",
       "      <td>3</td>\n",
       "      <td>1</td>\n",
       "      <td>35.0</td>\n",
       "      <td>0</td>\n",
       "      <td>0</td>\n",
       "      <td>8.0500</td>\n",
       "      <td>2</td>\n",
       "    </tr>\n",
       "  </tbody>\n",
       "</table>\n",
       "</div>"
      ],
      "text/plain": [
       "   Survived  Pclass  Sex   Age  SibSp  Parch     Fare  Embarked\n",
       "0         0       3    1  22.0      1      0   7.2500         2\n",
       "1         1       1    0  38.0      1      0  71.2833         0\n",
       "2         1       3    0  26.0      0      0   7.9250         2\n",
       "3         1       1    0  35.0      1      0  53.1000         2\n",
       "4         0       3    1  35.0      0      0   8.0500         2"
      ]
     },
     "execution_count": 33,
     "metadata": {},
     "output_type": "execute_result"
    }
   ],
   "source": [
    "df_train.head()"
   ]
  },
  {
   "cell_type": "code",
   "execution_count": 34,
   "id": "2d3e9000",
   "metadata": {},
   "outputs": [],
   "source": [
    "df_train[\"Age\"] = df_train[\"Age\"].astype(int)"
   ]
  },
  {
   "cell_type": "code",
   "execution_count": 35,
   "id": "7bb342dc",
   "metadata": {
    "scrolled": false
   },
   "outputs": [
    {
     "name": "stdout",
     "output_type": "stream",
     "text": [
      "Survived      int64\n",
      "Pclass        int64\n",
      "Sex           int32\n",
      "Age           int32\n",
      "SibSp         int64\n",
      "Parch         int64\n",
      "Fare        float64\n",
      "Embarked      int32\n",
      "dtype: object\n"
     ]
    }
   ],
   "source": [
    "print(df_train.dtypes)"
   ]
  },
  {
   "cell_type": "markdown",
   "id": "f002331f",
   "metadata": {},
   "source": [
    "## Preprocessing - Split Train Data"
   ]
  },
  {
   "cell_type": "code",
   "execution_count": 36,
   "id": "b4b906e9",
   "metadata": {},
   "outputs": [],
   "source": [
    "X=df_train.drop(\"Survived\", axis=1)\n",
    "y=df_train[\"Survived\"]"
   ]
  },
  {
   "cell_type": "code",
   "execution_count": 37,
   "id": "95ef68ed",
   "metadata": {},
   "outputs": [],
   "source": [
    "X_train, X_test, y_train, y_test = train_test_split(X,y,test_size=0.33, random_state=4)"
   ]
  },
  {
   "cell_type": "markdown",
   "id": "c865a1ac",
   "metadata": {},
   "source": [
    "Kita akan mengambil **33%** dataset sebagai **data test** dan menggunakan generator random_state sebesar **4**. Target label yang digunakan adalah **Survived**"
   ]
  },
  {
   "cell_type": "markdown",
   "id": "49ecbd71",
   "metadata": {},
   "source": [
    "## Preprocessing - Scalling the features"
   ]
  },
  {
   "cell_type": "code",
   "execution_count": 38,
   "id": "cfbcf14b",
   "metadata": {},
   "outputs": [],
   "source": [
    "#Feature Scaling\n",
    "sc = StandardScaler()\n",
    "X_train = sc.fit_transform(X_train)\n",
    "X_test = sc.fit_transform(X_test)"
   ]
  },
  {
   "cell_type": "markdown",
   "id": "9bd46317",
   "metadata": {},
   "source": [
    "Kita perlu melakukan **scaling data** terlebih dahulu untuk menyamakan rentang nilai (scale) yang sama. Sehingga tidak ada lagi satu variable data yang mendominasi variable data lainnya."
   ]
  },
  {
   "cell_type": "code",
   "execution_count": 39,
   "id": "19fab26b",
   "metadata": {
    "scrolled": false
   },
   "outputs": [
    {
     "name": "stdout",
     "output_type": "stream",
     "text": [
      "Training size: (478, 7)\n",
      "Test size: (236, 7)\n"
     ]
    }
   ],
   "source": [
    "print(\"Training size:\", X_train.shape)\n",
    "print(\"Test size:\", X_test.shape)"
   ]
  },
  {
   "cell_type": "markdown",
   "id": "017fc7cb",
   "metadata": {},
   "source": [
    "*Berikut shape/ dimensi dataset hasil scaling data.*"
   ]
  },
  {
   "cell_type": "markdown",
   "id": "29948a67",
   "metadata": {},
   "source": [
    "# Define the Model & Training the Model\n",
    "pada pelatihan ini saya mencoba beberapa model algoritma seperti **Logistic Regression, KNeighbors Classifier, SVC, Gaussian Naive Bayes, Decision Tree Classifier, dan Random Forest Classifier.**\n",
    "\n",
    "1. **Decision Tree**: Alasan penggunaan algoritma ini adalah karena metode klasifikasi dan prediksi yang sangat kuat dan terkenal. Metode pohon keputusan mengubah fakta yang sangat besar menjadi pohon keputusan yang merepresentasikan aturan. Aturan dapat dengan mudah dipahami dengan bahasa alami.\n",
    "\n",
    "2. **Naive Bayes** : Alasan pemilihan algoritma karena Algoritma ini memanfaatkan teori probabilitas yaitu memprediksi probabilitas di masa depan berdasrkan pengalaman di masa sebelumnya. \n",
    "\n",
    "3. **K-Nearest Neighbor** : Alasan pemilihan algoritma ini karena KNN memiliki beberapa kelebihan yaitu bahwa dia tangguh terhadap training data yang noisy dan efektif apabila training data-nya besar.\n",
    "\n",
    "4. **SVM** : Alasan pemilihan algoritma ini karena Kemampuan generalisasi SVM untuk mengklasifikasikan suatu pattern, yang tidak termasuk data yang dipakai dalam fase pembelajaran metode. \n",
    "\n",
    "**Metode Evaluasi** yang digunakan menggunakan nilai ***accuracy*** dari confusion matrix sebagai indikator tingkat akurasi performansi dari algoritma klasifikasi. ***Accuracy*** sering digunakan dalam konteks metode klasifikasi. ***Accuracy*** mengacu pada pengukuran tingkat keakuratan atau prediksi dari suatu model atau metode klasifikasi."
   ]
  },
  {
   "cell_type": "markdown",
   "id": "f0a00a15",
   "metadata": {},
   "source": [
    "**Hyperparameter yang digunakan untuk**\n",
    "- Pada KNeighbors kita mencoba untuk mengelompokkan menjadi 5 kelompok, apakah dengan mengelompokkan menjadi 5 dapat menghasilkan model yang baik, untuk menghitung jarak menggunakan minkwoski. Minkwoski adalah generalisasi jarak euklides dan jarak manhattan dan p =2. Kita akan mencoba terlebih dahulu menggunakan metric Minkwoski. Karena metric ini dapat dikatakan bisa memberikan model yang baik selain euclidean.\n",
    "- Decision Tree Classifier menggunakan entropy sebagai menghitung informasi gain.\n",
    "- Random Forest Classifier, menggunakan maximum mengambil pohon sebesar 10, menghitung gain dengan menggunakan entropy.\n"
   ]
  },
  {
   "cell_type": "code",
   "execution_count": 40,
   "id": "b61f16c7",
   "metadata": {
    "scrolled": true
   },
   "outputs": [
    {
     "name": "stdout",
     "output_type": "stream",
     "text": [
      "Training LogisticRegression\n",
      "--Training Performance--\n",
      "              precision    recall  f1-score   support\n",
      "\n",
      "           0       0.83      0.87      0.85       289\n",
      "           1       0.79      0.72      0.75       189\n",
      "\n",
      "    accuracy                           0.81       478\n",
      "   macro avg       0.81      0.80      0.80       478\n",
      "weighted avg       0.81      0.81      0.81       478\n",
      "\n",
      "\n",
      "--Test Performances --\n",
      "              precision    recall  f1-score   support\n",
      "\n",
      "           0       0.79      0.87      0.82       135\n",
      "           1       0.79      0.68      0.73       101\n",
      "\n",
      "    accuracy                           0.79       236\n",
      "   macro avg       0.79      0.77      0.78       236\n",
      "weighted avg       0.79      0.79      0.79       236\n",
      "\n",
      "======================DONE======================\n",
      "\n",
      "Training KNeighborsClassifier\n",
      "--Training Performance--\n",
      "              precision    recall  f1-score   support\n",
      "\n",
      "           0       0.87      0.91      0.89       289\n",
      "           1       0.85      0.79      0.82       189\n",
      "\n",
      "    accuracy                           0.86       478\n",
      "   macro avg       0.86      0.85      0.85       478\n",
      "weighted avg       0.86      0.86      0.86       478\n",
      "\n",
      "\n",
      "--Test Performances --\n",
      "              precision    recall  f1-score   support\n",
      "\n",
      "           0       0.79      0.87      0.83       135\n",
      "           1       0.80      0.69      0.74       101\n",
      "\n",
      "    accuracy                           0.80       236\n",
      "   macro avg       0.80      0.78      0.79       236\n",
      "weighted avg       0.80      0.80      0.79       236\n",
      "\n",
      "======================DONE======================\n",
      "\n",
      "Training SVC\n",
      "--Training Performance--\n",
      "              precision    recall  f1-score   support\n",
      "\n",
      "           0       0.81      0.84      0.83       289\n",
      "           1       0.75      0.70      0.72       189\n",
      "\n",
      "    accuracy                           0.79       478\n",
      "   macro avg       0.78      0.77      0.77       478\n",
      "weighted avg       0.78      0.79      0.79       478\n",
      "\n",
      "\n",
      "--Test Performances --\n",
      "              precision    recall  f1-score   support\n",
      "\n",
      "           0       0.76      0.86      0.81       135\n",
      "           1       0.77      0.64      0.70       101\n",
      "\n",
      "    accuracy                           0.77       236\n",
      "   macro avg       0.77      0.75      0.76       236\n",
      "weighted avg       0.77      0.77      0.76       236\n",
      "\n",
      "======================DONE======================\n",
      "\n",
      "Training SVC\n",
      "--Training Performance--\n",
      "              precision    recall  f1-score   support\n",
      "\n",
      "           0       0.82      0.95      0.88       289\n",
      "           1       0.90      0.67      0.77       189\n",
      "\n",
      "    accuracy                           0.84       478\n",
      "   macro avg       0.86      0.81      0.82       478\n",
      "weighted avg       0.85      0.84      0.84       478\n",
      "\n",
      "\n",
      "--Test Performances --\n",
      "              precision    recall  f1-score   support\n",
      "\n",
      "           0       0.76      0.96      0.85       135\n",
      "           1       0.91      0.59      0.72       101\n",
      "\n",
      "    accuracy                           0.80       236\n",
      "   macro avg       0.83      0.77      0.78       236\n",
      "weighted avg       0.82      0.80      0.79       236\n",
      "\n",
      "======================DONE======================\n",
      "\n",
      "Training GaussianNB\n",
      "--Training Performance--\n",
      "              precision    recall  f1-score   support\n",
      "\n",
      "           0       0.82      0.87      0.84       289\n",
      "           1       0.78      0.70      0.74       189\n",
      "\n",
      "    accuracy                           0.80       478\n",
      "   macro avg       0.80      0.79      0.79       478\n",
      "weighted avg       0.80      0.80      0.80       478\n",
      "\n",
      "\n",
      "--Test Performances --\n",
      "              precision    recall  f1-score   support\n",
      "\n",
      "           0       0.78      0.85      0.81       135\n",
      "           1       0.77      0.67      0.72       101\n",
      "\n",
      "    accuracy                           0.78       236\n",
      "   macro avg       0.77      0.76      0.77       236\n",
      "weighted avg       0.78      0.78      0.77       236\n",
      "\n",
      "======================DONE======================\n",
      "\n",
      "Training DecisionTreeClassifier\n",
      "--Training Performance--\n",
      "              precision    recall  f1-score   support\n",
      "\n",
      "           0       0.99      1.00      0.99       289\n",
      "           1       1.00      0.98      0.99       189\n",
      "\n",
      "    accuracy                           0.99       478\n",
      "   macro avg       0.99      0.99      0.99       478\n",
      "weighted avg       0.99      0.99      0.99       478\n",
      "\n",
      "\n",
      "--Test Performances --\n",
      "              precision    recall  f1-score   support\n",
      "\n",
      "           0       0.73      0.81      0.77       135\n",
      "           1       0.70      0.60      0.65       101\n",
      "\n",
      "    accuracy                           0.72       236\n",
      "   macro avg       0.72      0.71      0.71       236\n",
      "weighted avg       0.72      0.72      0.72       236\n",
      "\n",
      "======================DONE======================\n",
      "\n",
      "Training RandomForestClassifier\n",
      "--Training Performance--\n",
      "              precision    recall  f1-score   support\n",
      "\n",
      "           0       0.97      0.99      0.98       289\n",
      "           1       0.98      0.96      0.97       189\n",
      "\n",
      "    accuracy                           0.97       478\n",
      "   macro avg       0.98      0.97      0.97       478\n",
      "weighted avg       0.97      0.97      0.97       478\n",
      "\n",
      "\n",
      "--Test Performances --\n",
      "              precision    recall  f1-score   support\n",
      "\n",
      "           0       0.76      0.90      0.82       135\n",
      "           1       0.83      0.61      0.70       101\n",
      "\n",
      "    accuracy                           0.78       236\n",
      "   macro avg       0.79      0.76      0.76       236\n",
      "weighted avg       0.79      0.78      0.77       236\n",
      "\n",
      "======================DONE======================\n",
      "\n"
     ]
    }
   ],
   "source": [
    "# Perhitungan model \n",
    "models = [\n",
    "    LogisticRegression(random_state=0),\n",
    "    KNeighborsClassifier(n_neighbors = 5, metric = 'minkowski', p=2),\n",
    "    SVC(kernel='linear', random_state=0),\n",
    "    SVC(kernel='rbf', random_state=0),\n",
    "    GaussianNB(),\n",
    "    DecisionTreeClassifier(criterion='entropy', random_state=0),\n",
    "    RandomForestClassifier(n_estimators=10, criterion ='entropy', random_state=0)\n",
    "]\n",
    "for model in models:\n",
    "    print(\"Training {}\".format(model.__class__.__name__))\n",
    "    model.fit(X_train, y_train)\n",
    "    train_prediction = model.predict(X_train)\n",
    "    test_prediction = model.predict(X_test)\n",
    "    \n",
    "    print(\"--Training Performance--\")\n",
    "    print(classification_report(y_train, train_prediction))\n",
    "    print()\n",
    "    print(\"--Test Performances --\")\n",
    "    print(classification_report(y_test, test_prediction))\n",
    "    print(\"======================DONE======================\")\n",
    "    print(\"\")"
   ]
  },
  {
   "cell_type": "code",
   "execution_count": 41,
   "id": "7f031c91",
   "metadata": {},
   "outputs": [],
   "source": [
    "# Create a function with many machine learning models\n",
    "\n",
    "def models(X_train, y_train):\n",
    "    #Use Logistic Regression\n",
    "    logReg = LogisticRegression(random_state=0)\n",
    "    logReg.fit(X_train, y_train)\n",
    "    \n",
    "    #Use KNeighbors\n",
    "    knn = KNeighborsClassifier(n_neighbors = 5, metric = 'minkowski', p=2)\n",
    "    knn.fit(X_train, y_train)\n",
    "    \n",
    "    #Use SVC(linear kernel)\n",
    "    svc_l = SVC(kernel='linear', random_state=0)\n",
    "    svc_l.fit(X_train, y_train)\n",
    "    \n",
    "    #Use SVC(RBF kernel)\n",
    "    svc_rbf = SVC(kernel='rbf', random_state=0)\n",
    "    svc_rbf.fit(X_train, y_train)\n",
    "    \n",
    "    #Use GaussianNB\n",
    "    gaussNB = GaussianNB()\n",
    "    gaussNB.fit(X_train, y_train)\n",
    "    \n",
    "    #Use Decision Tree\n",
    "    tree = DecisionTreeClassifier(criterion='entropy', random_state=0)\n",
    "    tree.fit(X_train, y_train)\n",
    "    \n",
    "    #Use the RandomForestClassifier\n",
    "    forest = RandomForestClassifier(n_estimators=10, criterion ='entropy', random_state=0)\n",
    "    forest.fit(X_train, y_train)\n",
    "    \n",
    "    #Print the training accuracy for each model\n",
    "    print('0. Logistic Regression:', logReg.score(X_train, y_train))\n",
    "    print('1. K Neighbors Training:', knn.score(X_train, y_train))\n",
    "    print('2. SVC Linear Training:', svc_l.score(X_train, y_train))\n",
    "    print('3. SVC RBF Training:', svc_rbf.score(X_train, y_train))\n",
    "    print('4. Gaussian NB Training:', gaussNB.score(X_train, y_train))\n",
    "    print('5. Decision Tree Training:', tree.score(X_train, y_train))\n",
    "    print('6. Random Forest Training:', forest.score(X_train, y_train))\n",
    "    \n",
    "    return logReg, knn, svc_l,svc_rbf,gaussNB,tree,forest"
   ]
  },
  {
   "cell_type": "code",
   "execution_count": 42,
   "id": "1fc5d514",
   "metadata": {
    "scrolled": true
   },
   "outputs": [
    {
     "name": "stdout",
     "output_type": "stream",
     "text": [
      "0. Logistic Regression: 0.8138075313807531\n",
      "1. K Neighbors Training: 0.8598326359832636\n",
      "2. SVC Linear Training: 0.7866108786610879\n",
      "3. SVC RBF Training: 0.8410041841004184\n",
      "4. Gaussian NB Training: 0.803347280334728\n",
      "5. Decision Tree Training: 0.9937238493723849\n",
      "6. Random Forest Training: 0.9748953974895398\n"
     ]
    }
   ],
   "source": [
    "# Get and train all of the models\n",
    "model = models(X_train, y_train)"
   ]
  },
  {
   "cell_type": "code",
   "execution_count": 43,
   "id": "b153ede0",
   "metadata": {
    "scrolled": false
   },
   "outputs": [
    {
     "name": "stdout",
     "output_type": "stream",
     "text": [
      "[[117  18]\n",
      " [ 32  69]]\n",
      "Model[0] Testing Accuracy=\"0.788135593220339\"\n"
     ]
    },
    {
     "data": {
      "image/png": "[encoded data removed]",
      "text/plain": [
       "<Figure size 576x576 with 1 Axes>"
      ]
     },
     "metadata": {
      "needs_background": "light"
     },
     "output_type": "display_data"
    },
    {
     "name": "stdout",
     "output_type": "stream",
     "text": [
      "===========================================\n",
      "[[118  17]\n",
      " [ 31  70]]\n",
      "Model[1] Testing Accuracy=\"0.7966101694915254\"\n"
     ]
    },
    {
     "data": {
      "image/png": "[encoded data removed]",
      "text/plain": [
       "<Figure size 576x576 with 1 Axes>"
      ]
     },
     "metadata": {
      "needs_background": "light"
     },
     "output_type": "display_data"
    },
    {
     "name": "stdout",
     "output_type": "stream",
     "text": [
      "===========================================\n",
      "[[116  19]\n",
      " [ 36  65]]\n",
      "Model[2] Testing Accuracy=\"0.7669491525423728\"\n"
     ]
    },
    {
     "data": {
      "image/png": "[encoded data removed]",
      "text/plain": [
       "<Figure size 576x576 with 1 Axes>"
      ]
     },
     "metadata": {
      "needs_background": "light"
     },
     "output_type": "display_data"
    },
    {
     "name": "stdout",
     "output_type": "stream",
     "text": [
      "===========================================\n",
      "[[129   6]\n",
      " [ 41  60]]\n",
      "Model[3] Testing Accuracy=\"0.8008474576271186\"\n"
     ]
    },
    {
     "data": {
      "image/png": "[encoded data removed]",
      "text/plain": [
       "<Figure size 576x576 with 1 Axes>"
      ]
     },
     "metadata": {
      "needs_background": "light"
     },
     "output_type": "display_data"
    },
    {
     "name": "stdout",
     "output_type": "stream",
     "text": [
      "===========================================\n",
      "[[115  20]\n",
      " [ 33  68]]\n",
      "Model[4] Testing Accuracy=\"0.7754237288135594\"\n"
     ]
    },
    {
     "data": {
      "image/png": "[encoded data removed]",
      "text/plain": [
       "<Figure size 576x576 with 1 Axes>"
      ]
     },
     "metadata": {
      "needs_background": "light"
     },
     "output_type": "display_data"
    },
    {
     "name": "stdout",
     "output_type": "stream",
     "text": [
      "===========================================\n",
      "[[109  26]\n",
      " [ 40  61]]\n",
      "Model[5] Testing Accuracy=\"0.7203389830508474\"\n"
     ]
    },
    {
     "data": {
      "image/png": "[encoded data removed]",
      "text/plain": [
       "<Figure size 576x576 with 1 Axes>"
      ]
     },
     "metadata": {
      "needs_background": "light"
     },
     "output_type": "display_data"
    },
    {
     "name": "stdout",
     "output_type": "stream",
     "text": [
      "===========================================\n",
      "[[122  13]\n",
      " [ 39  62]]\n",
      "Model[6] Testing Accuracy=\"0.7796610169491526\"\n"
     ]
    },
    {
     "data": {
      "image/png": "[encoded data removed]",
      "text/plain": [
       "<Figure size 576x576 with 1 Axes>"
      ]
     },
     "metadata": {
      "needs_background": "light"
     },
     "output_type": "display_data"
    },
    {
     "name": "stdout",
     "output_type": "stream",
     "text": [
      "===========================================\n"
     ]
    }
   ],
   "source": [
    "for i in range(len(model)):\n",
    "    cm = confusion_matrix(y_test, model[i].predict(X_test))\n",
    "    \n",
    "    #Extract TN, FP, FN, TP\n",
    "    TN, FP, FN, TP = confusion_matrix(y_test, model[i].predict(X_test)).ravel()\n",
    "    test_score = (TP + TN) / (TP + TN + FN + FP)\n",
    "                                      \n",
    "    print(cm)\n",
    "    print('Model[{}] Testing Accuracy=\"{}\"'.format(i, test_score))\n",
    "    fig,ax = plt.subplots(figsize=(8,8))\n",
    "    ax.imshow(cm)\n",
    "    ax.grid(False)\n",
    "    ax.set_ylabel(\"Actual Class\")\n",
    "    ax.set_xlabel(\"Predicted Class\")\n",
    "    ax.yaxis.set(ticks=range(2),ticklabels=(\"Actual Not Survived\", \"Actual Survived\"))\n",
    "    ax.xaxis.set(ticks=range(2),ticklabels=(\"Predicted Not Survived\", \"Predicted Survived\"))\n",
    "    ax.xaxis.set(ticks=range(2))\n",
    "    ax.yaxis.set(ticks=range(2))\n",
    "    for i in range(2):\n",
    "        for j in range(2):\n",
    "            ax.text(j, i, cm[i, j], ha=\"center\", va=\"center\", color=\"white\")\n",
    "    plt.title(\"Confusion Matrix\")\n",
    "    plt.show()\n",
    "    print(\"===========================================\")\n"
   ]
  },
  {
   "cell_type": "code",
   "execution_count": 44,
   "id": "2ec4c1ed",
   "metadata": {},
   "outputs": [
    {
     "name": "stdout",
     "output_type": "stream",
     "text": [
      "Hasil Akurasi KNN model lama: 0.797\n"
     ]
    }
   ],
   "source": [
    "knn_1 = KNeighborsClassifier(n_neighbors = 5, metric = 'minkowski', p=2)\n",
    "knn_1.fit(X_train, y_train)\n",
    "test_prediction_knn_1 = knn_1.predict(X_test)\n",
    "print(\"Hasil Akurasi KNN model lama:\",round(accuracy_score(y_test,test_prediction_knn_1),3))"
   ]
  },
  {
   "cell_type": "code",
   "execution_count": 45,
   "id": "b47b2d1b",
   "metadata": {},
   "outputs": [
    {
     "name": "stdout",
     "output_type": "stream",
     "text": [
      "Hasil Akurasi SVC model lama: 0.797\n"
     ]
    }
   ],
   "source": [
    "svc_rbf_1 = SVC(kernel='rbf', random_state=0)\n",
    "svc_rbf_1.fit(X_train, y_train)\n",
    "test_prediction_svc_1 = knn_1.predict(X_test)\n",
    "print(\"Hasil Akurasi SVC model lama:\",round(accuracy_score(y_test,test_prediction_svc_1),3))"
   ]
  },
  {
   "cell_type": "markdown",
   "id": "59feabee",
   "metadata": {},
   "source": [
    "Berdasarkan hasil akurasi training dan test nilai model yang paling seimbang dan masih dianggap cukup baik adalah model **KNeighbors Classifier train (86%) test(80%) dan SVC(rbf) train(84%) test(80%)** dikarenakan nilai akurasi training dan test tidak terlalu berbeda, Hasil akurasi juga sama maka kita bisa memilih dari salah satu model tersebut. Sekarang saya ingin memilih model KNN."
   ]
  },
  {
   "cell_type": "markdown",
   "id": "a418f899",
   "metadata": {},
   "source": [
    "## Change hyperparameters\n",
    "Kita perlu mencoba kembali model kita agar memiliki hasil akurasi lebih tinggi dibanding sebelumnya, maka itu n_neighbors kita maksimalkan menjadi 20. Dan metric nya menggunakan euclidean untuk biasanya menghasilkan nilai akurasi yang lebih maksimal dikarenakan euclidean bisa menghasilkan akurasi yang tepat, kemudian kita tambahkan leaf_size sebesar 20."
   ]
  },
  {
   "cell_type": "code",
   "execution_count": 46,
   "id": "59bab1de",
   "metadata": {},
   "outputs": [],
   "source": [
    "errors=[]\n",
    "accuracies = []\n",
    "for k in range(1, 21):\n",
    "    knn = KNeighborsClassifier(n_neighbors =k)\n",
    "    knn.fit(X_train, y_train)\n",
    "    pred = knn.predict(X_test)\n",
    "    accuracy = np.mean(pred == y_test)\n",
    "    error = np.mean(pred !=y_test)\n",
    "    accuracies.append(accuracy)\n",
    "    errors.append(error)"
   ]
  },
  {
   "cell_type": "code",
   "execution_count": 47,
   "id": "0bcb7f75",
   "metadata": {
    "scrolled": false
   },
   "outputs": [
    {
     "data": {
      "image/png": "[encoded data removed]",
      "text/plain": [
       "<Figure size 720x432 with 1 Axes>"
      ]
     },
     "metadata": {
      "needs_background": "light"
     },
     "output_type": "display_data"
    }
   ],
   "source": [
    "plt.figure(figsize=(10,6))\n",
    "plt.plot(range(1,21),accuracies, color=\"blue\", linestyle=\"dashed\", marker=\"o\", markerfacecolor=\"green\", markersize =10)\n",
    "plt.title(\"Accuracy Rate for Each k(1-20)\")\n",
    "plt.xlabel(\"k\")\n",
    "plt.xticks(range(1,21))\n",
    "plt.ylabel(\"Average Error\")\n",
    "plt.show()"
   ]
  },
  {
   "cell_type": "markdown",
   "id": "eda3d3d8",
   "metadata": {},
   "source": [
    "***K = 13 yang memiliki akurasi yang paling tinggi***"
   ]
  },
  {
   "cell_type": "code",
   "execution_count": 48,
   "id": "e2bc8d76",
   "metadata": {
    "scrolled": false
   },
   "outputs": [
    {
     "data": {
      "image/png": "[encoded data removed]",
      "text/plain": [
       "<Figure size 432x288 with 1 Axes>"
      ]
     },
     "metadata": {
      "needs_background": "light"
     },
     "output_type": "display_data"
    }
   ],
   "source": [
    "#plt.figure(figsize=(10,6))\n",
    "plt.plot(range(1,21), errors, color=\"red\", linestyle=\"dashed\", marker=\"o\", markerfacecolor=\"blue\", markersize =10)\n",
    "plt.title(\"Error Rate for Each k(1-20)\")\n",
    "plt.xlabel(\"k\")\n",
    "plt.xticks(range(1,21))\n",
    "plt.ylabel(\"Average Error\")\n",
    "plt.show()"
   ]
  },
  {
   "cell_type": "markdown",
   "id": "23ed6bc1",
   "metadata": {},
   "source": [
    "***k=11 dan k=13 memiliki error yang paling rendah***"
   ]
  },
  {
   "cell_type": "code",
   "execution_count": 49,
   "id": "e517a5cf",
   "metadata": {},
   "outputs": [
    {
     "data": {
      "text/plain": [
       "KNeighborsClassifier(leaf_size=20, metric='euclidean', n_neighbors=13, p=1)"
      ]
     },
     "execution_count": 49,
     "metadata": {},
     "output_type": "execute_result"
    }
   ],
   "source": [
    "knn_2 = KNeighborsClassifier(n_neighbors = 13,leaf_size =20,p=1,metric = 'euclidean')\n",
    "knn_2.fit(X_train, y_train)"
   ]
  },
  {
   "cell_type": "code",
   "execution_count": 50,
   "id": "c81de371",
   "metadata": {
    "scrolled": false
   },
   "outputs": [
    {
     "name": "stdout",
     "output_type": "stream",
     "text": [
      "--Training Performance--\n",
      "              precision    recall  f1-score   support\n",
      "\n",
      "           0       0.85      0.89      0.87       289\n",
      "           1       0.82      0.76      0.79       189\n",
      "\n",
      "    accuracy                           0.84       478\n",
      "   macro avg       0.84      0.82      0.83       478\n",
      "weighted avg       0.84      0.84      0.84       478\n",
      "\n",
      "--Testing Performance--\n",
      "              precision    recall  f1-score   support\n",
      "\n",
      "           0       0.79      0.90      0.84       135\n",
      "           1       0.83      0.68      0.75       101\n",
      "\n",
      "    accuracy                           0.81       236\n",
      "   macro avg       0.81      0.79      0.80       236\n",
      "weighted avg       0.81      0.81      0.80       236\n",
      "\n"
     ]
    }
   ],
   "source": [
    "train_prediction_knn_2 = knn_2.predict(X_train)\n",
    "test_prediction_knn_2 = knn_2.predict(X_test)\n",
    "    \n",
    "print(\"--Training Performance--\")\n",
    "print(classification_report(y_train, train_prediction_knn_2))\n",
    "print(\"--Testing Performance--\")\n",
    "print(classification_report(y_test, test_prediction_knn_2))"
   ]
  },
  {
   "cell_type": "code",
   "execution_count": 51,
   "id": "ed977218",
   "metadata": {},
   "outputs": [
    {
     "name": "stdout",
     "output_type": "stream",
     "text": [
      "Hasil Akurasi KNN model lama: 0.797\n"
     ]
    }
   ],
   "source": [
    "knn_1 = KNeighborsClassifier(n_neighbors = 5, metric = 'minkowski', p=2)\n",
    "knn_1.fit(X_train, y_train)\n",
    "test_prediction_knn_1 = knn_1.predict(X_test)\n",
    "print(\"Hasil Akurasi KNN model lama:\",round(accuracy_score(y_test,test_prediction_knn_1),3))"
   ]
  },
  {
   "cell_type": "code",
   "execution_count": 52,
   "id": "a4845f29",
   "metadata": {},
   "outputs": [
    {
     "name": "stdout",
     "output_type": "stream",
     "text": [
      "Hasil Akurasi KNN model baru: 0.805\n"
     ]
    }
   ],
   "source": [
    "print(\"Hasil Akurasi KNN model baru:\",round(accuracy_score(y_test,test_prediction_knn_2),3))"
   ]
  },
  {
   "cell_type": "markdown",
   "id": "8db26e0f",
   "metadata": {},
   "source": [
    "**Setelah kita menggunakan k=13 hasilnya ternyata lebih baik dibandingkan k=5. Maka, kita akan gunakan nilai k=13 sebagai model prediksi**"
   ]
  },
  {
   "cell_type": "markdown",
   "id": "5072b287",
   "metadata": {},
   "source": [
    "## Grid Search CV\n",
    "***Selain itu, kita akan mencoba mencari angka hyperparameter yang tepat untuk model ini dengan menggunakan GridSearchCV***"
   ]
  },
  {
   "cell_type": "code",
   "execution_count": 53,
   "id": "e076a150",
   "metadata": {},
   "outputs": [],
   "source": [
    "#List Hyperparameters that we want to tune.\n",
    "leaf_size = list(range(1,30))\n",
    "n_neighbors = list(range(1,30))\n",
    "p=[1,2]"
   ]
  },
  {
   "cell_type": "code",
   "execution_count": 54,
   "id": "a2d11689",
   "metadata": {},
   "outputs": [],
   "source": [
    "#Convert to dictionary\n",
    "hyperparameters = dict(leaf_size=leaf_size, n_neighbors=n_neighbors, p=p)"
   ]
  },
  {
   "cell_type": "code",
   "execution_count": 55,
   "id": "400dedca",
   "metadata": {},
   "outputs": [],
   "source": [
    "#cv itu cross validation\n",
    "clf = GridSearchCV(KNeighborsClassifier(), hyperparameters, cv=3, scoring ='accuracy')"
   ]
  },
  {
   "cell_type": "code",
   "execution_count": 56,
   "id": "8c2a8d4e",
   "metadata": {},
   "outputs": [],
   "source": [
    "#Fit the model\n",
    "best_model = clf.fit(X_test,y_test)"
   ]
  },
  {
   "cell_type": "code",
   "execution_count": 57,
   "id": "3c90cab9",
   "metadata": {
    "scrolled": false
   },
   "outputs": [
    {
     "name": "stdout",
     "output_type": "stream",
     "text": [
      "Best leaf_size: 1\n",
      "Best p: 2\n",
      "Best n_neighbors: 17\n"
     ]
    }
   ],
   "source": [
    "#Nilai hyperpaameters terbaik\n",
    "print('Best leaf_size:', best_model.best_estimator_.get_params()['leaf_size'])\n",
    "print('Best p:', best_model.best_estimator_.get_params()['p'])\n",
    "print('Best n_neighbors:', best_model.best_estimator_.get_params()['n_neighbors'])"
   ]
  },
  {
   "cell_type": "markdown",
   "id": "a87113e0",
   "metadata": {},
   "source": [
    "***Mari kita coba hasilnya hyperparameter yang telah disediakan apakah lebih baik dibanding sebelumnya atau sama saja?***"
   ]
  },
  {
   "cell_type": "code",
   "execution_count": 58,
   "id": "e6acf02d",
   "metadata": {},
   "outputs": [
    {
     "name": "stdout",
     "output_type": "stream",
     "text": [
      "Hasil Akurasi KNN model lama: 0.78\n"
     ]
    }
   ],
   "source": [
    "knn_3 = KNeighborsClassifier(n_neighbors = 17,metric=\"euclidean\",leaf_size=1, p=2)\n",
    "knn_3.fit(X_train, y_train)\n",
    "test_prediction_knn_3 = knn_3.predict(X_test)\n",
    "print(\"Hasil Akurasi KNN model lama:\",round(accuracy_score(y_test,test_prediction_knn_3),3))"
   ]
  },
  {
   "cell_type": "markdown",
   "id": "8e44cec7",
   "metadata": {},
   "source": [
    "***nyatanya nilai akurasi lebih rendah hanya 0.1 saja, maka kita gunakan model yang kedua untuk sebagai model prediksi***"
   ]
  },
  {
   "cell_type": "markdown",
   "id": "dd15246c",
   "metadata": {},
   "source": [
    "## Model  Prediction"
   ]
  },
  {
   "cell_type": "code",
   "execution_count": 59,
   "id": "e50d6aba",
   "metadata": {
    "scrolled": true
   },
   "outputs": [
    {
     "name": "stdout",
     "output_type": "stream",
     "text": [
      "[0 1 0 0 0 1 0 0 1 0 0 1 0 1 0 0 1 1 0 0 1 0 0 1 0 1 1 0 0 0 1 1 0 0 0 0 1\n",
      " 0 1 0 0 0 1 1 1 1 0 1 1 1 0 0 1 1 0 0 0 0 0 1 0 0 1 0 1 0 0 0 0 0 0 0 0 0\n",
      " 0 0 0 1 1 0 1 0 0 0 0 1 0 0 0 0 0 0 1 0 0 1 0 0 1 1 0 1 1 0 0 1 1 0 0 1 1\n",
      " 1 1 1 0 1 0 0 0 0 1 0 1 0 1 0 0 0 0 0 0 0 1 0 0 0 0 1 0 1 0 0 0 0 0 1 0 0\n",
      " 0 0 0 0 1 0 0 1 0 0 0 0 0 1 0 0 0 0 1 1 1 1 0 1 1 0 0 0 1 0 0 1 1 0 1 0 0\n",
      " 1 0 1 1 1 1 0 0 0 0 1 1 0 0 0 1 0 0 0 1 0 0 0 0 1 1 0 0 1 0 0 1 1 0 1 0 1\n",
      " 0 0 1 0 1 1 0 1 0 0 1 0 0 1]\n",
      "\n",
      "480    0\n",
      "325    1\n",
      "141    1\n",
      "541    0\n",
      "242    0\n",
      "      ..\n",
      "637    0\n",
      "830    1\n",
      "125    1\n",
      "252    0\n",
      "701    1\n",
      "Name: Survived, Length: 236, dtype: int64\n"
     ]
    }
   ],
   "source": [
    "# print prediction of KNeighbors Classifier model\n",
    "pred = model[1].predict(X_test)\n",
    "print(pred)\n",
    "\n",
    "print()\n",
    "\n",
    "# print the actual values\n",
    "print(y_test)"
   ]
  },
  {
   "cell_type": "code",
   "execution_count": 60,
   "id": "5f2bbe05",
   "metadata": {
    "scrolled": true
   },
   "outputs": [
    {
     "name": "stdout",
     "output_type": "stream",
     "text": [
      "[0 1 1 0 0 1 0 0 1 1 0 0 0 1 0 0 1 1 0 0 1 0 0 1 0 1 1 0 0 0 1 1 0 0 0 0 1\n",
      " 0 1 0 0 0 1 0 0 1 0 1 1 1 0 0 0 1 0 0 0 0 0 1 0 0 0 1 1 0 0 0 0 0 0 0 0 0\n",
      " 0 0 0 1 1 0 1 0 0 0 0 1 0 0 0 0 0 0 1 1 0 1 0 0 1 1 0 1 1 0 0 1 1 0 0 1 1\n",
      " 1 0 1 0 1 0 1 0 1 1 0 1 0 1 0 0 0 0 0 0 0 1 0 0 0 0 1 0 1 0 0 0 0 0 1 0 0\n",
      " 0 0 0 0 1 0 0 1 0 0 0 0 0 0 0 0 0 0 0 1 1 0 0 0 1 0 0 0 1 0 0 0 1 0 1 0 0\n",
      " 1 0 1 1 1 1 1 0 0 0 1 1 0 0 1 1 0 0 0 1 0 1 0 0 1 0 0 0 1 0 0 1 1 0 1 0 1\n",
      " 0 0 0 0 1 1 0 1 0 0 1 0 0 1]\n"
     ]
    }
   ],
   "source": [
    "# print prediction of KNeighbors Classifier Second model \n",
    "pred = knn_2.predict(X_test)\n",
    "print(pred)"
   ]
  },
  {
   "cell_type": "code",
   "execution_count": 61,
   "id": "454ecaed",
   "metadata": {},
   "outputs": [
    {
     "name": "stdout",
     "output_type": "stream",
     "text": [
      "[0 1 0 0 0 1 0 0 0 0 0 1 0 0 0 0 1 1 0 0 1 0 0 0 0 0 1 0 0 0 1 1 0 0 0 0 1\n",
      " 0 1 0 0 0 1 0 0 1 0 1 1 1 0 0 0 1 0 0 0 0 1 1 0 0 0 0 1 1 0 0 0 0 0 0 0 0\n",
      " 0 0 0 1 1 0 1 0 0 0 0 1 0 0 0 0 0 0 1 1 0 1 0 0 1 0 0 1 0 0 0 1 1 0 0 1 1\n",
      " 0 0 1 0 1 0 0 0 1 1 1 1 0 1 0 0 0 0 0 0 0 1 0 0 0 0 1 0 1 0 0 0 0 0 0 0 0\n",
      " 0 0 0 0 1 0 0 1 0 0 0 0 0 0 0 0 0 0 0 1 1 0 0 0 1 0 0 0 1 0 0 0 0 0 1 0 0\n",
      " 1 0 1 1 0 1 0 0 0 0 1 1 0 0 0 1 0 0 0 1 0 0 0 0 1 0 0 1 0 0 0 1 1 0 1 0 1\n",
      " 0 0 0 0 1 1 0 1 0 0 1 0 0 0]\n"
     ]
    }
   ],
   "source": [
    "# print prediction of KNeighbors Classifier third model \n",
    "pred = knn_3.predict(X_test)\n",
    "print(pred)"
   ]
  },
  {
   "cell_type": "markdown",
   "id": "4b784100",
   "metadata": {},
   "source": [
    "# Evaluation Model"
   ]
  },
  {
   "cell_type": "markdown",
   "id": "67b94f7b",
   "metadata": {},
   "source": [
    " Mari kita coba untuk model yang telah dibuat apakah berhasil dapat memprediksi atau tidak. Kita akan gunakan atribut di bawah ini sebagai evaluasi model:\n",
    "- **pclass =3, sex=1, age=21, sibsp=0, parch=0, fare=0, embarked=1**, kita asumsikan dengan kriteria tersebut tidak akan selamat dikarenakan seorang pria berada di kelas 3 dengan memiliki umur yang masih muda.\n",
    "- **pclass =1, sex=0, age=20, sibsp=2, parch=1, fare=71.2833, embarked=0**, kita asumsikan dengan kriteria tersebut akan selamat dikarenakan seorang perempuan berada di kelas 1 dengan umur yang masih muda.\n"
   ]
  },
  {
   "cell_type": "markdown",
   "id": "97648b9a",
   "metadata": {},
   "source": [
    "## **First Model : K= 5**"
   ]
  },
  {
   "cell_type": "code",
   "execution_count": 62,
   "id": "efde3a5e",
   "metadata": {
    "scrolled": true
   },
   "outputs": [
    {
     "name": "stdout",
     "output_type": "stream",
     "text": [
      "[1]\n",
      "Nice! You survived\n"
     ]
    }
   ],
   "source": [
    "# my survival\n",
    "my_survival = [[1,0,20,2,1,71.2833,0]]\n",
    "#scalling y survival\n",
    "#sc = StandardScaler()\n",
    "#my_survival_scaled = sc.fit_transform(my_survival)\n",
    "#print prediction of my survival using Random Forest Classifier\n",
    "pred  = model[1].predict(my_survival)\n",
    "print(pred)\n",
    "\n",
    "if pred == 0:\n",
    "  print(\"Oh no! You didn't make it\")\n",
    "else:\n",
    "  print('Nice! You survived')"
   ]
  },
  {
   "cell_type": "code",
   "execution_count": 63,
   "id": "8c9455ca",
   "metadata": {
    "scrolled": true
   },
   "outputs": [
    {
     "name": "stdout",
     "output_type": "stream",
     "text": [
      "[0]\n",
      "Oh no! You didn't make it\n"
     ]
    }
   ],
   "source": [
    "# my survival\n",
    "my_survival = [[3,1,21,0,0,0,1]]\n",
    "\n",
    "#print prediction of my survival using Random Forest Classifier\n",
    "pred  = model[1].predict(my_survival)\n",
    "print(pred)\n",
    "\n",
    "if pred == 0:\n",
    "  print(\"Oh no! You didn't make it\")\n",
    "else:\n",
    "  print('Nice! You survived')"
   ]
  },
  {
   "cell_type": "markdown",
   "id": "0823ce90",
   "metadata": {},
   "source": [
    "## Second Model : KNN_2,  K=13"
   ]
  },
  {
   "cell_type": "code",
   "execution_count": 64,
   "id": "f10f1879",
   "metadata": {},
   "outputs": [
    {
     "name": "stdout",
     "output_type": "stream",
     "text": [
      "[1]\n",
      "Nice! You survived\n"
     ]
    }
   ],
   "source": [
    "# my survival\n",
    "my_survival = [[1,0,20,2,1,71.2833,0]]\n",
    "#scalling y survival\n",
    "#sc = StandardScaler()\n",
    "#my_survival_scaled = sc.fit_transform(my_survival)\n",
    "#print prediction of my survival using Random Forest Classifier\n",
    "pred  = knn_2.predict(my_survival)\n",
    "print(pred)\n",
    "\n",
    "if pred == 0:\n",
    "  print(\"Oh no! You didn't make it\")\n",
    "else:\n",
    "  print('Nice! You survived')"
   ]
  },
  {
   "cell_type": "code",
   "execution_count": 65,
   "id": "5aec6d53",
   "metadata": {},
   "outputs": [
    {
     "name": "stdout",
     "output_type": "stream",
     "text": [
      "[0]\n",
      "Oh no! You didn't make it\n"
     ]
    }
   ],
   "source": [
    "# my survival\n",
    "my_survival = [[3,1,21,0,0,0,1]]\n",
    "\n",
    "#print prediction of my survival using Random Forest Classifier\n",
    "pred  = knn_2.predict(my_survival)\n",
    "print(pred)\n",
    "\n",
    "if pred == 0:\n",
    "  print(\"Oh no! You didn't make it\")\n",
    "else:\n",
    "  print('Nice! You survived')"
   ]
  },
  {
   "cell_type": "markdown",
   "id": "dbf1e4f6",
   "metadata": {},
   "source": [
    "## Third Model : KNN_3, K=17"
   ]
  },
  {
   "cell_type": "code",
   "execution_count": 66,
   "id": "f08f5381",
   "metadata": {},
   "outputs": [
    {
     "name": "stdout",
     "output_type": "stream",
     "text": [
      "[1]\n",
      "Nice! You survived\n"
     ]
    }
   ],
   "source": [
    "# my survival\n",
    "my_survival = [[1,0,20,2,1,71.2833,0]]\n",
    "#scalling y survival\n",
    "#sc = StandardScaler()\n",
    "#my_survival_scaled = sc.fit_transform(my_survival)\n",
    "#print prediction of my survival using Random Forest Classifier\n",
    "pred  = knn_3.predict(my_survival)\n",
    "print(pred)\n",
    "\n",
    "if pred == 0:\n",
    "  print(\"Oh no! You didn't make it\")\n",
    "else:\n",
    "  print('Nice! You survived')"
   ]
  },
  {
   "cell_type": "code",
   "execution_count": 67,
   "id": "f439737e",
   "metadata": {},
   "outputs": [
    {
     "name": "stdout",
     "output_type": "stream",
     "text": [
      "[0]\n",
      "Oh no! You didn't make it\n"
     ]
    }
   ],
   "source": [
    "# my survival\n",
    "my_survival = [[3,1,21,0,0,0,1]]\n",
    "\n",
    "#print prediction of my survival using Random Forest Classifier\n",
    "pred  = knn_3.predict(my_survival)\n",
    "print(pred)\n",
    "\n",
    "if pred == 0:\n",
    "  print(\"Oh no! You didn't make it\")\n",
    "else:\n",
    "  print('Nice! You survived')"
   ]
  },
  {
   "cell_type": "markdown",
   "id": "8195187d",
   "metadata": {},
   "source": [
    "**Dari hasil evaluasi model diketahui bahwa ketiga model sudah dapat berjalan dan dapat memprediksi dengan baik. Namun, hanya satu model yang dapat kita pilih yaitu model kedua dengan k=13 yang akan menjadi model untuk memprediksi keselamatan penumpang.**"
   ]
  },
  {
   "cell_type": "markdown",
   "id": "a74e408d",
   "metadata": {},
   "source": [
    "### Kesimpulan"
   ]
  },
  {
   "cell_type": "markdown",
   "id": "b1d68ea9",
   "metadata": {},
   "source": [
    "Kesimpulan model K-Nearest Neighbors (k-13) yang telah dibangun cukup bagus yaitu dengan nilai akurasi 0.80 dengan nilai akurasi seperti itu dapat memprediksi nilai secara akurat pada dataset Titanic. Model ini dapat memprediksi secara akurat siapa yang akan bertahan dan siapa yang tidak akan bertahan. Melalui visualisasi kami menemukan bahwa perempuan memilki lebih banyak peluang untuk bertahan hidup daripada laki-laki, kelas 1 memiliki lebih banyak kesempatan untuk hidup. Namun, kelompok usia muda 20-35 tahun laki-laki dari kelas 3 akan sulit untuk selamat. "
   ]
  }
 ],
 "metadata": {
  "kernelspec": {
   "display_name": "Python 3",
   "language": "python",
   "name": "python3"
  },
  "language_info": {
   "codemirror_mode": {
    "name": "ipython",
    "version": 3
   },
   "file_extension": ".py",
   "mimetype": "text/x-python",
   "name": "python",
   "nbconvert_exporter": "python",
   "pygments_lexer": "ipython3",
   "version": "3.9.4"
  }
 },
 "nbformat": 4,
 "nbformat_minor": 5
}
